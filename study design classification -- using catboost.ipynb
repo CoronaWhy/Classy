{
 "cells": [
  {
   "cell_type": "code",
   "execution_count": 3,
   "metadata": {},
   "outputs": [
    {
     "name": "stdout",
     "output_type": "stream",
     "text": [
      "The autoreload extension is already loaded. To reload it, use:\n",
      "  %reload_ext autoreload\n"
     ]
    }
   ],
   "source": [
    "from common.logging import create_logger\n",
    "from pathlib import Path\n",
    "import pandas as pd\n",
    "from datasets import single_label_multiclass_annotated_study_design, enrich_annotations, annotations_with_specter_embeddings\n",
    "from classifier import train_validate_catboost_model\n",
    "from datetime import datetime\n",
    "import matplotlib.pyplot as plt\n",
    "from tqdm import tqdm\n",
    "%matplotlib inline\n",
    "%load_ext autoreload\n",
    "%autoreload 2"
   ]
  },
  {
   "cell_type": "markdown",
   "metadata": {},
   "source": [
    "Fetch the datasets (using David's annotations)"
   ]
  },
  {
   "cell_type": "code",
   "execution_count": 2,
   "metadata": {},
   "outputs": [],
   "source": [
    "\n",
    "data_dir = Path('/media/wwymak/Storage/coronawhy/nlp_datasets')\n",
    "annotations_filepath = (data_dir / 'cord19_study_design_labelled' / 'design.csv')\n",
    "metadata_filepath   = data_dir/'metadata.csv.zip'\n",
    "processed_article_folder = data_dir / 'v8'/ 'processed_text'\n",
    "# annotations + metadata from kaggle to get the title + abstract. \n",
    "annotations_raw = single_label_multiclass_annotated_study_design(annotations_filepath, metadata_filepath)"
   ]
  },
  {
   "cell_type": "code",
   "execution_count": 3,
   "metadata": {
    "scrolled": true
   },
   "outputs": [
    {
     "data": {
      "text/html": [
       "<div>\n",
       "<style scoped>\n",
       "    .dataframe tbody tr th:only-of-type {\n",
       "        vertical-align: middle;\n",
       "    }\n",
       "\n",
       "    .dataframe tbody tr th {\n",
       "        vertical-align: top;\n",
       "    }\n",
       "\n",
       "    .dataframe thead th {\n",
       "        text-align: right;\n",
       "    }\n",
       "</style>\n",
       "<table border=\"1\" class=\"dataframe\">\n",
       "  <thead>\n",
       "    <tr style=\"text-align: right;\">\n",
       "      <th></th>\n",
       "      <th>sha</th>\n",
       "      <th>cord_uid</th>\n",
       "      <th>label</th>\n",
       "      <th>title</th>\n",
       "      <th>abstract</th>\n",
       "      <th>label_string</th>\n",
       "    </tr>\n",
       "  </thead>\n",
       "  <tbody>\n",
       "    <tr>\n",
       "      <th>0</th>\n",
       "      <td>03cda737465b68fbf1a76dafe2e3788961f986be</td>\n",
       "      <td>4a5zy5wu</td>\n",
       "      <td>0</td>\n",
       "      <td>Monitoring Transmissibility and Mortality of C...</td>\n",
       "      <td>Abstract Objectives As a global pandemic is in...</td>\n",
       "      <td>Other</td>\n",
       "    </tr>\n",
       "    <tr>\n",
       "      <th>5</th>\n",
       "      <td>059d5acb8af8bd2bedab06b5dcc0510691fe0f1e</td>\n",
       "      <td>31i1k332</td>\n",
       "      <td>0</td>\n",
       "      <td>Laboratory readiness and response for novel co...</td>\n",
       "      <td>Timely detection of novel coronavirus (2019-nC...</td>\n",
       "      <td>Other</td>\n",
       "    </tr>\n",
       "    <tr>\n",
       "      <th>7</th>\n",
       "      <td>0760e79585cd85c7e9a59f88188b915955aa3926</td>\n",
       "      <td>iyv86437</td>\n",
       "      <td>0</td>\n",
       "      <td>And now for something completely different: fr...</td>\n",
       "      <td>Infectious diseases have accompanied mankind s...</td>\n",
       "      <td>Other</td>\n",
       "    </tr>\n",
       "    <tr>\n",
       "      <th>11</th>\n",
       "      <td>0aff00101d5ccc6592987185ab833f95d842f98b</td>\n",
       "      <td>g5wpa2ee</td>\n",
       "      <td>0</td>\n",
       "      <td>Potentially highly potent drugs for 2019-nCoV</td>\n",
       "      <td>AbstractThe World Health Organization (WHO) ha...</td>\n",
       "      <td>Other</td>\n",
       "    </tr>\n",
       "    <tr>\n",
       "      <th>12</th>\n",
       "      <td>0bd443591b5e10934beef050b516afeca6b668fe</td>\n",
       "      <td>3kp3ptbn</td>\n",
       "      <td>0</td>\n",
       "      <td>A simple model to assess Wuhan lock-down effec...</td>\n",
       "      <td>Since COVID-19 emerged in early December, 2019...</td>\n",
       "      <td>Other</td>\n",
       "    </tr>\n",
       "  </tbody>\n",
       "</table>\n",
       "</div>"
      ],
      "text/plain": [
       "                                         sha  cord_uid  label  \\\n",
       "0   03cda737465b68fbf1a76dafe2e3788961f986be  4a5zy5wu      0   \n",
       "5   059d5acb8af8bd2bedab06b5dcc0510691fe0f1e  31i1k332      0   \n",
       "7   0760e79585cd85c7e9a59f88188b915955aa3926  iyv86437      0   \n",
       "11  0aff00101d5ccc6592987185ab833f95d842f98b  g5wpa2ee      0   \n",
       "12  0bd443591b5e10934beef050b516afeca6b668fe  3kp3ptbn      0   \n",
       "\n",
       "                                                title  \\\n",
       "0   Monitoring Transmissibility and Mortality of C...   \n",
       "5   Laboratory readiness and response for novel co...   \n",
       "7   And now for something completely different: fr...   \n",
       "11      Potentially highly potent drugs for 2019-nCoV   \n",
       "12  A simple model to assess Wuhan lock-down effec...   \n",
       "\n",
       "                                             abstract label_string  \n",
       "0   Abstract Objectives As a global pandemic is in...        Other  \n",
       "5   Timely detection of novel coronavirus (2019-nC...        Other  \n",
       "7   Infectious diseases have accompanied mankind s...        Other  \n",
       "11  AbstractThe World Health Organization (WHO) ha...        Other  \n",
       "12  Since COVID-19 emerged in early December, 2019...        Other  "
      ]
     },
     "execution_count": 3,
     "metadata": {},
     "output_type": "execute_result"
    }
   ],
   "source": [
    "annotations_raw.head()"
   ]
  },
  {
   "cell_type": "code",
   "execution_count": 4,
   "metadata": {},
   "outputs": [
    {
     "data": {
      "text/plain": [
       "<matplotlib.axes._subplots.AxesSubplot at 0x7ff3e77faa10>"
      ]
     },
     "execution_count": 4,
     "metadata": {},
     "output_type": "execute_result"
    },
    {
     "data": {
      "image/png": "[encoded data removed]",
      "text/plain": [
       "<Figure size 432x288 with 1 Axes>"
      ]
     },
     "metadata": {
      "needs_background": "light"
     },
     "output_type": "display_data"
    }
   ],
   "source": [
    "annotations_raw.label_string.value_counts().sort_index().plot.bar()"
   ]
  },
  {
   "cell_type": "markdown",
   "metadata": {},
   "source": [
    "classification with catboost on annotations title + abstract, using text features"
   ]
  },
  {
   "cell_type": "code",
   "execution_count": 5,
   "metadata": {},
   "outputs": [
    {
     "name": "stderr",
     "output_type": "stream",
     "text": [
      "  0%|          | 0/5 [00:00<?, ?it/s]2020-04-27 21:49:12,865::INFO::catboost_classifier.py::43  accuracy: 0.7986577181208053\n",
      "2020-04-27 21:49:12,866::INFO::catboost_classifier.py::44  f1: [0.66666667 1.         0.96551724 0.54545455 0.2        0.72727273\n",
      " 0.95652174 1.         0.8        0.73972603]\n",
      "2020-04-27 21:49:12,866::INFO::catboost_classifier.py::45  f1_macro: 0.7601158947300946\n",
      " 20%|██        | 1/5 [00:12<00:49, 12.25s/it]2020-04-27 21:49:24,904::INFO::catboost_classifier.py::43  accuracy: 0.7181208053691275\n",
      "2020-04-27 21:49:24,904::INFO::catboost_classifier.py::44  f1: [0.54545455 0.88888889 1.         0.33333333 0.57142857 0.53846154\n",
      " 0.8        0.94117647 0.68965517 0.74666667]\n",
      "2020-04-27 21:49:24,905::INFO::catboost_classifier.py::45  f1_macro: 0.7055065187235573\n",
      " 40%|████      | 2/5 [00:24<00:36, 12.19s/it]2020-04-27 21:49:37,139::INFO::catboost_classifier.py::43  accuracy: 0.7651006711409396\n",
      "2020-04-27 21:49:37,140::INFO::catboost_classifier.py::44  f1: [0.42857143 1.         0.95238095 0.         0.33333333 0.57142857\n",
      " 0.95238095 0.9        1.         0.83870968 0.70886076]\n",
      "2020-04-27 21:49:37,140::INFO::catboost_classifier.py::45  f1_macro: 0.6986968795462057\n",
      " 60%|██████    | 3/5 [00:36<00:24, 12.20s/it]2020-04-27 21:49:49,821::INFO::catboost_classifier.py::43  accuracy: 0.7651006711409396\n",
      "2020-04-27 21:49:49,822::INFO::catboost_classifier.py::44  f1: [0.59259259 0.92857143 0.875      0.33333333 0.61538462 0.8\n",
      " 0.89361702 0.93333333 0.76190476 0.75      ]\n",
      "2020-04-27 21:49:49,822::INFO::catboost_classifier.py::45  f1_macro: 0.7483737086396661\n",
      " 80%|████████  | 4/5 [00:49<00:12, 12.35s/it]2020-04-27 21:50:02,091::INFO::catboost_classifier.py::43  accuracy: 0.7986577181208053\n",
      "2020-04-27 21:50:02,092::INFO::catboost_classifier.py::44  f1: [0.64705882 0.95238095 0.96551724 0.         0.75       0.36363636\n",
      " 0.72       0.95454545 0.88888889 0.86363636 0.71875   ]\n",
      "2020-04-27 21:50:02,092::INFO::catboost_classifier.py::45  f1_macro: 0.7113103716360677\n",
      "100%|██████████| 5/5 [01:01<00:00, 12.30s/it]"
     ]
    },
    {
     "name": "stdout",
     "output_type": "stream",
     "text": [
      "   i                                                 f1       acc  f1_macro\n",
      "0  0  [0.6666666666666667, 1.0, 0.9655172413793104, ...  0.798658  0.760116\n",
      "1  1  [0.5454545454545454, 0.8888888888888888, 1.0, ...  0.718121  0.705507\n",
      "2  2  [0.42857142857142855, 1.0, 0.9523809523809523,...  0.765101  0.698697\n",
      "3  3  [0.5925925925925926, 0.9285714285714286, 0.875...  0.765101  0.748374\n",
      "4  4  [0.6470588235294118, 0.9523809523809523, 0.965...  0.798658  0.711310\n"
     ]
    },
    {
     "name": "stderr",
     "output_type": "stream",
     "text": [
      "\n"
     ]
    }
   ],
   "source": [
    "design_labelled_metadata = annotations_raw[['abstract', 'title', 'label']].sample(frac=1.0)\n",
    "test_set_len = len(design_labelled_metadata) //5\n",
    "results = []\n",
    "params = {}\n",
    "for i in tqdm(range(5)):\n",
    "    test = design_labelled_metadata.iloc[i * test_set_len : (i+1)* test_set_len]\n",
    "    train = design_labelled_metadata[~design_labelled_metadata.index.isin(test.index)]\n",
    "    model, acc, f1, f1_macro, params = train_validate_catboost_model(\n",
    "        train, test,\n",
    "        ['abstract', 'title'],\n",
    "        'label',\n",
    "        text_features=['abstract', 'title'], params={}, verbose=False)\n",
    "    results.append({\n",
    "        \"i\": i,\n",
    "        \"f1\": f1,\n",
    "        \"acc\": acc,\n",
    "        'f1_macro': f1_macro,\n",
    "    })\n",
    "\n",
    "results = pd.DataFrame(results)\n",
    "params_str = \",\".join([f\"{k}={v}\" for k, v in params.items()])\n",
    "print(pd.DataFrame(results))"
   ]
  },
  {
   "cell_type": "markdown",
   "metadata": {},
   "source": [
    "AS per https://github.com/catboost/tutorials/blob/2c16945f850503bfaa631176e87588bc5ce0ca1c/text_features/text_features_in_catboost.ipynb there are a lot of extra text processing params we can possibly tweak"
   ]
  },
  {
   "cell_type": "code",
   "execution_count": 10,
   "metadata": {},
   "outputs": [
    {
     "name": "stderr",
     "output_type": "stream",
     "text": [
      "  0%|          | 0/5 [00:00<?, ?it/s]2020-04-27 22:00:13,358::INFO::catboost_classifier.py::43  accuracy: 0.7785234899328859\n",
      "2020-04-27 22:00:13,359::INFO::catboost_classifier.py::44  f1: [0.57142857 1.         1.         0.54545455 0.18181818 0.66666667\n",
      " 0.91304348 1.         0.80952381 0.74285714]\n",
      "2020-04-27 22:00:13,359::INFO::catboost_classifier.py::45  f1_macro: 0.7430792396009787\n",
      " 20%|██        | 1/5 [00:11<00:44, 11.16s/it]2020-04-27 22:00:24,068::INFO::catboost_classifier.py::43  accuracy: 0.7248322147651006\n",
      "2020-04-27 22:00:24,069::INFO::catboost_classifier.py::44  f1: [0.53333333 0.94444444 1.         0.38095238 0.625      0.5\n",
      " 0.85714286 1.         0.64285714 0.72727273]\n",
      "2020-04-27 22:00:24,069::INFO::catboost_classifier.py::45  f1_macro: 0.7211002886002886\n",
      " 40%|████      | 2/5 [00:21<00:33, 11.03s/it]2020-04-27 22:00:35,575::INFO::catboost_classifier.py::43  accuracy: 0.7583892617449665\n",
      "2020-04-27 22:00:35,575::INFO::catboost_classifier.py::44  f1: [0.46511628 1.         0.95238095 0.         0.36363636 0.85714286\n",
      " 0.88888889 0.9        0.93333333 0.77419355 0.69135802]\n",
      "2020-04-27 22:00:35,576::INFO::catboost_classifier.py::45  f1_macro: 0.7114591134118744\n",
      " 60%|██████    | 3/5 [00:33<00:22, 11.17s/it]2020-04-27 22:00:46,978::INFO::catboost_classifier.py::43  accuracy: 0.785234899328859\n",
      "2020-04-27 22:00:46,979::INFO::catboost_classifier.py::44  f1: [0.5        0.92857143 0.93333333 0.5        0.66666667 0.66666667\n",
      " 0.93333333 0.93333333 0.81818182 0.78873239]\n",
      "2020-04-27 22:00:46,979::INFO::catboost_classifier.py::45  f1_macro: 0.7668818974452777\n",
      " 80%|████████  | 4/5 [00:44<00:11, 11.24s/it]2020-04-27 22:00:58,658::INFO::catboost_classifier.py::43  accuracy: 0.7919463087248322\n",
      "2020-04-27 22:00:58,659::INFO::catboost_classifier.py::44  f1: [0.60606061 1.         0.96551724 0.         0.75       0.36363636\n",
      " 0.64       0.97777778 0.88888889 0.85714286 0.71641791]\n",
      "2020-04-27 22:00:58,659::INFO::catboost_classifier.py::45  f1_macro: 0.7059492404848696\n",
      "100%|██████████| 5/5 [00:56<00:00, 11.29s/it]\n"
     ]
    },
    {
     "data": {
      "text/html": [
       "<div>\n",
       "<style scoped>\n",
       "    .dataframe tbody tr th:only-of-type {\n",
       "        vertical-align: middle;\n",
       "    }\n",
       "\n",
       "    .dataframe tbody tr th {\n",
       "        vertical-align: top;\n",
       "    }\n",
       "\n",
       "    .dataframe thead th {\n",
       "        text-align: right;\n",
       "    }\n",
       "</style>\n",
       "<table border=\"1\" class=\"dataframe\">\n",
       "  <thead>\n",
       "    <tr style=\"text-align: right;\">\n",
       "      <th></th>\n",
       "      <th>i</th>\n",
       "      <th>f1</th>\n",
       "      <th>acc</th>\n",
       "      <th>f1_macro</th>\n",
       "    </tr>\n",
       "  </thead>\n",
       "  <tbody>\n",
       "    <tr>\n",
       "      <th>0</th>\n",
       "      <td>0</td>\n",
       "      <td>[0.5714285714285715, 1.0, 1.0, 0.5454545454545...</td>\n",
       "      <td>0.778523</td>\n",
       "      <td>0.743079</td>\n",
       "    </tr>\n",
       "    <tr>\n",
       "      <th>1</th>\n",
       "      <td>1</td>\n",
       "      <td>[0.5333333333333333, 0.9444444444444444, 1.0, ...</td>\n",
       "      <td>0.724832</td>\n",
       "      <td>0.721100</td>\n",
       "    </tr>\n",
       "    <tr>\n",
       "      <th>2</th>\n",
       "      <td>2</td>\n",
       "      <td>[0.46511627906976744, 1.0, 0.9523809523809523,...</td>\n",
       "      <td>0.758389</td>\n",
       "      <td>0.711459</td>\n",
       "    </tr>\n",
       "    <tr>\n",
       "      <th>3</th>\n",
       "      <td>3</td>\n",
       "      <td>[0.5, 0.9285714285714286, 0.9333333333333333, ...</td>\n",
       "      <td>0.785235</td>\n",
       "      <td>0.766882</td>\n",
       "    </tr>\n",
       "    <tr>\n",
       "      <th>4</th>\n",
       "      <td>4</td>\n",
       "      <td>[0.6060606060606061, 1.0, 0.9655172413793104, ...</td>\n",
       "      <td>0.791946</td>\n",
       "      <td>0.705949</td>\n",
       "    </tr>\n",
       "  </tbody>\n",
       "</table>\n",
       "</div>"
      ],
      "text/plain": [
       "   i                                                 f1       acc  f1_macro\n",
       "0  0  [0.5714285714285715, 1.0, 1.0, 0.5454545454545...  0.778523  0.743079\n",
       "1  1  [0.5333333333333333, 0.9444444444444444, 1.0, ...  0.724832  0.721100\n",
       "2  2  [0.46511627906976744, 1.0, 0.9523809523809523,...  0.758389  0.711459\n",
       "3  3  [0.5, 0.9285714285714286, 0.9333333333333333, ...  0.785235  0.766882\n",
       "4  4  [0.6060606060606061, 1.0, 0.9655172413793104, ...  0.791946  0.705949"
      ]
     },
     "execution_count": 10,
     "metadata": {},
     "output_type": "execute_result"
    }
   ],
   "source": [
    "extra_text_params={\n",
    "        'dictionaries': [\n",
    "            'Word:min_token_occurrence=2',\n",
    "            'BiGram:gram_order=2'\n",
    "        ],\n",
    "        'text_processing': [\n",
    "            'NaiveBayes+Word|BoW:top_tokens_count=2000+Word,BiGram|BM25+Word'\n",
    "        ]\n",
    "    }\n",
    "results_catboost2 = []\n",
    "for i in tqdm(range(5)):\n",
    "    test = design_labelled_metadata.iloc[i * test_set_len : (i+1)* test_set_len]\n",
    "    train = design_labelled_metadata[~design_labelled_metadata.index.isin(test.index)]\n",
    "    model, acc, f1, f1_macro, params = train_validate_catboost_model(\n",
    "        train, test,\n",
    "        ['abstract', 'title'],\n",
    "        'label',\n",
    "        text_features=['abstract', 'title'], params=extra_text_params, verbose=False)\n",
    "    results_catboost2.append({\n",
    "        \"i\": i,\n",
    "        \"f1\": f1,\n",
    "        \"acc\": acc,\n",
    "        'f1_macro': f1_macro,\n",
    "    })\n",
    "\n",
    "results_catboost2 = pd.DataFrame(results_catboost2)\n",
    "pd.DataFrame(results_catboost2)"
   ]
  },
  {
   "cell_type": "markdown",
   "metadata": {},
   "source": [
    "note that not class 3 (\"Non-randomized trial\") has very few articles so we might consider removing them from training set"
   ]
  },
  {
   "cell_type": "markdown",
   "metadata": {},
   "source": [
    "classification wiht annotations + umls"
   ]
  },
  {
   "cell_type": "code",
   "execution_count": 14,
   "metadata": {},
   "outputs": [
    {
     "name": "stderr",
     "output_type": "stream",
     "text": [
      "100%|██████████| 20/20 [03:13<00:00,  9.68s/it]\n"
     ]
    }
   ],
   "source": [
    "annotations_with_umls = enrich_annotations(annotations_raw, processed_article_folder, extra_features=['UMLS'], sections=['method', 'result', 'abstract'])"
   ]
  },
  {
   "cell_type": "code",
   "execution_count": 17,
   "metadata": {},
   "outputs": [],
   "source": [
    "method_UMLS = annotations_with_umls.groupby('cord_uid')['method_UMLS'].fillna('').apply(','.join).reset_index()\n",
    "abstract_UMLS =  annotations_with_umls.groupby('cord_uid')['abstract_UMLS'].fillna('').apply(','.join).reset_index()\n",
    "result_UMLS =  annotations_with_umls.groupby('cord_uid')['result_UMLS'].fillna('').apply(','.join).reset_index()"
   ]
  },
  {
   "cell_type": "code",
   "execution_count": 39,
   "metadata": {},
   "outputs": [
    {
     "data": {
      "text/plain": [
       "(746,)"
      ]
     },
     "execution_count": 39,
     "metadata": {},
     "output_type": "execute_result"
    }
   ],
   "source": [
    "annotations_with_umls['abstract_UMLS'] = annotations_with_umls['abstract_UMLS'].apply(lambda d: d if isinstance(d, list) else [])\n",
    "annotations_with_umls['result_UMLS'] = annotations_with_umls['result_UMLS'].apply(lambda d: d if isinstance(d, list) else [])\n",
    "annotations_with_umls['method_UMLS'] = annotations_with_umls['method_UMLS'].apply(lambda d: d if isinstance(d, list) else [])\n",
    "\n",
    "\n",
    "annotations_with_umls.groupby('cord_uid')['method_UMLS'].sum().shape"
   ]
  },
  {
   "cell_type": "code",
   "execution_count": 26,
   "metadata": {},
   "outputs": [
    {
     "data": {
      "text/plain": [
       "(746,)"
      ]
     },
     "execution_count": 26,
     "metadata": {},
     "output_type": "execute_result"
    }
   ],
   "source": [
    "annotations_with_umls.cord_uid.unique().shape"
   ]
  },
  {
   "cell_type": "code",
   "execution_count": null,
   "metadata": {},
   "outputs": [],
   "source": [
    "df.groupby(['name','month'])['text'].apply(','.join).reset_index()"
   ]
  },
  {
   "cell_type": "code",
   "execution_count": 69,
   "metadata": {
    "scrolled": true
   },
   "outputs": [
    {
     "data": {
      "text/plain": [
       "Index(['sha', 'cord_uid', 'label', 'title', 'abstract', 'label_string',\n",
       "       'method_UMLS', 'result_UMLS', 'abstract_UMLS'],\n",
       "      dtype='object')"
      ]
     },
     "execution_count": 69,
     "metadata": {},
     "output_type": "execute_result"
    }
   ],
   "source": [
    "annotations_with_umls.columns"
   ]
  },
  {
   "cell_type": "markdown",
   "metadata": {},
   "source": [
    "using the specter embeddings + catboost"
   ]
  },
  {
   "cell_type": "code",
   "execution_count": 31,
   "metadata": {},
   "outputs": [
    {
     "data": {
      "text/plain": [
       "(746, 774)"
      ]
     },
     "execution_count": 31,
     "metadata": {},
     "output_type": "execute_result"
    }
   ],
   "source": [
    "annotations_raw.shape\n",
    "annotations_with_specter_df = annotations_with_specter_embeddings(annotations_raw,data_dir/ 'cord_19_specter_embeddings_4_17.csv.zip' )\n",
    "annotations_with_specter_df.shape"
   ]
  },
  {
   "cell_type": "code",
   "execution_count": 32,
   "metadata": {},
   "outputs": [
    {
     "name": "stderr",
     "output_type": "stream",
     "text": [
      "2020-04-27 22:25:00,632::INFO::catboost_classifier.py::43  accuracy: 0.6711409395973155\n",
      "2020-04-27 22:25:00,633::INFO::catboost_classifier.py::44  f1: [0.51612903 0.81481481 0.83333333 0.         0.33333333 0.\n",
      " 0.55555556 0.80851064 0.83333333 0.71428571 0.67605634]\n",
      "2020-04-27 22:25:00,633::INFO::catboost_classifier.py::45  f1_macro: 0.5532138266581992\n",
      "2020-04-27 22:25:20,988::INFO::catboost_classifier.py::43  accuracy: 0.6174496644295302\n",
      "2020-04-27 22:25:20,988::INFO::catboost_classifier.py::44  f1: [0.47368421 0.83333333 0.875      0.58823529 0.         0.42857143\n",
      " 0.77777778 0.5        0.46153846 0.61702128]\n",
      "2020-04-27 22:25:20,988::INFO::catboost_classifier.py::45  f1_macro: 0.5555161782460709\n",
      "2020-04-27 22:25:41,518::INFO::catboost_classifier.py::43  accuracy: 0.6174496644295302\n",
      "2020-04-27 22:25:41,518::INFO::catboost_classifier.py::44  f1: [0.57894737 0.8        0.82758621 0.         0.26666667 0.14285714\n",
      " 0.38095238 0.73913043 0.8        0.59459459 0.64516129]\n",
      "2020-04-27 22:25:41,519::INFO::catboost_classifier.py::45  f1_macro: 0.5250814623175981\n",
      "2020-04-27 22:26:02,293::INFO::catboost_classifier.py::43  accuracy: 0.6510067114093959\n",
      "2020-04-27 22:26:02,294::INFO::catboost_classifier.py::44  f1: [0.38461538 0.73684211 0.88       0.35294118 0.18181818 0.81481481\n",
      " 0.86363636 0.44444444 0.60465116 0.64935065]\n",
      "2020-04-27 22:26:02,294::INFO::catboost_classifier.py::45  f1_macro: 0.5913114283204282\n",
      "2020-04-27 22:26:22,927::INFO::catboost_classifier.py::43  accuracy: 0.6375838926174496\n",
      "2020-04-27 22:26:22,928::INFO::catboost_classifier.py::44  f1: [0.4        0.86486486 0.83333333 0.30769231 0.         0.56\n",
      " 0.7        0.5        0.41025641 0.79452055]\n",
      "2020-04-27 22:26:22,928::INFO::catboost_classifier.py::45  f1_macro: 0.5370667464092121\n"
     ]
    },
    {
     "name": "stdout",
     "output_type": "stream",
     "text": [
      "   i                                                 f1       acc  f1_macro\n",
      "0  0  [0.5161290322580646, 0.8148148148148148, 0.833...  0.671141  0.553214\n",
      "1  1  [0.47368421052631576, 0.8333333333333333, 0.87...  0.617450  0.555516\n",
      "2  2  [0.5789473684210527, 0.8, 0.8275862068965517, ...  0.617450  0.525081\n",
      "3  3  [0.38461538461538464, 0.7368421052631577, 0.87...  0.651007  0.591311\n",
      "4  4  [0.4, 0.8648648648648649, 0.8333333333333334, ...  0.637584  0.537067\n"
     ]
    }
   ],
   "source": [
    "annotations_with_specter_df = annotations_with_specter_df[['abstract', 'title', 'label'] + [f\"{i}\" for i in range(768)]].sample(frac=1.0)\n",
    "test_set_len = len(annotations_with_specter_df) //5\n",
    "results = []\n",
    "params = {}\n",
    "for i in range(5):\n",
    "    test = annotations_with_specter_df.iloc[i * test_set_len : (i+1)* test_set_len]\n",
    "    train = annotations_with_specter_df[~annotations_with_specter_df.index.isin(test.index)]\n",
    "    model, acc, f1, f1_macro, params = train_validate_catboost_model(\n",
    "        train, test,\n",
    "        [f\"{i}\" for i in range(768)],\n",
    "        'label', text_features=None, params={}, verbose=False)\n",
    "    results.append({\n",
    "        \"i\": i,\n",
    "        \"f1\": f1,\n",
    "        \"acc\": acc,\n",
    "        'f1_macro': f1_macro,\n",
    "    })\n",
    "\n",
    "results = pd.DataFrame(results)\n",
    "params_str = \",\".join([f\"{k}={v}\" for k, v in params.items()])\n",
    "print(pd.DataFrame(results))"
   ]
  },
  {
   "cell_type": "code",
   "execution_count": 30,
   "metadata": {},
   "outputs": [
    {
     "data": {
      "text/html": [
       "<div>\n",
       "<style scoped>\n",
       "    .dataframe tbody tr th:only-of-type {\n",
       "        vertical-align: middle;\n",
       "    }\n",
       "\n",
       "    .dataframe tbody tr th {\n",
       "        vertical-align: top;\n",
       "    }\n",
       "\n",
       "    .dataframe thead th {\n",
       "        text-align: right;\n",
       "    }\n",
       "</style>\n",
       "<table border=\"1\" class=\"dataframe\">\n",
       "  <thead>\n",
       "    <tr style=\"text-align: right;\">\n",
       "      <th></th>\n",
       "      <th>i</th>\n",
       "      <th>f1</th>\n",
       "      <th>acc</th>\n",
       "      <th>f1_macro</th>\n",
       "    </tr>\n",
       "  </thead>\n",
       "  <tbody>\n",
       "    <tr>\n",
       "      <th>0</th>\n",
       "      <td>0</td>\n",
       "      <td>[0.3571428571428571, 0.9375, 0.909090909090909...</td>\n",
       "      <td>0.651007</td>\n",
       "      <td>0.593818</td>\n",
       "    </tr>\n",
       "    <tr>\n",
       "      <th>1</th>\n",
       "      <td>1</td>\n",
       "      <td>[0.4571428571428571, 0.7999999999999999, 0.823...</td>\n",
       "      <td>0.604027</td>\n",
       "      <td>0.506118</td>\n",
       "    </tr>\n",
       "    <tr>\n",
       "      <th>2</th>\n",
       "      <td>2</td>\n",
       "      <td>[0.4666666666666667, 0.6666666666666667, 0.869...</td>\n",
       "      <td>0.657718</td>\n",
       "      <td>0.566968</td>\n",
       "    </tr>\n",
       "    <tr>\n",
       "      <th>3</th>\n",
       "      <td>3</td>\n",
       "      <td>[0.3636363636363636, 0.8666666666666667, 0.75,...</td>\n",
       "      <td>0.671141</td>\n",
       "      <td>0.570249</td>\n",
       "    </tr>\n",
       "    <tr>\n",
       "      <th>4</th>\n",
       "      <td>4</td>\n",
       "      <td>[0.48275862068965514, 0.888888888888889, 0.882...</td>\n",
       "      <td>0.610738</td>\n",
       "      <td>0.567772</td>\n",
       "    </tr>\n",
       "  </tbody>\n",
       "</table>\n",
       "</div>"
      ],
      "text/plain": [
       "   i                                                 f1       acc  f1_macro\n",
       "0  0  [0.3571428571428571, 0.9375, 0.909090909090909...  0.651007  0.593818\n",
       "1  1  [0.4571428571428571, 0.7999999999999999, 0.823...  0.604027  0.506118\n",
       "2  2  [0.4666666666666667, 0.6666666666666667, 0.869...  0.657718  0.566968\n",
       "3  3  [0.3636363636363636, 0.8666666666666667, 0.75,...  0.671141  0.570249\n",
       "4  4  [0.48275862068965514, 0.888888888888889, 0.882...  0.610738  0.567772"
      ]
     },
     "execution_count": 30,
     "metadata": {},
     "output_type": "execute_result"
    }
   ],
   "source": [
    "pd.DataFrame(results)"
   ]
  },
  {
   "cell_type": "code",
   "execution_count": null,
   "metadata": {},
   "outputs": [],
   "source": []
  }
 ],
 "metadata": {
  "kernelspec": {
   "display_name": "Python [conda env:immo-ml]",
   "language": "python",
   "name": "conda-env-immo-ml-py"
  },
  "language_info": {
   "codemirror_mode": {
    "name": "ipython",
    "version": 3
   },
   "file_extension": ".py",
   "mimetype": "text/x-python",
   "name": "python",
   "nbconvert_exporter": "python",
   "pygments_lexer": "ipython3",
   "version": "3.7.6"
  }
 },
 "nbformat": 4,
 "nbformat_minor": 2
}
