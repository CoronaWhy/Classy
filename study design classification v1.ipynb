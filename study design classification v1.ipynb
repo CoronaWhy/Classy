{
 "cells": [
  {
   "cell_type": "code",
   "execution_count": 4,
   "metadata": {},
   "outputs": [
    {
     "name": "stdout",
     "output_type": "stream",
     "text": [
      "The autoreload extension is already loaded. To reload it, use:\n",
      "  %reload_ext autoreload\n"
     ]
    }
   ],
   "source": [
    "from common.logging import create_logger\n",
    "from pathlib import Path\n",
    "import pandas as pd\n",
    "from datasets import single_label_multiclass_annotated_study_design, enrich_annotations\n",
    "\n",
    "from datetime import datetime\n",
    "import matplotlib.pyplot as plt\n",
    "%matplotlib inline\n",
    "%load_ext autoreload\n",
    "%autoreload 2"
   ]
  },
  {
   "cell_type": "code",
   "execution_count": 5,
   "metadata": {},
   "outputs": [],
   "source": [
    "\n",
    "data_dir = Path('/media/wwymak/Storage/coronawhy/nlp_datasets')\n",
    "annotations_filepath = (data_dir / 'cord19_study_design_labelled' / 'design.csv')\n",
    "metadata_filepath   = data_dir/'metadata.csv.zip'\n",
    "annotations_raw = single_label_multiclass_annotated_study_design(annotations_filepath, metadata_filepath)"
   ]
  },
  {
   "cell_type": "code",
   "execution_count": 7,
   "metadata": {},
   "outputs": [
    {
     "data": {
      "text/html": [
       "<div>\n",
       "<style scoped>\n",
       "    .dataframe tbody tr th:only-of-type {\n",
       "        vertical-align: middle;\n",
       "    }\n",
       "\n",
       "    .dataframe tbody tr th {\n",
       "        vertical-align: top;\n",
       "    }\n",
       "\n",
       "    .dataframe thead th {\n",
       "        text-align: right;\n",
       "    }\n",
       "</style>\n",
       "<table border=\"1\" class=\"dataframe\">\n",
       "  <thead>\n",
       "    <tr style=\"text-align: right;\">\n",
       "      <th></th>\n",
       "      <th>sha</th>\n",
       "      <th>cord_uid</th>\n",
       "      <th>label</th>\n",
       "      <th>title</th>\n",
       "      <th>abstract</th>\n",
       "      <th>label_string</th>\n",
       "    </tr>\n",
       "  </thead>\n",
       "  <tbody>\n",
       "    <tr>\n",
       "      <th>0</th>\n",
       "      <td>03cda737465b68fbf1a76dafe2e3788961f986be</td>\n",
       "      <td>4a5zy5wu</td>\n",
       "      <td>0</td>\n",
       "      <td>Monitoring Transmissibility and Mortality of C...</td>\n",
       "      <td>Abstract Objectives As a global pandemic is in...</td>\n",
       "      <td>Other</td>\n",
       "    </tr>\n",
       "    <tr>\n",
       "      <th>5</th>\n",
       "      <td>059d5acb8af8bd2bedab06b5dcc0510691fe0f1e</td>\n",
       "      <td>31i1k332</td>\n",
       "      <td>0</td>\n",
       "      <td>Laboratory readiness and response for novel co...</td>\n",
       "      <td>Timely detection of novel coronavirus (2019-nC...</td>\n",
       "      <td>Other</td>\n",
       "    </tr>\n",
       "    <tr>\n",
       "      <th>7</th>\n",
       "      <td>0760e79585cd85c7e9a59f88188b915955aa3926</td>\n",
       "      <td>iyv86437</td>\n",
       "      <td>0</td>\n",
       "      <td>And now for something completely different: fr...</td>\n",
       "      <td>Infectious diseases have accompanied mankind s...</td>\n",
       "      <td>Other</td>\n",
       "    </tr>\n",
       "    <tr>\n",
       "      <th>11</th>\n",
       "      <td>0aff00101d5ccc6592987185ab833f95d842f98b</td>\n",
       "      <td>g5wpa2ee</td>\n",
       "      <td>0</td>\n",
       "      <td>Potentially highly potent drugs for 2019-nCoV</td>\n",
       "      <td>AbstractThe World Health Organization (WHO) ha...</td>\n",
       "      <td>Other</td>\n",
       "    </tr>\n",
       "    <tr>\n",
       "      <th>12</th>\n",
       "      <td>0bd443591b5e10934beef050b516afeca6b668fe</td>\n",
       "      <td>3kp3ptbn</td>\n",
       "      <td>0</td>\n",
       "      <td>A simple model to assess Wuhan lock-down effec...</td>\n",
       "      <td>Since COVID-19 emerged in early December, 2019...</td>\n",
       "      <td>Other</td>\n",
       "    </tr>\n",
       "  </tbody>\n",
       "</table>\n",
       "</div>"
      ],
      "text/plain": [
       "                                         sha  cord_uid  label  \\\n",
       "0   03cda737465b68fbf1a76dafe2e3788961f986be  4a5zy5wu      0   \n",
       "5   059d5acb8af8bd2bedab06b5dcc0510691fe0f1e  31i1k332      0   \n",
       "7   0760e79585cd85c7e9a59f88188b915955aa3926  iyv86437      0   \n",
       "11  0aff00101d5ccc6592987185ab833f95d842f98b  g5wpa2ee      0   \n",
       "12  0bd443591b5e10934beef050b516afeca6b668fe  3kp3ptbn      0   \n",
       "\n",
       "                                                title  \\\n",
       "0   Monitoring Transmissibility and Mortality of C...   \n",
       "5   Laboratory readiness and response for novel co...   \n",
       "7   And now for something completely different: fr...   \n",
       "11      Potentially highly potent drugs for 2019-nCoV   \n",
       "12  A simple model to assess Wuhan lock-down effec...   \n",
       "\n",
       "                                             abstract label_string  \n",
       "0   Abstract Objectives As a global pandemic is in...        Other  \n",
       "5   Timely detection of novel coronavirus (2019-nC...        Other  \n",
       "7   Infectious diseases have accompanied mankind s...        Other  \n",
       "11  AbstractThe World Health Organization (WHO) ha...        Other  \n",
       "12  Since COVID-19 emerged in early December, 2019...        Other  "
      ]
     },
     "execution_count": 7,
     "metadata": {},
     "output_type": "execute_result"
    }
   ],
   "source": [
    "annotations_raw.head()"
   ]
  },
  {
   "cell_type": "code",
   "execution_count": 8,
   "metadata": {},
   "outputs": [
    {
     "data": {
      "text/plain": [
       "<matplotlib.axes._subplots.AxesSubplot at 0x7f1c22cb9310>"
      ]
     },
     "execution_count": 8,
     "metadata": {},
     "output_type": "execute_result"
    },
    {
     "data": {
      "image/png": "[encoded data removed]",
      "text/plain": [
       "<Figure size 432x288 with 1 Axes>"
      ]
     },
     "metadata": {
      "needs_background": "light"
     },
     "output_type": "display_data"
    }
   ],
   "source": [
    "annotations_raw.label_string.value_counts().sort_index().plot.bar()"
   ]
  },
  {
   "cell_type": "code",
   "execution_count": null,
   "metadata": {},
   "outputs": [],
   "source": []
  }
 ],
 "metadata": {
  "kernelspec": {
   "display_name": "Python [conda env:immo-ml]",
   "language": "python",
   "name": "conda-env-immo-ml-py"
  },
  "language_info": {
   "codemirror_mode": {
    "name": "ipython",
    "version": 3
   },
   "file_extension": ".py",
   "mimetype": "text/x-python",
   "name": "python",
   "nbconvert_exporter": "python",
   "pygments_lexer": "ipython3",
   "version": "3.7.6"
  }
 },
 "nbformat": 4,
 "nbformat_minor": 2
}
