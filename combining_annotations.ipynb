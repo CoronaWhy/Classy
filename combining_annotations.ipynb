{
 "cells": [
  {
   "cell_type": "markdown",
   "metadata": {},
   "source": [
    "Mapping from David's labels to ours\n",
    "\n",
    "Modelling = in silico\n",
    "Other = others (but maybe one is a superset of the other given the additional categories, especially experimental (in vivo/vitro))\n",
    "Meta analysis = meta_study + RCT_review\n",
    "Randomized controlled trial = RCT\n",
    "Non-randomized trial = controlled_trial_non_randomised\n",
    "Prospective observationion + Retrospective cohort + Time-series analysis + Case-control + Cross-sectional + Case Study = comparative_study + descriptive_study = observational study\n",
    "No map = in_vitro\n",
    "No map = in_vivo\n",
    "\n",
    "['Other',\n",
    " 'Meta analysis',\n",
    " 'Randomized control trial',\n",
    " 'Non-randomized trial',\n",
    " 'Prospective cohort',\n",
    " 'Time-series analysis',\n",
    " 'Retrospective cohort',\n",
    " 'Cross-sectional',\n",
    " 'Case control',\n",
    " 'Case study',\n",
    " 'Simulation']"
   ]
  },
  {
   "cell_type": "code",
   "execution_count": 36,
   "metadata": {},
   "outputs": [
    {
     "name": "stdout",
     "output_type": "stream",
     "text": [
      "The autoreload extension is already loaded. To reload it, use:\n",
      "  %reload_ext autoreload\n"
     ]
    }
   ],
   "source": [
    "from common.logging import create_logger\n",
    "from pathlib import Path\n",
    "import numpy as np\n",
    "import pandas as pd\n",
    "import joblib\n",
    "from datasets import single_label_multiclass_annotated_study_design, enrich_annotations, annotations_with_specter_embeddings, coronawhy_annotated_study_design\n",
    "from classifier import train_validate_catboost_model\n",
    "from catboost import CatBoostClassifier, Pool\n",
    "from datetime import datetime\n",
    "import matplotlib.pyplot as plt\n",
    "from tqdm import tqdm\n",
    "%matplotlib inline\n",
    "%load_ext autoreload\n",
    "%autoreload 2"
   ]
  },
  {
   "cell_type": "code",
   "execution_count": 2,
   "metadata": {},
   "outputs": [
    {
     "data": {
      "text/html": [
       "<div>\n",
       "<style scoped>\n",
       "    .dataframe tbody tr th:only-of-type {\n",
       "        vertical-align: middle;\n",
       "    }\n",
       "\n",
       "    .dataframe tbody tr th {\n",
       "        vertical-align: top;\n",
       "    }\n",
       "\n",
       "    .dataframe thead th {\n",
       "        text-align: right;\n",
       "    }\n",
       "</style>\n",
       "<table border=\"1\" class=\"dataframe\">\n",
       "  <thead>\n",
       "    <tr style=\"text-align: right;\">\n",
       "      <th></th>\n",
       "      <th>cord_uid</th>\n",
       "      <th>title</th>\n",
       "      <th>abstract</th>\n",
       "      <th>label</th>\n",
       "      <th>label_string</th>\n",
       "    </tr>\n",
       "  </thead>\n",
       "  <tbody>\n",
       "    <tr>\n",
       "      <th>0</th>\n",
       "      <td>480bzpi1</td>\n",
       "      <td>Do we have enough evidence how seasonal influe...</td>\n",
       "      <td>Abstract Purpose To identify if there is enoug...</td>\n",
       "      <td>8</td>\n",
       "      <td>meta_study</td>\n",
       "    </tr>\n",
       "    <tr>\n",
       "      <th>1</th>\n",
       "      <td>y8z0pwgn</td>\n",
       "      <td>A permanent host shift of rabies virus from Ch...</td>\n",
       "      <td>Bat virus host shifts can result in the spread...</td>\n",
       "      <td>0</td>\n",
       "      <td>in_silico</td>\n",
       "    </tr>\n",
       "    <tr>\n",
       "      <th>2</th>\n",
       "      <td>cxwucrgo</td>\n",
       "      <td>Structural maturation of rubella virus in the ...</td>\n",
       "      <td>Abstract Rubella virus is a small enveloped vi...</td>\n",
       "      <td>1</td>\n",
       "      <td>in_vitro</td>\n",
       "    </tr>\n",
       "    <tr>\n",
       "      <th>3</th>\n",
       "      <td>u4mvk89w</td>\n",
       "      <td>X-Ray Structure and Inhibition of 3C-like Prot...</td>\n",
       "      <td>Porcine epidemic diarrhea virus (PEDV) is a co...</td>\n",
       "      <td>1</td>\n",
       "      <td>in_vitro</td>\n",
       "    </tr>\n",
       "    <tr>\n",
       "      <th>4</th>\n",
       "      <td>ff9vfrvc</td>\n",
       "      <td>Impact of SARS on healthcare utilization by di...</td>\n",
       "      <td>Abstract Objective To assess the impact of the...</td>\n",
       "      <td>7</td>\n",
       "      <td>descriptive_study</td>\n",
       "    </tr>\n",
       "  </tbody>\n",
       "</table>\n",
       "</div>"
      ],
      "text/plain": [
       "   cord_uid                                              title  \\\n",
       "0  480bzpi1  Do we have enough evidence how seasonal influe...   \n",
       "1  y8z0pwgn  A permanent host shift of rabies virus from Ch...   \n",
       "2  cxwucrgo  Structural maturation of rubella virus in the ...   \n",
       "3  u4mvk89w  X-Ray Structure and Inhibition of 3C-like Prot...   \n",
       "4  ff9vfrvc  Impact of SARS on healthcare utilization by di...   \n",
       "\n",
       "                                            abstract  label       label_string  \n",
       "0  Abstract Purpose To identify if there is enoug...      8         meta_study  \n",
       "1  Bat virus host shifts can result in the spread...      0          in_silico  \n",
       "2  Abstract Rubella virus is a small enveloped vi...      1           in_vitro  \n",
       "3  Porcine epidemic diarrhea virus (PEDV) is a co...      1           in_vitro  \n",
       "4  Abstract Objective To assess the impact of the...      7  descriptive_study  "
      ]
     },
     "execution_count": 2,
     "metadata": {},
     "output_type": "execute_result"
    }
   ],
   "source": [
    "data_dir = Path('/media/wwymak/Storage/coronawhy/nlp_datasets')\n",
    "annotations_filepath =Path(data_dir/'Study_Design_Annotation_Snapshot_4_12_20.csv')\n",
    "metadata_filepath   = data_dir/'metadata.csv.zip'\n",
    "\n",
    "annotations_coronawhy = coronawhy_annotated_study_design(annotations_filepath, metadata_filepath)\n",
    "annotations_coronawhy.head()"
   ]
  },
  {
   "cell_type": "code",
   "execution_count": 15,
   "metadata": {},
   "outputs": [
    {
     "data": {
      "text/plain": [
       "{'in_silico': 0,\n",
       " 'in_vitro': 1,\n",
       " 'in_vivo': 2,\n",
       " 'RCT_review': 3,\n",
       " 'RCT': 4,\n",
       " 'controlled_trial_non_randomised': 5,\n",
       " 'comparative_study': 6,\n",
       " 'descriptive_study': 7,\n",
       " 'meta_study': 8}"
      ]
     },
     "execution_count": 15,
     "metadata": {},
     "output_type": "execute_result"
    }
   ],
   "source": [
    "colname_to_number_mapping = {\n",
    "        k: idx for idx, k in enumerate(['in_silico', 'in_vitro',\n",
    "                           'in_vivo', 'RCT_review', 'RCT', 'controlled_trial_non_randomised',\n",
    "                           'comparative_study', 'descriptive_study', 'meta_study'])\n",
    "    }\n",
    "colname_to_number_mapping"
   ]
  },
  {
   "cell_type": "code",
   "execution_count": null,
   "metadata": {},
   "outputs": [],
   "source": [
    "# key = our name, value = david's label\n",
    "coronawhy_to_david_mapping = {\n",
    "    'in_silico': 9,\n",
    "    'in_vitro':0,\n",
    " 'in_vivo':0,\n",
    " 'RCT_review': 3,\n",
    " 'RCT': 2,\n",
    " 'controlled_trial_non_randomised': 3,\n",
    " 'comparative_study': 6,\n",
    " 'descriptive_study': 7,\n",
    " 'meta_study': 1\n",
    "}"
   ]
  },
  {
   "cell_type": "code",
   "execution_count": 3,
   "metadata": {},
   "outputs": [
    {
     "data": {
      "text/plain": [
       "<matplotlib.axes._subplots.AxesSubplot at 0x7fb7a450a1d0>"
      ]
     },
     "execution_count": 3,
     "metadata": {},
     "output_type": "execute_result"
    },
    {
     "data": {
      "image/png": "[encoded data removed]",
      "text/plain": [
       "<Figure size 432x288 with 1 Axes>"
      ]
     },
     "metadata": {
      "needs_background": "light"
     },
     "output_type": "display_data"
    }
   ],
   "source": [
    "annotations_coronawhy.label_string.value_counts().plot.bar()"
   ]
  },
  {
   "cell_type": "code",
   "execution_count": 19,
   "metadata": {},
   "outputs": [],
   "source": [
    "# load trained catboost model\n",
    "cb_model = CatBoostClassifier().load_model(str(data_dir/'catboost_david_annotation_2_may'))"
   ]
  },
  {
   "cell_type": "code",
   "execution_count": 30,
   "metadata": {},
   "outputs": [],
   "source": [
    "test_pool =  Pool(\n",
    "            annotations_coronawhy[['title', 'abstract']],\n",
    "            feature_names=['title', 'abstract'],\n",
    "            text_features=['title', 'abstract'])\n",
    "predictions = cb_model.predict(test_pool)\n",
    "probabilities = cb_model.predict_proba(test_pool)"
   ]
  },
  {
   "cell_type": "code",
   "execution_count": 32,
   "metadata": {},
   "outputs": [],
   "source": [
    "# david's mappings\n",
    "label_number_to_study_name_mapping = {\n",
    "        1: \"Systematic review\",\n",
    "        2: \"Randomized control trial\",\n",
    "        3: \"Non-randomized trial\",\n",
    "        4: \"Prospective observational\",\n",
    "        5: \"Time-to-event analysis\",\n",
    "        6: \"Retrospective observational\",\n",
    "        7: \"Cross-sectional\",\n",
    "        8: \"Case series\",\n",
    "        9: \"Modeling\",\n",
    "        0: \"Other\"\n",
    "    }\n",
    "predictions = pd.Series(predictions.squeeze()).apply(label_number_to_study_name_mapping.get)\n",
    "predictions_proba = pd.DataFrame(np.max(probabilities, axis=1))"
   ]
  },
  {
   "cell_type": "code",
   "execution_count": 33,
   "metadata": {},
   "outputs": [
    {
     "data": {
      "text/plain": [
       "0                         Other\n",
       "1                         Other\n",
       "2                         Other\n",
       "3                      Modeling\n",
       "4                         Other\n",
       "                 ...           \n",
       "284                       Other\n",
       "285                 Case series\n",
       "286                 Case series\n",
       "287    Randomized control trial\n",
       "288                 Case series\n",
       "Length: 289, dtype: object"
      ]
     },
     "execution_count": 33,
     "metadata": {},
     "output_type": "execute_result"
    }
   ],
   "source": [
    "predictions"
   ]
  },
  {
   "cell_type": "code",
   "execution_count": 34,
   "metadata": {},
   "outputs": [],
   "source": [
    "annotations_coronawhy['catboost_predictions'] = predictions\n",
    "annotations_coronawhy['catboost_predictions_proba'] = predictions_proba\n",
    "annotations_coronawhy.to_csv(data_dir/'catboost_predictions.csv', index=False)"
   ]
  },
  {
   "cell_type": "code",
   "execution_count": 38,
   "metadata": {},
   "outputs": [
    {
     "ename": "SyntaxError",
     "evalue": "invalid syntax (<ipython-input-38-f12113916136>, line 1)",
     "output_type": "error",
     "traceback": [
      "\u001b[0;36m  File \u001b[0;32m\"<ipython-input-38-f12113916136>\"\u001b[0;36m, line \u001b[0;32m1\u001b[0m\n\u001b[0;31m    lr_model = joblib.load() data_dir/'logistic_specter_embedddings_2may.pkl', compress=3)\u001b[0m\n\u001b[0m                                    ^\u001b[0m\n\u001b[0;31mSyntaxError\u001b[0m\u001b[0;31m:\u001b[0m invalid syntax\n"
     ]
    }
   ],
   "source": [
    "lr_model = joblib.load( data_dir/'logistic_specter_embedddings_2may.pkl', compress=3)\n",
    "lr_predictions = lr_model.predict()"
   ]
  },
  {
   "cell_type": "code",
   "execution_count": null,
   "metadata": {},
   "outputs": [],
   "source": []
  },
  {
   "cell_type": "code",
   "execution_count": null,
   "metadata": {},
   "outputs": [],
   "source": [
    "Systematic review or meta-analysis of RCTs\t(1)\n",
    "Randomized controlled trial (2)\n",
    "Non-randomized controlled trial (3)\n",
    "Comparative study with concurrent controls (cohort studies, case-control studies, or interrupted time series with a control group)\t4\n",
    "Comparative study with a historical control (2 or more single-arm studies, or interrupted time series without a parallel control group)\t6\n",
    "Descriptive study (case series, case reports)\t(8)\n",
    "Systematic review or meta-analysis of studies other than RCTs\t1\n",
    "Other (commentary, editorial, non-systematic review, expert opinion) 0\n"
   ]
  }
 ],
 "metadata": {
  "kernelspec": {
   "display_name": "Python [conda env:immo-ml]",
   "language": "python",
   "name": "conda-env-immo-ml-py"
  },
  "language_info": {
   "codemirror_mode": {
    "name": "ipython",
    "version": 3
   },
   "file_extension": ".py",
   "mimetype": "text/x-python",
   "name": "python",
   "nbconvert_exporter": "python",
   "pygments_lexer": "ipython3",
   "version": "3.7.6"
  }
 },
 "nbformat": 4,
 "nbformat_minor": 2
}
