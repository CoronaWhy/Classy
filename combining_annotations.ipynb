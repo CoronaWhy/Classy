{
 "cells": [
  {
   "cell_type": "markdown",
   "metadata": {},
   "source": [
    "Mapping from David's labels to ours\n",
    "\n",
    "Modelling = in silico\n",
    "Other = others (but maybe one is a superset of the other given the additional categories, especially experimental (in vivo/vitro))\n",
    "Meta analysis = meta_study + RCT_review\n",
    "Randomized controlled trial = RCT\n",
    "Non-randomized trial = controlled_trial_non_randomised\n",
    "Prospective observationion + Retrospective cohort + Time-series analysis + Case-control + Cross-sectional + Case Study = comparative_study + descriptive_study = observational study\n",
    "No map = in_vitro\n",
    "No map = in_vivo\n",
    "\n",
    "['Other',\n",
    " 'Meta analysis',\n",
    " 'Randomized control trial',\n",
    " 'Non-randomized trial',\n",
    " 'Prospective cohort',\n",
    " 'Time-series analysis',\n",
    " 'Retrospective cohort',\n",
    " 'Cross-sectional',\n",
    " 'Case control',\n",
    " 'Case study',\n",
    " 'Simulation']"
   ]
  },
  {
   "cell_type": "code",
   "execution_count": 1,
   "metadata": {},
   "outputs": [],
   "source": [
    "from common.logging import create_logger\n",
    "from pathlib import Path\n",
    "import numpy as np\n",
    "import pandas as pd\n",
    "import joblib\n",
    "from datasets import single_label_multiclass_annotated_study_design, enrich_annotations, annotations_with_specter_embeddings, coronawhy_annotated_study_design\n",
    "from classifier import train_validate_catboost_model\n",
    "from catboost import CatBoostClassifier, Pool\n",
    "from catboost.utils import get_confusion_matrix\n",
    "from datetime import datetime\n",
    "import matplotlib.pyplot as plt\n",
    "from tqdm import tqdm\n",
    "%matplotlib inline\n",
    "%load_ext autoreload\n",
    "%autoreload 2"
   ]
  },
  {
   "cell_type": "code",
   "execution_count": 2,
   "metadata": {},
   "outputs": [],
   "source": [
    "def is_labelling_correct(actual_label, predicted_label):\n",
    "    \"\"\"\n",
    "    predicted_label: label trained on David's annotations\n",
    "    actual_label: ground truth label from our annotations\n",
    "    \"\"\"\n",
    "    if actual_label in [1, 2] and predicted_label == 0:  #actual_label_str in ['in_vitro', 'in_vivo'] predicted_label=='others'\n",
    "        return True\n",
    "    if actual_label in [3, 8 ] and predicted_label == 1: #actual_label in [meta_study , RCT_review] predicted_label='systematic review'\n",
    "        return True\n",
    "    if actual_label ==4 and predicted_label in [1,2]: #actual label = rct, predicted label = rct/RCT_review\n",
    "        return True\n",
    "    if actual_label == 5 and predicted_label==3: #non randomised trials\n",
    "        return True\n",
    "    if actual_label in [6, 7] and predicted_label in [4,5,6,7,8]: #david: Prospective observationion + Retrospective cohort + Time-series analysis + Case-control + Cross-sectional + Case Study = ours: comparative_study + descriptive_study = observational stud\n",
    "        return True\n",
    "    return False"
   ]
  },
  {
   "cell_type": "code",
   "execution_count": 3,
   "metadata": {},
   "outputs": [
    {
     "data": {
      "text/html": [
       "<div>\n",
       "<style scoped>\n",
       "    .dataframe tbody tr th:only-of-type {\n",
       "        vertical-align: middle;\n",
       "    }\n",
       "\n",
       "    .dataframe tbody tr th {\n",
       "        vertical-align: top;\n",
       "    }\n",
       "\n",
       "    .dataframe thead th {\n",
       "        text-align: right;\n",
       "    }\n",
       "</style>\n",
       "<table border=\"1\" class=\"dataframe\">\n",
       "  <thead>\n",
       "    <tr style=\"text-align: right;\">\n",
       "      <th></th>\n",
       "      <th>cord_uid</th>\n",
       "      <th>title</th>\n",
       "      <th>abstract</th>\n",
       "      <th>label</th>\n",
       "      <th>label_string</th>\n",
       "    </tr>\n",
       "  </thead>\n",
       "  <tbody>\n",
       "    <tr>\n",
       "      <th>0</th>\n",
       "      <td>mmykzj9w</td>\n",
       "      <td>Biological effects of HBV X protein on hepatoc...</td>\n",
       "      <td>The X protein (HBx) of Human hepatitis B virus...</td>\n",
       "      <td>9</td>\n",
       "      <td>others</td>\n",
       "    </tr>\n",
       "    <tr>\n",
       "      <th>1</th>\n",
       "      <td>480bzpi1</td>\n",
       "      <td>Do we have enough evidence how seasonal influe...</td>\n",
       "      <td>Abstract Purpose To identify if there is enoug...</td>\n",
       "      <td>8</td>\n",
       "      <td>meta_study</td>\n",
       "    </tr>\n",
       "    <tr>\n",
       "      <th>2</th>\n",
       "      <td>n5o7u56f</td>\n",
       "      <td>Bioactive principles from Cordyceps sinensis: ...</td>\n",
       "      <td>Abstract Cordyceps sinensis (CS) is a well-kno...</td>\n",
       "      <td>9</td>\n",
       "      <td>others</td>\n",
       "    </tr>\n",
       "    <tr>\n",
       "      <th>3</th>\n",
       "      <td>8rl4kswe</td>\n",
       "      <td>Virus Entry: Open Sesame</td>\n",
       "      <td>Detailed information about the replication cyc...</td>\n",
       "      <td>9</td>\n",
       "      <td>others</td>\n",
       "    </tr>\n",
       "    <tr>\n",
       "      <th>4</th>\n",
       "      <td>whfyczcj</td>\n",
       "      <td>Hijacking of the Ubiquitin/Proteasome Pathway ...</td>\n",
       "      <td>The ubiquitin-proteasome system (UPS) ensures ...</td>\n",
       "      <td>9</td>\n",
       "      <td>others</td>\n",
       "    </tr>\n",
       "  </tbody>\n",
       "</table>\n",
       "</div>"
      ],
      "text/plain": [
       "   cord_uid                                              title  \\\n",
       "0  mmykzj9w  Biological effects of HBV X protein on hepatoc...   \n",
       "1  480bzpi1  Do we have enough evidence how seasonal influe...   \n",
       "2  n5o7u56f  Bioactive principles from Cordyceps sinensis: ...   \n",
       "3  8rl4kswe                           Virus Entry: Open Sesame   \n",
       "4  whfyczcj  Hijacking of the Ubiquitin/Proteasome Pathway ...   \n",
       "\n",
       "                                            abstract  label label_string  \n",
       "0  The X protein (HBx) of Human hepatitis B virus...      9       others  \n",
       "1  Abstract Purpose To identify if there is enoug...      8   meta_study  \n",
       "2  Abstract Cordyceps sinensis (CS) is a well-kno...      9       others  \n",
       "3  Detailed information about the replication cyc...      9       others  \n",
       "4  The ubiquitin-proteasome system (UPS) ensures ...      9       others  "
      ]
     },
     "execution_count": 3,
     "metadata": {},
     "output_type": "execute_result"
    }
   ],
   "source": [
    "data_dir = Path('/media/wwymak/Storage/coronawhy/nlp_datasets')\n",
    "annotations_filepath =Path(data_dir/'Study_Design_Annotation_Snapshot_4_12_20.csv')\n",
    "metadata_filepath   = data_dir/'metadata.csv.zip'\n",
    "\n",
    "annotations_coronawhy = coronawhy_annotated_study_design(annotations_filepath, metadata_filepath)\n",
    "annotations_coronawhy.head()"
   ]
  },
  {
   "cell_type": "code",
   "execution_count": 5,
   "metadata": {},
   "outputs": [
    {
     "data": {
      "text/plain": [
       "{'in_silico': 0,\n",
       " 'in_vitro': 1,\n",
       " 'in_vivo': 2,\n",
       " 'RCT_review': 3,\n",
       " 'RCT': 4,\n",
       " 'controlled_trial_non_randomised': 5,\n",
       " 'comparative_study': 6,\n",
       " 'descriptive_study': 7,\n",
       " 'meta_study': 8}"
      ]
     },
     "execution_count": 5,
     "metadata": {},
     "output_type": "execute_result"
    }
   ],
   "source": [
    "colname_to_number_mapping = {\n",
    "        k: idx for idx, k in enumerate(['in_silico', 'in_vitro',\n",
    "                           'in_vivo', 'RCT_review', 'RCT', 'controlled_trial_non_randomised',\n",
    "                           'comparative_study', 'descriptive_study', 'meta_study'])\n",
    "    }\n",
    "colname_to_number_mapping"
   ]
  },
  {
   "cell_type": "code",
   "execution_count": null,
   "metadata": {},
   "outputs": [],
   "source": [
    "# # key = our name, value = david's label\n",
    "# coronawhy_to_david_mapping = {\n",
    "#     'in_silico': 9,\n",
    "#     'in_vitro':0,\n",
    "#  'in_vivo':0,\n",
    "#  'RCT_review': 3,\n",
    "#  'RCT': 2,\n",
    "#  'controlled_trial_non_randomised': 3,\n",
    "#  'comparative_study': 6,\n",
    "#  'descriptive_study': 7,\n",
    "#  'meta_study': 1\n",
    "# }"
   ]
  },
  {
   "cell_type": "code",
   "execution_count": 5,
   "metadata": {},
   "outputs": [
    {
     "data": {
      "text/plain": [
       "<matplotlib.axes._subplots.AxesSubplot at 0x7fc001ce4a10>"
      ]
     },
     "execution_count": 5,
     "metadata": {},
     "output_type": "execute_result"
    },
    {
     "data": {
      "image/png": "[encoded data removed]",
      "text/plain": [
       "<Figure size 432x288 with 1 Axes>"
      ]
     },
     "metadata": {
      "needs_background": "light"
     },
     "output_type": "display_data"
    }
   ],
   "source": [
    "annotations_coronawhy.label_string.value_counts().plot.bar()"
   ]
  },
  {
   "cell_type": "code",
   "execution_count": 6,
   "metadata": {},
   "outputs": [],
   "source": [
    "# load trained catboost model\n",
    "cb_model = CatBoostClassifier().load_model(str(data_dir/'catboost_david_annotation_2_may'))"
   ]
  },
  {
   "cell_type": "code",
   "execution_count": 8,
   "metadata": {},
   "outputs": [],
   "source": [
    "test_pool =  Pool(\n",
    "            annotations_coronawhy[['title', 'abstract']],\n",
    "            feature_names=['title', 'abstract'],\n",
    "            text_features=['title', 'abstract'])\n",
    "predictions = cb_model.predict(test_pool)\n",
    "probabilities = cb_model.predict_proba(test_pool)"
   ]
  },
  {
   "cell_type": "code",
   "execution_count": 10,
   "metadata": {},
   "outputs": [],
   "source": [
    "# david's mappings\n",
    "label_number_to_study_name_mapping = {\n",
    "        1: \"Systematic review\",\n",
    "        2: \"Randomized control trial\",\n",
    "        3: \"Non-randomized trial\",\n",
    "        4: \"Prospective observational\",\n",
    "        5: \"Time-to-event analysis\",\n",
    "        6: \"Retrospective observational\",\n",
    "        7: \"Cross-sectional\",\n",
    "        8: \"Case series\",\n",
    "        9: \"Modeling\",\n",
    "        0: \"Other\"\n",
    "    } "
   ]
  },
  {
   "cell_type": "code",
   "execution_count": 9,
   "metadata": {},
   "outputs": [],
   "source": [
    "\n",
    "\n",
    "predictions_numeric = pd.Series(predictions.squeeze())\n",
    "predictions_str = pd.Series(predictions.squeeze()).apply(label_number_to_study_name_mapping.get)\n",
    "predictions_proba = pd.DataFrame(np.max(probabilities, axis=1))"
   ]
  },
  {
   "cell_type": "code",
   "execution_count": 33,
   "metadata": {},
   "outputs": [
    {
     "data": {
      "text/plain": [
       "0                         Other\n",
       "1                         Other\n",
       "2                         Other\n",
       "3                      Modeling\n",
       "4                         Other\n",
       "                 ...           \n",
       "284                       Other\n",
       "285                 Case series\n",
       "286                 Case series\n",
       "287    Randomized control trial\n",
       "288                 Case series\n",
       "Length: 289, dtype: object"
      ]
     },
     "execution_count": 33,
     "metadata": {},
     "output_type": "execute_result"
    }
   ],
   "source": [
    "predictions"
   ]
  },
  {
   "cell_type": "code",
   "execution_count": 10,
   "metadata": {},
   "outputs": [],
   "source": [
    "annotations_coronawhy['catboost_predictions'] = predictions_numeric\n",
    "annotations_coronawhy['catboost_predictions_str'] = predictions_str\n",
    "annotations_coronawhy['catboost_predictions_proba'] = predictions_proba\n",
    "annotations_coronawhy['is_prediction_correct'] = \\\n",
    "    annotations_coronawhy[['catboost_predictions', 'label']] \\\n",
    "    .apply(lambda row: is_labelling_correct(row['label'], row['catboost_predictions']) , axis=1)\n",
    "annotations_coronawhy.to_csv(data_dir/'catboost_predictions.csv', index=False)"
   ]
  },
  {
   "cell_type": "code",
   "execution_count": 11,
   "metadata": {},
   "outputs": [
    {
     "data": {
      "text/plain": [
       "True     165\n",
       "False    124\n",
       "Name: is_prediction_correct, dtype: int64"
      ]
     },
     "execution_count": 11,
     "metadata": {},
     "output_type": "execute_result"
    }
   ],
   "source": [
    "annotations_coronawhy.is_prediction_correct.value_counts()"
   ]
  },
  {
   "cell_type": "code",
   "execution_count": 12,
   "metadata": {},
   "outputs": [
    {
     "data": {
      "text/plain": [
       "0.5709342560553633"
      ]
     },
     "execution_count": 12,
     "metadata": {},
     "output_type": "execute_result"
    }
   ],
   "source": [
    "165/289"
   ]
  },
  {
   "cell_type": "code",
   "execution_count": 38,
   "metadata": {},
   "outputs": [
    {
     "ename": "SyntaxError",
     "evalue": "invalid syntax (<ipython-input-38-f12113916136>, line 1)",
     "output_type": "error",
     "traceback": [
      "\u001b[0;36m  File \u001b[0;32m\"<ipython-input-38-f12113916136>\"\u001b[0;36m, line \u001b[0;32m1\u001b[0m\n\u001b[0;31m    lr_model = joblib.load() data_dir/'logistic_specter_embedddings_2may.pkl', compress=3)\u001b[0m\n\u001b[0m                                    ^\u001b[0m\n\u001b[0;31mSyntaxError\u001b[0m\u001b[0;31m:\u001b[0m invalid syntax\n"
     ]
    }
   ],
   "source": [
    "lr_model = joblib.load( data_dir/'logistic_specter_embedddings_2may.pkl', compress=3)\n",
    "lr_predictions = lr_model.predict()"
   ]
  },
  {
   "cell_type": "code",
   "execution_count": 4,
   "metadata": {},
   "outputs": [
    {
     "ename": "NameError",
     "evalue": "name 'cb_model' is not defined",
     "output_type": "error",
     "traceback": [
      "\u001b[0;31m---------------------------------------------------------------------------\u001b[0m",
      "\u001b[0;31mNameError\u001b[0m                                 Traceback (most recent call last)",
      "\u001b[0;32m<ipython-input-4-74d97db11a52>\u001b[0m in \u001b[0;36m<module>\u001b[0;34m\u001b[0m\n\u001b[1;32m      6\u001b[0m             \u001b[0mfeature_names\u001b[0m\u001b[0;34m=\u001b[0m\u001b[0;34m[\u001b[0m\u001b[0;34m'title'\u001b[0m\u001b[0;34m,\u001b[0m \u001b[0;34m'abstract'\u001b[0m\u001b[0;34m]\u001b[0m\u001b[0;34m,\u001b[0m\u001b[0;34m\u001b[0m\u001b[0;34m\u001b[0m\u001b[0m\n\u001b[1;32m      7\u001b[0m             text_features=['title', 'abstract'])\n\u001b[0;32m----> 8\u001b[0;31m \u001b[0mpredictions\u001b[0m \u001b[0;34m=\u001b[0m \u001b[0mcb_model\u001b[0m\u001b[0;34m.\u001b[0m\u001b[0mpredict\u001b[0m\u001b[0;34m(\u001b[0m\u001b[0mtest_pool\u001b[0m\u001b[0;34m)\u001b[0m\u001b[0;34m\u001b[0m\u001b[0;34m\u001b[0m\u001b[0m\n\u001b[0m\u001b[1;32m      9\u001b[0m \u001b[0mprobabilities\u001b[0m \u001b[0;34m=\u001b[0m \u001b[0mcb_model\u001b[0m\u001b[0;34m.\u001b[0m\u001b[0mpredict_proba\u001b[0m\u001b[0;34m(\u001b[0m\u001b[0mtest_pool\u001b[0m\u001b[0;34m)\u001b[0m\u001b[0;34m\u001b[0m\u001b[0;34m\u001b[0m\u001b[0m\n",
      "\u001b[0;31mNameError\u001b[0m: name 'cb_model' is not defined"
     ]
    }
   ],
   "source": [
    "metadata = pd.read_csv(metadata_filepath)\n",
    "test_cord_uids=pd.read_csv('/home/wwymak/Downloads/cord_uid_used.csv')\n",
    "test_df = test_cord_uids.merge(metadata, left_on='cord_uid', right_on='cord_uid')[['cord_uid', 'title', 'abstract']].fillna('')\n",
    "test_pool =  Pool(\n",
    "            test_df[['title', 'abstract']],\n",
    "            feature_names=['title', 'abstract'],\n",
    "            text_features=['title', 'abstract'])\n",
    "predictions = cb_model.predict(test_pool)\n",
    "probabilities = cb_model.predict_proba(test_pool)"
   ]
  },
  {
   "cell_type": "code",
   "execution_count": 26,
   "metadata": {},
   "outputs": [],
   "source": [
    "test_df['prediction'] = predictions\n",
    "test_df['prediction'] = test_df['prediction'].apply(label_number_to_study_name_mapping.get)\n",
    "test_df['prediction_proba'] = pd.Series(np.max(probabilities, axis=1))\n"
   ]
  },
  {
   "cell_type": "code",
   "execution_count": 27,
   "metadata": {},
   "outputs": [
    {
     "data": {
      "text/plain": [
       "<matplotlib.axes._subplots.AxesSubplot at 0x7ff18f80d4d0>"
      ]
     },
     "execution_count": 27,
     "metadata": {},
     "output_type": "execute_result"
    },
    {
     "data": {
      "image/png": "[encoded data removed]",
      "text/plain": [
       "<Figure size 432x288 with 1 Axes>"
      ]
     },
     "metadata": {
      "needs_background": "light"
     },
     "output_type": "display_data"
    }
   ],
   "source": [
    "test_df.prediction.value_counts().plot.bar()"
   ]
  },
  {
   "cell_type": "code",
   "execution_count": 28,
   "metadata": {},
   "outputs": [
    {
     "data": {
      "text/plain": [
       "['Traditional Chinese herbal medicine for treating novel coronavirus (COVID-19) pneumonia: protocol for a systematic review and meta-analysis',\n",
       " 'Incidence, clinical characteristics and prognostic factor of patients with COVID-19: a systematic review and meta-analysis',\n",
       " 'A brief review of antiviral drugs evaluated in registered clinical trials for COVID-19',\n",
       " 'Role of Chloroquine and Hydroxychloroquine in the Treatment of COVID-19 Infection- A Systematic Literature Review',\n",
       " 'Risk factors for severe corona virus disease 2019 (COVID-19) patients : a systematic review and meta analysis',\n",
       " 'Interleukin-6 in COVID-19: A Systematic Review and Meta-Analysis',\n",
       " 'COVID-19 infection during pregnancy: a systematic review to summarize possible symptoms, treatments, and pregnancy outcomes',\n",
       " 'Case fatality rate in COVID-19: a systematic review and meta-analysis',\n",
       " 'Therapeutic Management of COVID-19 Patients: A systematic review',\n",
       " 'Chloroquine and hydroxychloroquine for the treatment of COVID-19: A living systematic review protocol',\n",
       " 'Liver injury is associated with severe Coronavirus disease 2019 (COVID‑19) infection: a systematic review and meta-analysis of retrospective studies',\n",
       " 'Clinical, laboratory and imaging features of COVID-19: A systematic review and meta-analysis',\n",
       " 'Associations between immune-suppressive and stimulating drugs and novel COVID-19—a systematic review of current evidence',\n",
       " 'Pharmacotherapy in COVID-19; A narrative review for emergency providers',\n",
       " 'The possible of immunotherapy for COVID-19: A systematic review',\n",
       " 'Potential interventions for novel coronavirus in China: A systematic review',\n",
       " 'A systematic review to assess seizure risk with chloroquine therapy in persons with epilepsy',\n",
       " 'Efficacy of remdesivir versus placebo for the treatment of COVID-19: A protocol for systematic review and meta-analysis of randomized controlled trials',\n",
       " 'Molecular mechanism of action of repurposed drugs and traditional Chinese medicine used for the treatment of patients infected with COVID-19: A systematic review',\n",
       " 'Identifying factors and target preventive therapies for Middle East Respiratory Syndrome sucsibtable patients',\n",
       " 'A systematic review on the efficacy and safety of chloroquine for the treatment of COVID-19']"
      ]
     },
     "execution_count": 28,
     "metadata": {},
     "output_type": "execute_result"
    }
   ],
   "source": [
    "test_df[test_df.prediction =='Systematic review'].title.to_list()"
   ]
  },
  {
   "cell_type": "code",
   "execution_count": 21,
   "metadata": {
    "scrolled": true
   },
   "outputs": [
    {
     "data": {
      "text/plain": [
       "['Analysis of factors associated with disease outcomes in hospitalized patients with 2019 novel coronavirus disease',\n",
       " 'ACP risk grade: a simple mortality index for patients with confirmed or suspected severe acute respiratory syndrome coronavirus 2 disease (COVID-19) during the early stage of outbreak in Wuhan, China',\n",
       " 'Clinical Characteristics of 24 Asymptomatic Infections with COVID-19 Screened among Close Contacts in Nanjing, China',\n",
       " 'Clinical characteristics of 36 non-survivors with COVID-19 in Wuhan, China',\n",
       " 'Risk factors related to hepatic injury in patients with corona virus disease 2019',\n",
       " 'Clinical findings in critical ill patients infected with SARS-Cov-2 in Guangdong Province, China: a multi-center, retrospective, observational study',\n",
       " 'Clinical Features of Patients Infected with the 2019 Novel Coronavirus (COVID-19) in Shanghai, China',\n",
       " 'Clinical characteristics of 101 non-surviving hospitalized patients with COVID-19: A single center, retrospective study',\n",
       " 'Early, low-dose and short-term application of corticosteroid treatment in patients with severe COVID-19 pneumonia: single-center experience from Wuhan, China',\n",
       " 'A retrospective study of the clinical characteristics of COVID-19 infection in 26 children',\n",
       " 'Maternal and neonatal outcomes of pregnant women with COVID-19 pneumonia: a case-control study',\n",
       " 'The feasibility of convalescent plasma therapy in severe COVID-19 patients: a pilot study',\n",
       " 'Myocardial injury is associated with in-hospital mortality of confirmed or suspected COVID-19 in Wuhan, China: A single center retrospective cohort study',\n",
       " 'Clinical Characteristics of Hospitalized Patients with SARS-CoV-2 and Hepatitis B virus Co-infection',\n",
       " 'Anaesthetic managment and clinical outcomes of parturients with COVID-19: a multicentre, retrospective, propensity score matched cohort study',\n",
       " 'Comorbid Diabetes Mellitus was Associated with Poorer Prognosis in Patients with COVID-19: A Retrospective Cohort Study',\n",
       " 'Risk Factors Associated with Clinical Outcomes in 323 COVID-19 Patients in Wuhan, China',\n",
       " 'Risk assessment of progression to severe conditions for patients with COVID-19 pneumonia: a single-center retrospective study',\n",
       " 'Acute gastrointestinal injury in critically ill patients with coronavirus disease 2019 in Wuhan, China',\n",
       " 'Medical treatment of 55 patients with COVID-19 from seven cities in northeast China who fully recovered: a single-center, retrospective, observational study',\n",
       " 'Prognostic factors for COVID-19 pneumonia progression to severe symptom based on the earlier clinical features: a retrospective analysis',\n",
       " 'Virologic and clinical characteristics for prognosis of severe COVID-19: a retrospective observational study in Wuhan, China',\n",
       " 'Hypertension in patients hospitalized with COVID-19 in Wuhan, China: A single-center retrospective observational study',\n",
       " 'Acute kidney injury in patients hospitalized with COVID-19 in Wuhan, China: A single-center retrospective observational study',\n",
       " 'Prediction of the clinical outcome of COVID-19 patients using T lymphocyte subsets with 340 cases from Wuhan, China: a retrospective cohort study and a web visualization tool',\n",
       " 'Severe Acute Respiratory Syndrome Coronavirus 2 (SARS-CoV-2) Infection During Pregnancy In China: A Retrospective Cohort Study',\n",
       " 'Clinical course and outcomes of critically ill patients with SARS-CoV-2 pneumonia in Wuhan, China: a single-centered, retrospective, observational study',\n",
       " 'Clinical course and risk factors for mortality of adult inpatients with COVID-19 in Wuhan, China: a retrospective cohort study',\n",
       " 'Clinical Course and Outcomes of Patients with Severe Acute Respiratory Syndrome Coronavirus 2 Infection: a Preliminary Report of the First 28 Patients from the Korean Cohort Study on COVID-19',\n",
       " 'Epidemiological, clinical and virological characteristics of 74 cases of coronavirus-infected disease 2019 (COVID-19) with gastrointestinal symptoms',\n",
       " 'Arbidol combined with LPV/r versus LPV/r alone against Corona Virus Disease 2019: A retrospective cohort study',\n",
       " 'Evaluation of SARS-CoV-2 RNA shedding in clinical specimens and clinical characteristics of 10 patients with COVID-19 in Macau',\n",
       " 'Analysis of clinical characteristics and laboratory findings of 95 cases of 2019 novel coronavirus pneumonia in Wuhan, China: a retrospective analysis',\n",
       " 'Spinal anaesthesia for patients with coronavirus disease 2019 and possible transmission rates in anaesthetists: retrospective, single-centre, observational cohort study',\n",
       " 'Risk factors of fatal outcome in hospitalized subjects with coronavirus disease 2019 from a nationwide analysis in China',\n",
       " 'Epidemiological, clinical characteristics of cases of SARS-CoV-2 infection with abnormal imaging findings',\n",
       " 'Temporal profiles of viral load in posterior oropharyngeal saliva samples and serum antibody responses during infection by SARS-CoV-2: an observational cohort study',\n",
       " 'Clinical and epidemiological features of 36 children with coronavirus disease 2019 (COVID-19) in Zhejiang, China: an observational cohort study',\n",
       " 'Clinical characteristics of refractory COVID-19 pneumonia in Wuhan, China | Clinical Infectious Diseases | Oxford Academic',\n",
       " 'Clinical characteristics and outcomes of 112 cardiovascular disease patients infected by 2019-nCoV',\n",
       " 'Comparison of chest CT images between confirmed and suspected cases of COVID-19',\n",
       " 'Clinical Characteristics of 138 Hospitalized Patients With 2019 Novel Coronavirus-Infected Pneumonia in Wuhan, China',\n",
       " 'Clinical Features of 69 Cases with Coronavirus Disease 2019 in Wuhan, China | Clinical Infectious Diseases | Oxford Academic',\n",
       " 'Clinical characteristics and influencing factors of patients with novel coronavirus pneumonia combined with liver injury in Shaanxi region',\n",
       " 'Factors associated with prolonged viral shedding and impact of Lopinavir/Ritonavir treatment in patients with SARS-CoV-2 infection',\n",
       " 'Metabolic disturbances and inflammatory dysfunction predict severity of coronavirus disease 2019 (COVID-19): a retrospective study',\n",
       " 'Hydroxychloroquine (HCQ): an observational cohort study in primary and secondary prevention of pneumonia in an at-risk population',\n",
       " 'Risk Factors Associated With Acute Respiratory Distress Syndrome and Death in Patients With Coronavirus Disease 2019 Pneumonia in Wuhan, China',\n",
       " 'Clinical characteristics of refractory COVID-19 pneumonia in Wuhan, China',\n",
       " 'Associations of clinical characteristics and antiviral drugs with viral RNA clearance in patients with COVID-19 in Guangzhou, China: a retrospective cohort study',\n",
       " 'Clinical features and management of severe COVID-19: A retrospective study in Wuxi, Jiangsu Province, China',\n",
       " 'Clinical Efficacy of Intravenous Immunoglobulin Therapy in Critical Patients with COVID-19: A multicenter retrospective cohort study',\n",
       " 'Kidney disease is associated with in-hospital death of patients with COVID-19',\n",
       " 'Clinical features of patients infected with 2019 novel coronavirus in Wuhan, China']"
      ]
     },
     "execution_count": 21,
     "metadata": {},
     "output_type": "execute_result"
    }
   ],
   "source": [
    "test_df[test_df.prediction =='Retrospective observational'].title.to_list()"
   ]
  },
  {
   "cell_type": "code",
   "execution_count": 29,
   "metadata": {},
   "outputs": [],
   "source": [
    "test_df.to_csv('~/Downloads/claims_study_type_classified.csv', index=False)"
   ]
  },
  {
   "cell_type": "code",
   "execution_count": 19,
   "metadata": {},
   "outputs": [
    {
     "data": {
      "text/plain": [
       "array(['Other', 'Retrospective observational', 'Case series', 'Modeling',\n",
       "       'Systematic review', 'Randomized control trial', 'Cross-sectional',\n",
       "       'Prospective observational'], dtype=object)"
      ]
     },
     "execution_count": 19,
     "metadata": {},
     "output_type": "execute_result"
    }
   ],
   "source": [
    "test_df.prediction.unique()"
   ]
  },
  {
   "cell_type": "code",
   "execution_count": 15,
   "metadata": {},
   "outputs": [
    {
     "data": {
      "text/plain": [
       "['PMC125340', 'PMC125375', 'PMC125543', 'PMC126080', 'PMC136939']"
      ]
     },
     "execution_count": 15,
     "metadata": {},
     "output_type": "execute_result"
    }
   ],
   "source": [
    "metadata[metadata.pmcid.notnull()].pmcid.head(5).to_list()"
   ]
  },
  {
   "cell_type": "code",
   "execution_count": 30,
   "metadata": {},
   "outputs": [],
   "source": [
    "metadata[metadata.pmcid.notnull()].pmcid.head(2000).to_csv('~/Downloads/metadata_subset.txt', index=False, header=None)"
   ]
  },
  {
   "cell_type": "code",
   "execution_count": null,
   "metadata": {},
   "outputs": [],
   "source": [
    "Systematic review or meta-analysis of RCTs\t(1)\n",
    "Randomized controlled trial (2)\n",
    "Non-randomized controlled trial (3)\n",
    "Comparative study with concurrent controls (cohort studies, case-control studies, or interrupted time series with a control group)\t4\n",
    "Comparative study with a historical control (2 or more single-arm studies, or interrupted time series without a parallel control group)\t6\n",
    "Descriptive study (case series, case reports)\t(8)\n",
    "Systematic review or meta-analysis of studies other than RCTs\t1\n",
    "Other (commentary, editorial, non-systematic review, expert opinion) 0\n"
   ]
  },
  {
   "cell_type": "code",
   "execution_count": 5,
   "metadata": {},
   "outputs": [
    {
     "data": {
      "text/plain": [
       "Index(['cord_uid', 'sha', 'source_x', 'title', 'doi', 'pmcid', 'pubmed_id',\n",
       "       'license', 'abstract', 'publish_time', 'authors', 'journal',\n",
       "       'Microsoft Academic Paper ID', 'WHO #Covidence', 'has_pdf_parse',\n",
       "       'has_pmc_xml_parse', 'full_text_file', 'url'],\n",
       "      dtype='object')"
      ]
     },
     "execution_count": 5,
     "metadata": {},
     "output_type": "execute_result"
    }
   ],
   "source": [
    "metadata.columns"
   ]
  },
  {
   "cell_type": "code",
   "execution_count": 6,
   "metadata": {},
   "outputs": [
    {
     "data": {
      "text/plain": [
       "((57366, 18), 40905)"
      ]
     },
     "execution_count": 6,
     "metadata": {},
     "output_type": "execute_result"
    }
   ],
   "source": [
    "metadata.shape, metadata.pubmed_id.notnull().sum()"
   ]
  },
  {
   "cell_type": "code",
   "execution_count": null,
   "metadata": {},
   "outputs": [],
   "source": []
  }
 ],
 "metadata": {
  "kernelspec": {
   "display_name": "Python [conda env:immo-ml]",
   "language": "python",
   "name": "conda-env-immo-ml-py"
  },
  "language_info": {
   "codemirror_mode": {
    "name": "ipython",
    "version": 3
   },
   "file_extension": ".py",
   "mimetype": "text/x-python",
   "name": "python",
   "nbconvert_exporter": "python",
   "pygments_lexer": "ipython3",
   "version": "3.7.6"
  }
 },
 "nbformat": 4,
 "nbformat_minor": 2
}
