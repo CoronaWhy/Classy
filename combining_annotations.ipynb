{
 "cells": [
  {
   "cell_type": "markdown",
   "metadata": {},
   "source": [
    "Mapping from Dan's labels to ours\n",
    "\n",
    "Simulation = in silico\n",
    "Other = others (but maybe one is a superset of the other given the additional categories, especially experimental (in vivo/vitro))\n",
    "Meta analysis = meta_study + RCT_review\n",
    "Randomized … = RCT\n",
    "Non-randomized trial = controlled_trial_non_randomised\n",
    "Prospective cohort + Retrospective cohort + Time-series analysis + Case-control + Cross-sectional + Case Study = comparative_study + descriptive_study = observational study\n",
    "No map = in_vitro\n",
    "No map = in_vivo\n",
    "\n",
    "['Other',\n",
    " 'Meta analysis',\n",
    " 'Randomized control trial',\n",
    " 'Non-randomized trial',\n",
    " 'Prospective cohort',\n",
    " 'Time-series analysis',\n",
    " 'Retrospective cohort',\n",
    " 'Cross-sectional',\n",
    " 'Case control',\n",
    " 'Case study',\n",
    " 'Simulation']"
   ]
  },
  {
   "cell_type": "code",
   "execution_count": 43,
   "metadata": {},
   "outputs": [
    {
     "name": "stdout",
     "output_type": "stream",
     "text": [
      "The autoreload extension is already loaded. To reload it, use:\n",
      "  %reload_ext autoreload\n"
     ]
    }
   ],
   "source": [
    "from common.logging import create_logger\n",
    "from pathlib import Path\n",
    "import numpy as np\n",
    "import pandas as pd\n",
    "from datasets import single_label_multiclass_annotated_study_design, enrich_annotations, annotations_with_specter_embeddings, coronawhy_annotated_study_design\n",
    "from classifier import train_validate_catboost_model\n",
    "from datetime import datetime\n",
    "import matplotlib.pyplot as plt\n",
    "from tqdm import tqdm\n",
    "%matplotlib inline\n",
    "%load_ext autoreload\n",
    "%autoreload 2"
   ]
  },
  {
   "cell_type": "code",
   "execution_count": 44,
   "metadata": {},
   "outputs": [
    {
     "data": {
      "text/html": [
       "<div>\n",
       "<style scoped>\n",
       "    .dataframe tbody tr th:only-of-type {\n",
       "        vertical-align: middle;\n",
       "    }\n",
       "\n",
       "    .dataframe tbody tr th {\n",
       "        vertical-align: top;\n",
       "    }\n",
       "\n",
       "    .dataframe thead th {\n",
       "        text-align: right;\n",
       "    }\n",
       "</style>\n",
       "<table border=\"1\" class=\"dataframe\">\n",
       "  <thead>\n",
       "    <tr style=\"text-align: right;\">\n",
       "      <th></th>\n",
       "      <th>cord_uid</th>\n",
       "      <th>title</th>\n",
       "      <th>abstract</th>\n",
       "      <th>label</th>\n",
       "      <th>label_string</th>\n",
       "    </tr>\n",
       "  </thead>\n",
       "  <tbody>\n",
       "    <tr>\n",
       "      <th>0</th>\n",
       "      <td>480bzpi1</td>\n",
       "      <td>Do we have enough evidence how seasonal influe...</td>\n",
       "      <td>Abstract Purpose To identify if there is enoug...</td>\n",
       "      <td>8</td>\n",
       "      <td>meta_study</td>\n",
       "    </tr>\n",
       "    <tr>\n",
       "      <th>1</th>\n",
       "      <td>y8z0pwgn</td>\n",
       "      <td>A permanent host shift of rabies virus from Ch...</td>\n",
       "      <td>Bat virus host shifts can result in the spread...</td>\n",
       "      <td>0</td>\n",
       "      <td>in_silico</td>\n",
       "    </tr>\n",
       "    <tr>\n",
       "      <th>2</th>\n",
       "      <td>cxwucrgo</td>\n",
       "      <td>Structural maturation of rubella virus in the ...</td>\n",
       "      <td>Abstract Rubella virus is a small enveloped vi...</td>\n",
       "      <td>1</td>\n",
       "      <td>in_vitro</td>\n",
       "    </tr>\n",
       "    <tr>\n",
       "      <th>3</th>\n",
       "      <td>u4mvk89w</td>\n",
       "      <td>X-Ray Structure and Inhibition of 3C-like Prot...</td>\n",
       "      <td>Porcine epidemic diarrhea virus (PEDV) is a co...</td>\n",
       "      <td>1</td>\n",
       "      <td>in_vitro</td>\n",
       "    </tr>\n",
       "    <tr>\n",
       "      <th>4</th>\n",
       "      <td>ff9vfrvc</td>\n",
       "      <td>Impact of SARS on healthcare utilization by di...</td>\n",
       "      <td>Abstract Objective To assess the impact of the...</td>\n",
       "      <td>7</td>\n",
       "      <td>descriptive_study</td>\n",
       "    </tr>\n",
       "  </tbody>\n",
       "</table>\n",
       "</div>"
      ],
      "text/plain": [
       "   cord_uid                                              title  \\\n",
       "0  480bzpi1  Do we have enough evidence how seasonal influe...   \n",
       "1  y8z0pwgn  A permanent host shift of rabies virus from Ch...   \n",
       "2  cxwucrgo  Structural maturation of rubella virus in the ...   \n",
       "3  u4mvk89w  X-Ray Structure and Inhibition of 3C-like Prot...   \n",
       "4  ff9vfrvc  Impact of SARS on healthcare utilization by di...   \n",
       "\n",
       "                                            abstract  label       label_string  \n",
       "0  Abstract Purpose To identify if there is enoug...      8         meta_study  \n",
       "1  Bat virus host shifts can result in the spread...      0          in_silico  \n",
       "2  Abstract Rubella virus is a small enveloped vi...      1           in_vitro  \n",
       "3  Porcine epidemic diarrhea virus (PEDV) is a co...      1           in_vitro  \n",
       "4  Abstract Objective To assess the impact of the...      7  descriptive_study  "
      ]
     },
     "execution_count": 44,
     "metadata": {},
     "output_type": "execute_result"
    }
   ],
   "source": [
    "data_dir = Path('/media/wwymak/Storage/coronawhy/nlp_datasets')\n",
    "annotations_filepath =Path(data_dir/'Study_Design_Annotation_Snapshot_4_12_20.csv')\n",
    "metadata_filepath   = data_dir/'metadata.csv.zip'\n",
    "\n",
    "annotations_coronawhy = coronawhy_annotated_study_design(annotations_filepath, metadata_filepath)\n",
    "annotations_coronawhy.head()"
   ]
  },
  {
   "cell_type": "code",
   "execution_count": 46,
   "metadata": {},
   "outputs": [
    {
     "data": {
      "text/plain": [
       "<matplotlib.axes._subplots.AxesSubplot at 0x7faab2017dd0>"
      ]
     },
     "execution_count": 46,
     "metadata": {},
     "output_type": "execute_result"
    },
    {
     "data": {
      "image/png": "[encoded data removed]",
      "text/plain": [
       "<Figure size 432x288 with 1 Axes>"
      ]
     },
     "metadata": {
      "needs_background": "light"
     },
     "output_type": "display_data"
    }
   ],
   "source": [
    "annotations_coronawhy.label_string.value_counts().plot.bar()"
   ]
  },
  {
   "cell_type": "code",
   "execution_count": null,
   "metadata": {},
   "outputs": [],
   "source": []
  }
 ],
 "metadata": {
  "kernelspec": {
   "display_name": "Python [conda env:immo-ml]",
   "language": "python",
   "name": "conda-env-immo-ml-py"
  },
  "language_info": {
   "codemirror_mode": {
    "name": "ipython",
    "version": 3
   },
   "file_extension": ".py",
   "mimetype": "text/x-python",
   "name": "python",
   "nbconvert_exporter": "python",
   "pygments_lexer": "ipython3",
   "version": "3.7.6"
  }
 },
 "nbformat": 4,
 "nbformat_minor": 2
}
