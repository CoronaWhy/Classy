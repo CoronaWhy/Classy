{
 "cells": [
  {
   "cell_type": "code",
   "execution_count": 33,
   "metadata": {},
   "outputs": [
    {
     "name": "stdout",
     "output_type": "stream",
     "text": [
      "The autoreload extension is already loaded. To reload it, use:\n",
      "  %reload_ext autoreload\n"
     ]
    }
   ],
   "source": [
    "from common.logging import create_logger\n",
    "from pathlib import Path\n",
    "import pandas as pd\n",
    "from datasets import single_label_multiclass_annotated_study_design, enrich_annotations, annotations_with_specter_embeddings\n",
    "\n",
    "from datetime import datetime\n",
    "import matplotlib.pyplot as plt\n",
    "import numpy as np\n",
    "from sklearn import svm\n",
    "from sklearn.linear_model import LogisticRegression, LogisticRegressionCV\n",
    "from sklearn.ensemble import ExtraTreesClassifier, RandomForestClassifier\n",
    "from sklearn.model_selection import cross_validate\n",
    "%matplotlib inline\n",
    "%load_ext autoreload\n",
    "%autoreload 2"
   ]
  },
  {
   "cell_type": "code",
   "execution_count": 3,
   "metadata": {},
   "outputs": [],
   "source": [
    "\n",
    "data_dir = Path('/media/wwymak/Storage/coronawhy/nlp_datasets')\n",
    "annotations_filepath = (data_dir / 'cord19_study_design_labelled' / 'design.csv')\n",
    "metadata_filepath   = data_dir/'metadata.csv.zip'\n",
    "processed_article_folder = data_dir / 'v8'/ 'processed_text'\n",
    "annotations_raw = single_label_multiclass_annotated_study_design(annotations_filepath, metadata_filepath)\n",
    "annotations_with_specter_df = annotations_with_specter_embeddings(annotations_raw,data_dir/ 'cord_19_specter_embeddings_4_17.csv.zip' )"
   ]
  },
  {
   "cell_type": "code",
   "execution_count": 9,
   "metadata": {},
   "outputs": [
    {
     "data": {
      "text/plain": [
       "Index(['sha', 'cord_uid', 'label', 'title', 'abstract', 'label_string', '0',\n",
       "       '1', '2', '3',\n",
       "       ...\n",
       "       '758', '759', '760', '761', '762', '763', '764', '765', '766', '767'],\n",
       "      dtype='object', length=774)"
      ]
     },
     "execution_count": 9,
     "metadata": {},
     "output_type": "execute_result"
    }
   ],
   "source": [
    "annotations_with_specter_df.columns"
   ]
  },
  {
   "cell_type": "code",
   "execution_count": 28,
   "metadata": {},
   "outputs": [
    {
     "data": {
      "text/plain": [
       "sklearn.linear_model._logistic.LogisticRegression"
      ]
     },
     "execution_count": 28,
     "metadata": {},
     "output_type": "execute_result"
    }
   ],
   "source": [
    "LogisticRegression().__class__"
   ]
  },
  {
   "cell_type": "code",
   "execution_count": 23,
   "metadata": {},
   "outputs": [
    {
     "name": "stderr",
     "output_type": "stream",
     "text": [
      "/home/wwymak/anaconda3/envs/immo-ml/lib/python3.7/site-packages/sklearn/model_selection/_split.py:667: UserWarning: The least populated class in y has only 3 members, which is less than n_splits=5.\n",
      "  % (min_groups, self.n_splits)), UserWarning)\n"
     ]
    }
   ],
   "source": [
    "cv_scores = cross_validate(LogisticRegression(max_iter=5000), \n",
    "                           annotations_with_specter_df.drop(columns=['sha', 'cord_uid', 'label', 'title', 'abstract', 'label_string']),\n",
    "    annotations_with_specter_df.label, cv=5, scoring=('accuracy', 'f1_macro'))"
   ]
  },
  {
   "cell_type": "code",
   "execution_count": 24,
   "metadata": {},
   "outputs": [
    {
     "data": {
      "text/plain": [
       "{'fit_time': array([1.05824304, 4.13299084, 3.37469125, 1.27372766, 0.9546032 ]),\n",
       " 'score_time': array([0.00161362, 0.00162554, 0.00158596, 0.00160217, 0.00158358]),\n",
       " 'test_accuracy': array([0.75      , 0.75428571, 0.75428571, 0.73714286, 0.70285714]),\n",
       " 'test_f1_macro': array([0.69081523, 0.72047301, 0.74266748, 0.69178386, 0.56877695])}"
      ]
     },
     "execution_count": 24,
     "metadata": {},
     "output_type": "execute_result"
    }
   ],
   "source": [
    "cv_scores"
   ]
  },
  {
   "cell_type": "code",
   "execution_count": 34,
   "metadata": {},
   "outputs": [
    {
     "name": "stderr",
     "output_type": "stream",
     "text": [
      "/home/wwymak/anaconda3/envs/immo-ml/lib/python3.7/site-packages/sklearn/model_selection/_split.py:667: UserWarning: The least populated class in y has only 3 members, which is less than n_splits=5.\n",
      "  % (min_groups, self.n_splits)), UserWarning)\n"
     ]
    },
    {
     "name": "stdout",
     "output_type": "stream",
     "text": [
      "<class 'sklearn.ensemble._forest.ExtraTreesClassifier'> f1 macro avg: 0.518755261778402 accuracy: 0.6506363636363636\n"
     ]
    },
    {
     "name": "stderr",
     "output_type": "stream",
     "text": [
      "/home/wwymak/anaconda3/envs/immo-ml/lib/python3.7/site-packages/sklearn/model_selection/_split.py:667: UserWarning: The least populated class in y has only 3 members, which is less than n_splits=5.\n",
      "  % (min_groups, self.n_splits)), UserWarning)\n"
     ]
    },
    {
     "name": "stdout",
     "output_type": "stream",
     "text": [
      "<class 'sklearn.ensemble._forest.RandomForestClassifier'> f1 macro avg: 0.4890067388382688 accuracy: 0.6483701298701299\n"
     ]
    },
    {
     "name": "stderr",
     "output_type": "stream",
     "text": [
      "/home/wwymak/anaconda3/envs/immo-ml/lib/python3.7/site-packages/sklearn/model_selection/_split.py:667: UserWarning: The least populated class in y has only 3 members, which is less than n_splits=5.\n",
      "  % (min_groups, self.n_splits)), UserWarning)\n"
     ]
    },
    {
     "name": "stdout",
     "output_type": "stream",
     "text": [
      "<class 'sklearn.linear_model._logistic.LogisticRegression'> f1 macro avg: 0.6829033061010075 accuracy: 0.7397142857142858\n"
     ]
    },
    {
     "name": "stderr",
     "output_type": "stream",
     "text": [
      "/home/wwymak/anaconda3/envs/immo-ml/lib/python3.7/site-packages/sklearn/model_selection/_split.py:667: UserWarning: The least populated class in y has only 3 members, which is less than n_splits=5.\n",
      "  % (min_groups, self.n_splits)), UserWarning)\n"
     ]
    },
    {
     "name": "stdout",
     "output_type": "stream",
     "text": [
      "<class 'sklearn.svm._classes.SVC'> f1 macro avg: 0.7032135565882054 accuracy: 0.7397012987012987\n"
     ]
    },
    {
     "name": "stderr",
     "output_type": "stream",
     "text": [
      "/home/wwymak/anaconda3/envs/immo-ml/lib/python3.7/site-packages/sklearn/model_selection/_split.py:667: UserWarning: The least populated class in y has only 3 members, which is less than n_splits=5.\n",
      "  % (min_groups, self.n_splits)), UserWarning)\n"
     ]
    },
    {
     "name": "stdout",
     "output_type": "stream",
     "text": [
      "<class 'sklearn.svm._classes.SVC'> f1 macro avg: 0.04520401096163428 accuracy: 0.2762532467532467\n"
     ]
    }
   ],
   "source": [
    "models = [ExtraTreesClassifier(n_estimators=500),RandomForestClassifier(n_estimators=500), LogisticRegression(max_iter=5000),\n",
    "         svm.SVC(kernel='linear'),svm.SVC(kernel='rbf', gamma=0.7)]\n",
    "for model in models:\n",
    "    cv_scores = cross_validate(model, \n",
    "                       annotations_with_specter_df.drop(columns=['sha', 'cord_uid', 'label', 'title', 'abstract', 'label_string']),\n",
    "                    annotations_with_specter_df.label, cv=5, scoring=('accuracy', 'f1_macro'))  \n",
    "    print(model.__class__, f\"f1 macro avg: {np.mean(cv_scores['test_f1_macro'])}\", f\"accuracy: {np.mean(cv_scores['test_accuracy'])}\")\n",
    "          "
   ]
  },
  {
   "cell_type": "code",
   "execution_count": 35,
   "metadata": {},
   "outputs": [
    {
     "data": {
      "text/plain": [
       "['/media/wwymak/Storage/coronawhy/nlp_datasets/logistic_specter_embedddings_2may.pkl']"
      ]
     },
     "execution_count": 35,
     "metadata": {},
     "output_type": "execute_result"
    }
   ],
   "source": [
    "# final model\n",
    "import joblib\n",
    "clf = LogisticRegression(max_iter=5000).fit(annotations_with_specter_df.drop(columns=['sha', 'cord_uid', 'label', 'title', 'abstract', 'label_string']),\n",
    "    annotations_with_specter_df.label)\n",
    "joblib.dump(clf, data_dir/'logistic_specter_embedddings_2may.pkl', compress=3)"
   ]
  },
  {
   "cell_type": "code",
   "execution_count": null,
   "metadata": {},
   "outputs": [],
   "source": []
  }
 ],
 "metadata": {
  "kernelspec": {
   "display_name": "Python [conda env:immo-ml]",
   "language": "python",
   "name": "conda-env-immo-ml-py"
  },
  "language_info": {
   "codemirror_mode": {
    "name": "ipython",
    "version": 3
   },
   "file_extension": ".py",
   "mimetype": "text/x-python",
   "name": "python",
   "nbconvert_exporter": "python",
   "pygments_lexer": "ipython3",
   "version": "3.7.6"
  }
 },
 "nbformat": 4,
 "nbformat_minor": 2
}
