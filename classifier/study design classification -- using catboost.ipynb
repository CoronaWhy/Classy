{
 "cells": [
  {
   "cell_type": "code",
   "execution_count": 4,
   "metadata": {},
   "outputs": [],
   "source": [
    "import sys\n",
    "import os\n",
    "sys.path.insert(0, '..')\n",
    "                             \n",
    "from common.logging import create_logger\n",
    "from pathlib import Path\n",
    "import pandas as pd\n",
    "import numpy as np\n",
    "from datasets import single_label_multiclass_annotated_study_design, enrich_annotations, annotations_with_specter_embeddings\n",
    "from classifier import train_validate_catboost_model\n",
    "\n",
    "from datetime import datetime\n",
    "import matplotlib.pyplot as plt\n",
    "import joblib\n",
    "from tqdm import tqdm\n",
    "%matplotlib inline\n",
    "%load_ext autoreload\n",
    "%autoreload 2"
   ]
  },
  {
   "cell_type": "markdown",
   "metadata": {},
   "source": [
    "Fetch the datasets (using David Metzzi's annotations)"
   ]
  },
  {
   "cell_type": "code",
   "execution_count": 5,
   "metadata": {},
   "outputs": [],
   "source": [
    "\n",
    "data_dir = Path('/media/wwymak/Storage/coronawhy/nlp_datasets')\n",
    "annotations_filepath = (data_dir / 'cord19_study_design_labelled' / 'design.csv')\n",
    "metadata_filepath   = data_dir/'metadata.csv.zip'\n",
    "processed_article_folder = data_dir / 'v8'/ 'processed_text'\n",
    "# annotations + metadata from kaggle to get the title + abstract. \n",
    "annotations_raw = single_label_multiclass_annotated_study_design(annotations_filepath, metadata_filepath)"
   ]
  },
  {
   "cell_type": "code",
   "execution_count": 6,
   "metadata": {
    "scrolled": true
   },
   "outputs": [
    {
     "data": {
      "text/html": [
       "<div>\n",
       "<style scoped>\n",
       "    .dataframe tbody tr th:only-of-type {\n",
       "        vertical-align: middle;\n",
       "    }\n",
       "\n",
       "    .dataframe tbody tr th {\n",
       "        vertical-align: top;\n",
       "    }\n",
       "\n",
       "    .dataframe thead th {\n",
       "        text-align: right;\n",
       "    }\n",
       "</style>\n",
       "<table border=\"1\" class=\"dataframe\">\n",
       "  <thead>\n",
       "    <tr style=\"text-align: right;\">\n",
       "      <th></th>\n",
       "      <th>sha</th>\n",
       "      <th>cord_uid</th>\n",
       "      <th>label</th>\n",
       "      <th>title</th>\n",
       "      <th>abstract</th>\n",
       "      <th>label_string</th>\n",
       "    </tr>\n",
       "  </thead>\n",
       "  <tbody>\n",
       "    <tr>\n",
       "      <th>2</th>\n",
       "      <td>02ad2466714536b6afcd21eca338d69934a7aaab</td>\n",
       "      <td>5gkp9tlt</td>\n",
       "      <td>0</td>\n",
       "      <td>Characteristic ECG Manifestations in Patients ...</td>\n",
       "      <td>Abstract Cardiac involvement has been reported...</td>\n",
       "      <td>Other</td>\n",
       "    </tr>\n",
       "    <tr>\n",
       "      <th>3</th>\n",
       "      <td>034592dd949ad58ee6eaf4f71124fd3098f5b85c</td>\n",
       "      <td>e55vmgjr</td>\n",
       "      <td>0</td>\n",
       "      <td>COVID-19 admissions calculators: General popul...</td>\n",
       "      <td>Abstract The world is in the grip of pandemic ...</td>\n",
       "      <td>Other</td>\n",
       "    </tr>\n",
       "    <tr>\n",
       "      <th>6</th>\n",
       "      <td>0471b1305913315d977959b20005dea68f1881f7</td>\n",
       "      <td>kewnvb7p</td>\n",
       "      <td>0</td>\n",
       "      <td>COVID-19 the showdown for mass casualty prepar...</td>\n",
       "      <td>Since December 2019, the world is potentially ...</td>\n",
       "      <td>Other</td>\n",
       "    </tr>\n",
       "    <tr>\n",
       "      <th>11</th>\n",
       "      <td>06837008df793f872a6fb830dfb83c9525edb7c4</td>\n",
       "      <td>52nw9gxq</td>\n",
       "      <td>0</td>\n",
       "      <td>An artificial intelligence-based first-line de...</td>\n",
       "      <td>ABSTRACTTo combat the pandemic of the coronavi...</td>\n",
       "      <td>Other</td>\n",
       "    </tr>\n",
       "    <tr>\n",
       "      <th>12</th>\n",
       "      <td>06d12dc5ac32d82387c65370d0a600e13059122d</td>\n",
       "      <td>ld0vo1rl</td>\n",
       "      <td>0</td>\n",
       "      <td>COVID-19 coronavirus vaccine design using reve...</td>\n",
       "      <td>To ultimately combat the emerging COVID-19 pan...</td>\n",
       "      <td>Other</td>\n",
       "    </tr>\n",
       "  </tbody>\n",
       "</table>\n",
       "</div>"
      ],
      "text/plain": [
       "                                         sha  cord_uid  label  \\\n",
       "2   02ad2466714536b6afcd21eca338d69934a7aaab  5gkp9tlt      0   \n",
       "3   034592dd949ad58ee6eaf4f71124fd3098f5b85c  e55vmgjr      0   \n",
       "6   0471b1305913315d977959b20005dea68f1881f7  kewnvb7p      0   \n",
       "11  06837008df793f872a6fb830dfb83c9525edb7c4  52nw9gxq      0   \n",
       "12  06d12dc5ac32d82387c65370d0a600e13059122d  ld0vo1rl      0   \n",
       "\n",
       "                                                title  \\\n",
       "2   Characteristic ECG Manifestations in Patients ...   \n",
       "3   COVID-19 admissions calculators: General popul...   \n",
       "6   COVID-19 the showdown for mass casualty prepar...   \n",
       "11  An artificial intelligence-based first-line de...   \n",
       "12  COVID-19 coronavirus vaccine design using reve...   \n",
       "\n",
       "                                             abstract label_string  \n",
       "2   Abstract Cardiac involvement has been reported...        Other  \n",
       "3   Abstract The world is in the grip of pandemic ...        Other  \n",
       "6   Since December 2019, the world is potentially ...        Other  \n",
       "11  ABSTRACTTo combat the pandemic of the coronavi...        Other  \n",
       "12  To ultimately combat the emerging COVID-19 pan...        Other  "
      ]
     },
     "execution_count": 6,
     "metadata": {},
     "output_type": "execute_result"
    }
   ],
   "source": [
    "annotations_raw.head()"
   ]
  },
  {
   "cell_type": "code",
   "execution_count": 7,
   "metadata": {},
   "outputs": [
    {
     "data": {
      "text/plain": [
       "((875, 6),\n",
       " Index(['sha', 'cord_uid', 'label', 'title', 'abstract', 'label_string'], dtype='object'))"
      ]
     },
     "execution_count": 7,
     "metadata": {},
     "output_type": "execute_result"
    }
   ],
   "source": [
    "# number of training samples we have\n",
    "annotations_raw.shape, annotations_raw.columns"
   ]
  },
  {
   "cell_type": "code",
   "execution_count": 5,
   "metadata": {},
   "outputs": [
    {
     "data": {
      "text/plain": [
       "<matplotlib.axes._subplots.AxesSubplot at 0x7fce37d61790>"
      ]
     },
     "execution_count": 5,
     "metadata": {},
     "output_type": "execute_result"
    },
    {
     "data": {
      "image/png": "[encoded data removed]",
      "text/plain": [
       "<Figure size 432x288 with 1 Axes>"
      ]
     },
     "metadata": {
      "needs_background": "light"
     },
     "output_type": "display_data"
    }
   ],
   "source": [
    "annotations_raw.label_string.value_counts().sort_index().plot.bar()"
   ]
  },
  {
   "cell_type": "code",
   "execution_count": 6,
   "metadata": {},
   "outputs": [
    {
     "data": {
      "text/plain": [
       "['Other',\n",
       " 'Systematic review',\n",
       " 'Randomized control trial',\n",
       " 'Non-randomized trial',\n",
       " 'Prospective observational',\n",
       " 'Time-to-event analysis',\n",
       " 'Retrospective observational',\n",
       " 'Cross-sectional',\n",
       " 'Case series',\n",
       " 'Modeling']"
      ]
     },
     "execution_count": 6,
     "metadata": {},
     "output_type": "execute_result"
    }
   ],
   "source": [
    "list(annotations_raw.label_string.unique())"
   ]
  },
  {
   "cell_type": "markdown",
   "metadata": {},
   "source": [
    "classification with catboost on annotations title + abstract, using text features"
   ]
  },
  {
   "cell_type": "code",
   "execution_count": 6,
   "metadata": {},
   "outputs": [],
   "source": [
    "design_labelled_metadata = annotations_raw[['abstract', 'title', 'label']].sample(frac=1.0)\n",
    "test_set_len = len(design_labelled_metadata) //5"
   ]
  },
  {
   "cell_type": "code",
   "execution_count": 7,
   "metadata": {},
   "outputs": [
    {
     "name": "stderr",
     "output_type": "stream",
     "text": [
      "  0%|          | 0/5 [00:00<?, ?it/s]2020-05-01 22:05:56,813::INFO::catboost_classifier.py::82  accuracy: 0.84\n",
      "2020-05-01 22:05:56,813::INFO::catboost_classifier.py::83  f1: [0.82608696 1.         1.         0.85714286 0.         0.5\n",
      " 0.95833333 0.75862069 0.82352941]\n",
      "2020-05-01 22:05:56,814::INFO::catboost_classifier.py::84  f1_macro: 0.7470792498242009\n",
      " 20%|██        | 1/5 [00:11<00:44, 11.06s/it]2020-05-01 22:06:07,788::INFO::catboost_classifier.py::82  accuracy: 0.7828571428571428\n",
      "2020-05-01 22:06:07,789::INFO::catboost_classifier.py::83  f1: [0.7826087  1.         0.94444444 0.         0.57142857 0.66666667\n",
      " 0.76190476 0.92682927 0.625      0.70175439]\n",
      "2020-05-01 22:06:07,789::INFO::catboost_classifier.py::84  f1_macro: 0.6980636794354214\n",
      " 40%|████      | 2/5 [00:22<00:33, 11.03s/it]2020-05-01 22:06:19,014::INFO::catboost_classifier.py::82  accuracy: 0.7942857142857143\n",
      "2020-05-01 22:06:19,014::INFO::catboost_classifier.py::83  f1: [0.76190476 0.90322581 0.90909091 0.85714286 0.57142857 0.55555556\n",
      " 0.9787234  0.71111111 0.78481013]\n",
      "2020-05-01 22:06:19,015::INFO::catboost_classifier.py::84  f1_macro: 0.7814436781692196\n",
      " 60%|██████    | 3/5 [00:33<00:22, 11.09s/it]2020-05-01 22:06:30,558::INFO::catboost_classifier.py::82  accuracy: 0.7771428571428571\n",
      "2020-05-01 22:06:30,559::INFO::catboost_classifier.py::83  f1: [0.73684211 0.92857143 0.96       0.         0.5        0.5\n",
      " 0.4        0.96551724 0.66666667 0.81927711]\n",
      "2020-05-01 22:06:30,559::INFO::catboost_classifier.py::84  f1_macro: 0.64768745503143\n",
      " 80%|████████  | 4/5 [00:44<00:11, 11.23s/it]2020-05-01 22:06:41,070::INFO::catboost_classifier.py::82  accuracy: 0.7942857142857143\n",
      "2020-05-01 22:06:41,071::INFO::catboost_classifier.py::83  f1: [0.76363636 0.95238095 0.90909091 0.         0.61538462 0.4\n",
      " 0.8        0.85       0.83870968 0.75409836]\n",
      "2020-05-01 22:06:41,071::INFO::catboost_classifier.py::84  f1_macro: 0.6883300878567933\n",
      "100%|██████████| 5/5 [00:55<00:00, 11.06s/it]"
     ]
    },
    {
     "name": "stdout",
     "output_type": "stream",
     "text": [
      "   i                                                 f1       acc  f1_macro\n",
      "0  0  {0: 0.8260869565217391, 1: 1.0, 2: 1.0, 4: 0.8...  0.840000  0.747079\n",
      "1  1  {0: 0.7826086956521738, 1: 1.0, 2: 0.944444444...  0.782857  0.698064\n",
      "2  2  {0: 0.7619047619047619, 1: 0.9032258064516129,...  0.794286  0.781444\n",
      "3  3  {0: 0.7368421052631579, 1: 0.9285714285714286,...  0.777143  0.647687\n",
      "4  4  {0: 0.7636363636363637, 1: 0.9523809523809523,...  0.794286  0.688330\n"
     ]
    },
    {
     "name": "stderr",
     "output_type": "stream",
     "text": [
      "\n"
     ]
    }
   ],
   "source": [
    "\n",
    "results = []\n",
    "params = {}\n",
    "for i in tqdm(range(5)):\n",
    "    test = design_labelled_metadata.iloc[i * test_set_len : (i+1)* test_set_len]\n",
    "    test_classes =np.sort( test.label.unique())\n",
    "    train = design_labelled_metadata[~design_labelled_metadata.index.isin(test.index)]\n",
    "    model, acc, f1, f1_macro, params = train_validate_catboost_model(\n",
    "        train, test,\n",
    "        ['abstract', 'title'],\n",
    "        'label',\n",
    "        text_features=['abstract', 'title'], params={}, verbose=False)\n",
    "    results.append({\n",
    "        \"i\": i,\n",
    "        \"f1\": {k: v for k, v in zip(test_classes, f1)},\n",
    "        \"acc\": acc,\n",
    "        'f1_macro': f1_macro,\n",
    "    })\n",
    "\n",
    "results = pd.DataFrame(results)\n",
    "params_str = \",\".join([f\"{k}={v}\" for k, v in params.items()])\n",
    "print(pd.DataFrame(results))"
   ]
  },
  {
   "cell_type": "markdown",
   "metadata": {},
   "source": [
    "AS per https://github.com/catboost/tutorials/blob/2c16945f850503bfaa631176e87588bc5ce0ca1c/text_features/text_features_in_catboost.ipynb there are a lot of extra text processing params we can possibly tweak"
   ]
  },
  {
   "cell_type": "code",
   "execution_count": 28,
   "metadata": {},
   "outputs": [
    {
     "name": "stderr",
     "output_type": "stream",
     "text": [
      "  0%|          | 0/5 [00:00<?, ?it/s]2020-05-02 21:44:51,110::INFO::catboost_classifier.py::81  accuracy: 0.7942857142857143\n",
      "2020-05-02 21:44:51,110::INFO::catboost_classifier.py::82  f1: [0.73873874 0.92857143 1.         1.         0.5        0.4\n",
      " 0.7        0.95       0.72413793 0.80645161]\n",
      "2020-05-02 21:44:51,110::INFO::catboost_classifier.py::83  f1_macro: 0.7747899711247876\n",
      " 20%|██        | 1/5 [00:10<00:40, 10.16s/it]2020-05-02 21:45:01,190::INFO::catboost_classifier.py::81  accuracy: 0.7714285714285715\n",
      "2020-05-02 21:45:01,191::INFO::catboost_classifier.py::82  f1: [0.72527473 1.         1.         0.         0.6        0.6\n",
      " 0.83333333 0.89361702 0.68852459 0.73684211]\n",
      "2020-05-02 21:45:01,191::INFO::catboost_classifier.py::83  f1_macro: 0.7077591775311747\n",
      " 40%|████      | 2/5 [00:20<00:30, 10.14s/it]2020-05-02 21:45:11,357::INFO::catboost_classifier.py::81  accuracy: 0.7828571428571428\n",
      "2020-05-02 21:45:11,358::INFO::catboost_classifier.py::82  f1: [0.74782609 0.85714286 0.92857143 0.6        0.         0.5\n",
      " 1.         0.70833333 0.78378378]\n",
      "2020-05-02 21:45:11,358::INFO::catboost_classifier.py::83  f1_macro: 0.680628609976436\n",
      " 60%|██████    | 3/5 [00:30<00:20, 10.15s/it]2020-05-02 21:45:21,647::INFO::catboost_classifier.py::81  accuracy: 0.8114285714285714\n",
      "2020-05-02 21:45:21,648::INFO::catboost_classifier.py::82  f1: [0.79279279 0.92857143 1.         0.90909091 0.         0.54545455\n",
      " 0.94736842 0.73913043 0.76056338]\n",
      "2020-05-02 21:45:21,649::INFO::catboost_classifier.py::83  f1_macro: 0.7358857680029564\n",
      " 80%|████████  | 4/5 [00:40<00:10, 10.19s/it]2020-05-02 21:45:31,722::INFO::catboost_classifier.py::81  accuracy: 0.8114285714285714\n",
      "2020-05-02 21:45:31,723::INFO::catboost_classifier.py::82  f1: [0.81415929 1.         0.94117647 0.         0.8        0.5\n",
      " 0.53333333 0.9        0.74576271 0.80701754]\n",
      "2020-05-02 21:45:31,723::INFO::catboost_classifier.py::83  f1_macro: 0.7041449351681022\n",
      "100%|██████████| 5/5 [00:50<00:00, 10.16s/it]\n"
     ]
    },
    {
     "data": {
      "text/html": [
       "<div>\n",
       "<style scoped>\n",
       "    .dataframe tbody tr th:only-of-type {\n",
       "        vertical-align: middle;\n",
       "    }\n",
       "\n",
       "    .dataframe tbody tr th {\n",
       "        vertical-align: top;\n",
       "    }\n",
       "\n",
       "    .dataframe thead th {\n",
       "        text-align: right;\n",
       "    }\n",
       "</style>\n",
       "<table border=\"1\" class=\"dataframe\">\n",
       "  <thead>\n",
       "    <tr style=\"text-align: right;\">\n",
       "      <th></th>\n",
       "      <th>i</th>\n",
       "      <th>f1</th>\n",
       "      <th>acc</th>\n",
       "      <th>f1_macro</th>\n",
       "      <th>best_iteration</th>\n",
       "    </tr>\n",
       "  </thead>\n",
       "  <tbody>\n",
       "    <tr>\n",
       "      <th>0</th>\n",
       "      <td>0</td>\n",
       "      <td>{0: 0.7387387387387387, 1: 0.9285714285714286,...</td>\n",
       "      <td>0.794286</td>\n",
       "      <td>0.774790</td>\n",
       "      <td>935</td>\n",
       "    </tr>\n",
       "    <tr>\n",
       "      <th>1</th>\n",
       "      <td>1</td>\n",
       "      <td>{0: 0.7252747252747253, 1: 1.0, 2: 1.0, 3: 0.0...</td>\n",
       "      <td>0.771429</td>\n",
       "      <td>0.707759</td>\n",
       "      <td>831</td>\n",
       "    </tr>\n",
       "    <tr>\n",
       "      <th>2</th>\n",
       "      <td>2</td>\n",
       "      <td>{0: 0.7478260869565216, 1: 0.8571428571428572,...</td>\n",
       "      <td>0.782857</td>\n",
       "      <td>0.680629</td>\n",
       "      <td>251</td>\n",
       "    </tr>\n",
       "    <tr>\n",
       "      <th>3</th>\n",
       "      <td>3</td>\n",
       "      <td>{0: 0.7927927927927928, 1: 0.9285714285714286,...</td>\n",
       "      <td>0.811429</td>\n",
       "      <td>0.735886</td>\n",
       "      <td>340</td>\n",
       "    </tr>\n",
       "    <tr>\n",
       "      <th>4</th>\n",
       "      <td>4</td>\n",
       "      <td>{0: 0.8141592920353983, 1: 1.0, 2: 0.941176470...</td>\n",
       "      <td>0.811429</td>\n",
       "      <td>0.704145</td>\n",
       "      <td>892</td>\n",
       "    </tr>\n",
       "  </tbody>\n",
       "</table>\n",
       "</div>"
      ],
      "text/plain": [
       "   i                                                 f1       acc  f1_macro  \\\n",
       "0  0  {0: 0.7387387387387387, 1: 0.9285714285714286,...  0.794286  0.774790   \n",
       "1  1  {0: 0.7252747252747253, 1: 1.0, 2: 1.0, 3: 0.0...  0.771429  0.707759   \n",
       "2  2  {0: 0.7478260869565216, 1: 0.8571428571428572,...  0.782857  0.680629   \n",
       "3  3  {0: 0.7927927927927928, 1: 0.9285714285714286,...  0.811429  0.735886   \n",
       "4  4  {0: 0.8141592920353983, 1: 1.0, 2: 0.941176470...  0.811429  0.704145   \n",
       "\n",
       "   best_iteration  \n",
       "0             935  \n",
       "1             831  \n",
       "2             251  \n",
       "3             340  \n",
       "4             892  "
      ]
     },
     "execution_count": 28,
     "metadata": {},
     "output_type": "execute_result"
    }
   ],
   "source": [
    "extra_text_params={\n",
    "        'dictionaries': [\n",
    "            'Word:min_token_occurrence=2',\n",
    "            'BiGram:gram_order=2',\n",
    "            'UniGram:gram_order=1'\n",
    "        ],\n",
    "        'text_processing': [\n",
    "            'BM25+Word|NaiveBayes+Word,BiGram|BoW:top_tokens_count=1000+Word,BiGram'\n",
    "        ]\n",
    "    }\n",
    "boosting_params ={\n",
    "#     'iterations': 2000,\n",
    "#         'learning_rate': 0.005,\n",
    "}\n",
    "results_catboost2 = []\n",
    "for i in tqdm(range(5)):\n",
    "    test = design_labelled_metadata.iloc[i * test_set_len : (i+1)* test_set_len]\n",
    "    test_classes =np.sort( test.label.unique())\n",
    "    train = design_labelled_metadata[~design_labelled_metadata.index.isin(test.index)]\n",
    "    model, acc, f1, f1_macro, params = train_validate_catboost_model(\n",
    "        train, test,\n",
    "        ['abstract', 'title'],\n",
    "        'label',\n",
    "        text_features=['abstract', 'title'], params={**extra_text_params, **boosting_params}, verbose=False)\n",
    "    results_catboost2.append({\n",
    "        \"i\": i,\n",
    "        \"f1\": {k: v for k, v in zip(test_classes, f1)},\n",
    "        \"acc\": acc,\n",
    "        'f1_macro': f1_macro,\n",
    "        \"best_iteration\": model.get_best_iteration()\n",
    "    })\n",
    "\n",
    "results_catboost2 = pd.DataFrame(results_catboost2)\n",
    "pd.DataFrame(results_catboost2)"
   ]
  },
  {
   "cell_type": "code",
   "execution_count": 15,
   "metadata": {},
   "outputs": [
    {
     "data": {
      "text/plain": [
       "0    0.763758\n",
       "1    0.942857\n",
       "2    0.973950\n",
       "3    0.333333\n",
       "4    0.681818\n",
       "5    0.300000\n",
       "6    0.622424\n",
       "7    0.938197\n",
       "8    0.721178\n",
       "9    0.778932\n",
       "dtype: float64"
      ]
     },
     "execution_count": 15,
     "metadata": {},
     "output_type": "execute_result"
    }
   ],
   "source": [
    "pd.DataFrame(results_catboost2.f1.to_list()).mean()"
   ]
  },
  {
   "cell_type": "markdown",
   "metadata": {},
   "source": [
    "note that not class 3 (\"Non-randomized trial\") has very few articles so we might consider removing them from training set"
   ]
  },
  {
   "cell_type": "markdown",
   "metadata": {},
   "source": [
    "classification wiht annotations + umls-- actually, can't use just the selected sections..."
   ]
  },
  {
   "cell_type": "code",
   "execution_count": 9,
   "metadata": {},
   "outputs": [
    {
     "name": "stderr",
     "output_type": "stream",
     "text": [
      "100%|██████████| 20/20 [03:11<00:00,  9.59s/it]\n"
     ]
    }
   ],
   "source": [
    "annotations_with_umls = enrich_annotations(annotations_raw, processed_article_folder, extra_features=['UMLS'], sections=['method', 'result', 'abstract'])"
   ]
  },
  {
   "cell_type": "code",
   "execution_count": 17,
   "metadata": {},
   "outputs": [],
   "source": [
    "# method_UMLS = annotations_with_umls.groupby('cord_uid')['method_UMLS'].fillna('').apply(','.join).reset_index()\n",
    "# abstract_UMLS =  annotations_with_umls.groupby('cord_uid')['abstract_UMLS'].fillna('').apply(','.join).reset_index()\n",
    "# result_UMLS =  annotations_with_umls.groupby('cord_uid')['result_UMLS'].fillna('').apply(','.join).reset_index()"
   ]
  },
  {
   "cell_type": "code",
   "execution_count": 10,
   "metadata": {},
   "outputs": [
    {
     "data": {
      "text/plain": [
       "(875,)"
      ]
     },
     "execution_count": 10,
     "metadata": {},
     "output_type": "execute_result"
    }
   ],
   "source": [
    "annotations_with_umls['abstract_UMLS'] = annotations_with_umls['abstract_UMLS'].apply(lambda d: d if isinstance(d, list) else [])\n",
    "annotations_with_umls['result_UMLS'] = annotations_with_umls['result_UMLS'].apply(lambda d: d if isinstance(d, list) else [])\n",
    "annotations_with_umls['method_UMLS'] = annotations_with_umls['method_UMLS'].apply(lambda d: d if isinstance(d, list) else [])\n",
    "\n",
    "\n",
    "annotations_with_umls.groupby('cord_uid')['method_UMLS'].sum().shape"
   ]
  },
  {
   "cell_type": "code",
   "execution_count": 11,
   "metadata": {},
   "outputs": [],
   "source": [
    "method_UMLS = annotations_with_umls.groupby('cord_uid')['method_UMLS'].sum().apply(','.join)\n",
    "abstract_UMLS = annotations_with_umls.groupby('cord_uid')['abstract_UMLS'].sum().apply(','.join)\n",
    "result_UMLS = annotations_with_umls.groupby('cord_uid')['result_UMLS'].sum().apply(','.join)"
   ]
  },
  {
   "cell_type": "code",
   "execution_count": 12,
   "metadata": {},
   "outputs": [
    {
     "data": {
      "text/plain": [
       "['/media/wwymak/Storage/coronawhy/nlp_datasets/annotations_w_umls.pkl']"
      ]
     },
     "execution_count": 12,
     "metadata": {},
     "output_type": "execute_result"
    }
   ],
   "source": [
    "joblib.dump({'method_UMLS': method_UMLS, 'abstract_UMLS': abstract_UMLS, 'result_UMLS': result_UMLS}, data_dir/'annotations_w_umls.pkl', compress=3)"
   ]
  },
  {
   "cell_type": "code",
   "execution_count": null,
   "metadata": {},
   "outputs": [],
   "source": [
    "umls_dict = joblib.load(data_dir/'annotations_w_umls.pkl')"
   ]
  },
  {
   "cell_type": "code",
   "execution_count": 16,
   "metadata": {
    "scrolled": true
   },
   "outputs": [
    {
     "data": {
      "text/plain": [
       "cord_uid\n",
       "4pab383g    Patients,Ethics,Eligible,Patients,Fever,Signs ...\n",
       "v8p4gjay    Publications,Research Methodology,Study Object...\n",
       "Name: method_UMLS, dtype: object"
      ]
     },
     "execution_count": 16,
     "metadata": {},
     "output_type": "execute_result"
    }
   ],
   "source": [
    "abstract_UMLS[abstract_UMLS.apply(lambda x: len(x)> 0)].head()"
   ]
  },
  {
   "cell_type": "code",
   "execution_count": 19,
   "metadata": {},
   "outputs": [
    {
     "data": {
      "text/plain": [
       "(0,)"
      ]
     },
     "execution_count": 19,
     "metadata": {},
     "output_type": "execute_result"
    }
   ],
   "source": [
    "result_UMLS[result_UMLS.apply(lambda x: len(x)> 0)].shape"
   ]
  },
  {
   "cell_type": "code",
   "execution_count": 20,
   "metadata": {},
   "outputs": [],
   "source": [
    "enrich_annotations??"
   ]
  },
  {
   "cell_type": "markdown",
   "metadata": {},
   "source": [
    "using the specter embeddings + catboost"
   ]
  },
  {
   "cell_type": "code",
   "execution_count": 31,
   "metadata": {},
   "outputs": [
    {
     "data": {
      "text/plain": [
       "(746, 774)"
      ]
     },
     "execution_count": 31,
     "metadata": {},
     "output_type": "execute_result"
    }
   ],
   "source": [
    "annotations_raw.shape\n",
    "annotations_with_specter_df = annotations_with_specter_embeddings(annotations_raw,data_dir/ 'cord_19_specter_embeddings_4_17.csv.zip' )\n",
    "annotations_with_specter_df.shape"
   ]
  },
  {
   "cell_type": "code",
   "execution_count": 32,
   "metadata": {},
   "outputs": [
    {
     "name": "stderr",
     "output_type": "stream",
     "text": [
      "2020-04-27 22:25:00,632::INFO::catboost_classifier.py::43  accuracy: 0.6711409395973155\n",
      "2020-04-27 22:25:00,633::INFO::catboost_classifier.py::44  f1: [0.51612903 0.81481481 0.83333333 0.         0.33333333 0.\n",
      " 0.55555556 0.80851064 0.83333333 0.71428571 0.67605634]\n",
      "2020-04-27 22:25:00,633::INFO::catboost_classifier.py::45  f1_macro: 0.5532138266581992\n",
      "2020-04-27 22:25:20,988::INFO::catboost_classifier.py::43  accuracy: 0.6174496644295302\n",
      "2020-04-27 22:25:20,988::INFO::catboost_classifier.py::44  f1: [0.47368421 0.83333333 0.875      0.58823529 0.         0.42857143\n",
      " 0.77777778 0.5        0.46153846 0.61702128]\n",
      "2020-04-27 22:25:20,988::INFO::catboost_classifier.py::45  f1_macro: 0.5555161782460709\n",
      "2020-04-27 22:25:41,518::INFO::catboost_classifier.py::43  accuracy: 0.6174496644295302\n",
      "2020-04-27 22:25:41,518::INFO::catboost_classifier.py::44  f1: [0.57894737 0.8        0.82758621 0.         0.26666667 0.14285714\n",
      " 0.38095238 0.73913043 0.8        0.59459459 0.64516129]\n",
      "2020-04-27 22:25:41,519::INFO::catboost_classifier.py::45  f1_macro: 0.5250814623175981\n",
      "2020-04-27 22:26:02,293::INFO::catboost_classifier.py::43  accuracy: 0.6510067114093959\n",
      "2020-04-27 22:26:02,294::INFO::catboost_classifier.py::44  f1: [0.38461538 0.73684211 0.88       0.35294118 0.18181818 0.81481481\n",
      " 0.86363636 0.44444444 0.60465116 0.64935065]\n",
      "2020-04-27 22:26:02,294::INFO::catboost_classifier.py::45  f1_macro: 0.5913114283204282\n",
      "2020-04-27 22:26:22,927::INFO::catboost_classifier.py::43  accuracy: 0.6375838926174496\n",
      "2020-04-27 22:26:22,928::INFO::catboost_classifier.py::44  f1: [0.4        0.86486486 0.83333333 0.30769231 0.         0.56\n",
      " 0.7        0.5        0.41025641 0.79452055]\n",
      "2020-04-27 22:26:22,928::INFO::catboost_classifier.py::45  f1_macro: 0.5370667464092121\n"
     ]
    },
    {
     "name": "stdout",
     "output_type": "stream",
     "text": [
      "   i                                                 f1       acc  f1_macro\n",
      "0  0  [0.5161290322580646, 0.8148148148148148, 0.833...  0.671141  0.553214\n",
      "1  1  [0.47368421052631576, 0.8333333333333333, 0.87...  0.617450  0.555516\n",
      "2  2  [0.5789473684210527, 0.8, 0.8275862068965517, ...  0.617450  0.525081\n",
      "3  3  [0.38461538461538464, 0.7368421052631577, 0.87...  0.651007  0.591311\n",
      "4  4  [0.4, 0.8648648648648649, 0.8333333333333334, ...  0.637584  0.537067\n"
     ]
    }
   ],
   "source": [
    "annotations_with_specter_df = annotations_with_specter_df[['abstract', 'title', 'label'] + [f\"{i}\" for i in range(768)]].sample(frac=1.0)\n",
    "test_set_len = len(annotations_with_specter_df) //5\n",
    "results = []\n",
    "params = {}\n",
    "for i in range(5):\n",
    "    test = annotations_with_specter_df.iloc[i * test_set_len : (i+1)* test_set_len]\n",
    "    train = annotations_with_specter_df[~annotations_with_specter_df.index.isin(test.index)]\n",
    "    model, acc, f1, f1_macro, params = train_validate_catboost_model(\n",
    "        train, test,\n",
    "        [f\"{i}\" for i in range(768)],\n",
    "        'label', text_features=None, params={}, verbose=False)\n",
    "    results.append({\n",
    "        \"i\": i,\n",
    "        \"f1\": f1,\n",
    "        \"acc\": acc,\n",
    "        'f1_macro': f1_macro,\n",
    "    })\n",
    "\n",
    "results = pd.DataFrame(results)\n",
    "params_str = \",\".join([f\"{k}={v}\" for k, v in params.items()])\n",
    "print(pd.DataFrame(results))"
   ]
  },
  {
   "cell_type": "code",
   "execution_count": 30,
   "metadata": {},
   "outputs": [
    {
     "data": {
      "text/html": [
       "<div>\n",
       "<style scoped>\n",
       "    .dataframe tbody tr th:only-of-type {\n",
       "        vertical-align: middle;\n",
       "    }\n",
       "\n",
       "    .dataframe tbody tr th {\n",
       "        vertical-align: top;\n",
       "    }\n",
       "\n",
       "    .dataframe thead th {\n",
       "        text-align: right;\n",
       "    }\n",
       "</style>\n",
       "<table border=\"1\" class=\"dataframe\">\n",
       "  <thead>\n",
       "    <tr style=\"text-align: right;\">\n",
       "      <th></th>\n",
       "      <th>i</th>\n",
       "      <th>f1</th>\n",
       "      <th>acc</th>\n",
       "      <th>f1_macro</th>\n",
       "    </tr>\n",
       "  </thead>\n",
       "  <tbody>\n",
       "    <tr>\n",
       "      <th>0</th>\n",
       "      <td>0</td>\n",
       "      <td>[0.3571428571428571, 0.9375, 0.909090909090909...</td>\n",
       "      <td>0.651007</td>\n",
       "      <td>0.593818</td>\n",
       "    </tr>\n",
       "    <tr>\n",
       "      <th>1</th>\n",
       "      <td>1</td>\n",
       "      <td>[0.4571428571428571, 0.7999999999999999, 0.823...</td>\n",
       "      <td>0.604027</td>\n",
       "      <td>0.506118</td>\n",
       "    </tr>\n",
       "    <tr>\n",
       "      <th>2</th>\n",
       "      <td>2</td>\n",
       "      <td>[0.4666666666666667, 0.6666666666666667, 0.869...</td>\n",
       "      <td>0.657718</td>\n",
       "      <td>0.566968</td>\n",
       "    </tr>\n",
       "    <tr>\n",
       "      <th>3</th>\n",
       "      <td>3</td>\n",
       "      <td>[0.3636363636363636, 0.8666666666666667, 0.75,...</td>\n",
       "      <td>0.671141</td>\n",
       "      <td>0.570249</td>\n",
       "    </tr>\n",
       "    <tr>\n",
       "      <th>4</th>\n",
       "      <td>4</td>\n",
       "      <td>[0.48275862068965514, 0.888888888888889, 0.882...</td>\n",
       "      <td>0.610738</td>\n",
       "      <td>0.567772</td>\n",
       "    </tr>\n",
       "  </tbody>\n",
       "</table>\n",
       "</div>"
      ],
      "text/plain": [
       "   i                                                 f1       acc  f1_macro\n",
       "0  0  [0.3571428571428571, 0.9375, 0.909090909090909...  0.651007  0.593818\n",
       "1  1  [0.4571428571428571, 0.7999999999999999, 0.823...  0.604027  0.506118\n",
       "2  2  [0.4666666666666667, 0.6666666666666667, 0.869...  0.657718  0.566968\n",
       "3  3  [0.3636363636363636, 0.8666666666666667, 0.75,...  0.671141  0.570249\n",
       "4  4  [0.48275862068965514, 0.888888888888889, 0.882...  0.610738  0.567772"
      ]
     },
     "execution_count": 30,
     "metadata": {},
     "output_type": "execute_result"
    }
   ],
   "source": [
    "pd.DataFrame(results)"
   ]
  },
  {
   "cell_type": "code",
   "execution_count": 30,
   "metadata": {},
   "outputs": [],
   "source": [
    "# train final model\n",
    "\n",
    "final_model = train_validate_catboost_model(\n",
    "        design_labelled_metadata, None,\n",
    "        ['abstract', 'title'],\n",
    "        'label',\n",
    "        text_features=['abstract', 'title'], params={'iterations': 400}, verbose=False)"
   ]
  },
  {
   "cell_type": "code",
   "execution_count": 31,
   "metadata": {},
   "outputs": [],
   "source": [
    "final_model.save_model(str(data_dir/'catboost_david_annotation_2_may'))"
   ]
  },
  {
   "cell_type": "code",
   "execution_count": null,
   "metadata": {},
   "outputs": [],
   "source": []
  }
 ],
 "metadata": {
  "kernelspec": {
   "display_name": "Python [conda env:immo-ml]",
   "language": "python",
   "name": "conda-env-immo-ml-py"
  },
  "language_info": {
   "codemirror_mode": {
    "name": "ipython",
    "version": 3
   },
   "file_extension": ".py",
   "mimetype": "text/x-python",
   "name": "python",
   "nbconvert_exporter": "python",
   "pygments_lexer": "ipython3",
   "version": "3.7.6"
  }
 },
 "nbformat": 4,
 "nbformat_minor": 2
}
