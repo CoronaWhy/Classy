{
 "cells": [
  {
   "cell_type": "code",
   "execution_count": 1,
   "metadata": {},
   "outputs": [],
   "source": [
    "import sys\n",
    "import os\n",
    "sys.path.insert(0, '..')\n",
    "                             \n",
    "from common.logging import create_logger\n",
    "from pathlib import Path\n",
    "import pandas as pd\n",
    "import numpy as np\n",
    "from datasets import single_label_multiclass_annotated_study_design, enrich_annotations, annotations_with_specter_embeddings\n",
    "from classifier import train_validate_catboost_model\n",
    "\n",
    "from datetime import datetime\n",
    "import matplotlib.pyplot as plt\n",
    "import joblib\n",
    "from tqdm import tqdm\n",
    "%matplotlib inline\n",
    "%load_ext autoreload\n",
    "%autoreload 2"
   ]
  },
  {
   "cell_type": "markdown",
   "metadata": {},
   "source": [
    "Fetch the datasets (using David Metzzi's annotations)"
   ]
  },
  {
   "cell_type": "code",
   "execution_count": 2,
   "metadata": {},
   "outputs": [],
   "source": [
    "\n",
    "data_dir = Path('/media/wwymak/Storage/coronawhy/nlp_datasets')\n",
    "annotations_filepath = (data_dir / 'cord19_study_design_labelled' / 'design.csv')\n",
    "metadata_filepath   = data_dir/'metadata.csv.zip'\n",
    "processed_article_folder = data_dir / 'v8'/ 'processed_text'\n",
    "# annotations + metadata from kaggle to get the title + abstract. \n",
    "annotations_raw = single_label_multiclass_annotated_study_design(annotations_filepath, metadata_filepath)"
   ]
  },
  {
   "cell_type": "code",
   "execution_count": 3,
   "metadata": {
    "scrolled": true
   },
   "outputs": [
    {
     "data": {
      "text/html": [
       "<div>\n",
       "<style scoped>\n",
       "    .dataframe tbody tr th:only-of-type {\n",
       "        vertical-align: middle;\n",
       "    }\n",
       "\n",
       "    .dataframe tbody tr th {\n",
       "        vertical-align: top;\n",
       "    }\n",
       "\n",
       "    .dataframe thead th {\n",
       "        text-align: right;\n",
       "    }\n",
       "</style>\n",
       "<table border=\"1\" class=\"dataframe\">\n",
       "  <thead>\n",
       "    <tr style=\"text-align: right;\">\n",
       "      <th></th>\n",
       "      <th>sha</th>\n",
       "      <th>cord_uid</th>\n",
       "      <th>label</th>\n",
       "      <th>title</th>\n",
       "      <th>abstract</th>\n",
       "      <th>label_string</th>\n",
       "    </tr>\n",
       "  </thead>\n",
       "  <tbody>\n",
       "    <tr>\n",
       "      <th>2</th>\n",
       "      <td>02ad2466714536b6afcd21eca338d69934a7aaab</td>\n",
       "      <td>5gkp9tlt</td>\n",
       "      <td>0</td>\n",
       "      <td>Characteristic ECG Manifestations in Patients ...</td>\n",
       "      <td>Abstract Cardiac involvement has been reported...</td>\n",
       "      <td>Other</td>\n",
       "    </tr>\n",
       "    <tr>\n",
       "      <th>3</th>\n",
       "      <td>034592dd949ad58ee6eaf4f71124fd3098f5b85c</td>\n",
       "      <td>e55vmgjr</td>\n",
       "      <td>0</td>\n",
       "      <td>COVID-19 admissions calculators: General popul...</td>\n",
       "      <td>Abstract The world is in the grip of pandemic ...</td>\n",
       "      <td>Other</td>\n",
       "    </tr>\n",
       "    <tr>\n",
       "      <th>6</th>\n",
       "      <td>0471b1305913315d977959b20005dea68f1881f7</td>\n",
       "      <td>kewnvb7p</td>\n",
       "      <td>0</td>\n",
       "      <td>COVID-19 the showdown for mass casualty prepar...</td>\n",
       "      <td>Since December 2019, the world is potentially ...</td>\n",
       "      <td>Other</td>\n",
       "    </tr>\n",
       "    <tr>\n",
       "      <th>11</th>\n",
       "      <td>06837008df793f872a6fb830dfb83c9525edb7c4</td>\n",
       "      <td>52nw9gxq</td>\n",
       "      <td>0</td>\n",
       "      <td>An artificial intelligence-based first-line de...</td>\n",
       "      <td>ABSTRACTTo combat the pandemic of the coronavi...</td>\n",
       "      <td>Other</td>\n",
       "    </tr>\n",
       "    <tr>\n",
       "      <th>12</th>\n",
       "      <td>06d12dc5ac32d82387c65370d0a600e13059122d</td>\n",
       "      <td>ld0vo1rl</td>\n",
       "      <td>0</td>\n",
       "      <td>COVID-19 coronavirus vaccine design using reve...</td>\n",
       "      <td>To ultimately combat the emerging COVID-19 pan...</td>\n",
       "      <td>Other</td>\n",
       "    </tr>\n",
       "  </tbody>\n",
       "</table>\n",
       "</div>"
      ],
      "text/plain": [
       "                                         sha  cord_uid  label  \\\n",
       "2   02ad2466714536b6afcd21eca338d69934a7aaab  5gkp9tlt      0   \n",
       "3   034592dd949ad58ee6eaf4f71124fd3098f5b85c  e55vmgjr      0   \n",
       "6   0471b1305913315d977959b20005dea68f1881f7  kewnvb7p      0   \n",
       "11  06837008df793f872a6fb830dfb83c9525edb7c4  52nw9gxq      0   \n",
       "12  06d12dc5ac32d82387c65370d0a600e13059122d  ld0vo1rl      0   \n",
       "\n",
       "                                                title  \\\n",
       "2   Characteristic ECG Manifestations in Patients ...   \n",
       "3   COVID-19 admissions calculators: General popul...   \n",
       "6   COVID-19 the showdown for mass casualty prepar...   \n",
       "11  An artificial intelligence-based first-line de...   \n",
       "12  COVID-19 coronavirus vaccine design using reve...   \n",
       "\n",
       "                                             abstract label_string  \n",
       "2   Abstract Cardiac involvement has been reported...        Other  \n",
       "3   Abstract The world is in the grip of pandemic ...        Other  \n",
       "6   Since December 2019, the world is potentially ...        Other  \n",
       "11  ABSTRACTTo combat the pandemic of the coronavi...        Other  \n",
       "12  To ultimately combat the emerging COVID-19 pan...        Other  "
      ]
     },
     "execution_count": 3,
     "metadata": {},
     "output_type": "execute_result"
    }
   ],
   "source": [
    "annotations_raw.head()"
   ]
  },
  {
   "cell_type": "code",
   "execution_count": 4,
   "metadata": {},
   "outputs": [
    {
     "data": {
      "text/plain": [
       "((875, 6),\n",
       " Index(['sha', 'cord_uid', 'label', 'title', 'abstract', 'label_string'], dtype='object'))"
      ]
     },
     "execution_count": 4,
     "metadata": {},
     "output_type": "execute_result"
    }
   ],
   "source": [
    "# number of training samples we have\n",
    "annotations_raw.shape, annotations_raw.columns"
   ]
  },
  {
   "cell_type": "code",
   "execution_count": 5,
   "metadata": {},
   "outputs": [
    {
     "data": {
      "text/plain": [
       "<matplotlib.axes._subplots.AxesSubplot at 0x7f13ba18a550>"
      ]
     },
     "execution_count": 5,
     "metadata": {},
     "output_type": "execute_result"
    },
    {
     "data": {
      "image/png": "[encoded data removed]",
      "text/plain": [
       "<Figure size 432x288 with 1 Axes>"
      ]
     },
     "metadata": {
      "needs_background": "light"
     },
     "output_type": "display_data"
    }
   ],
   "source": [
    "annotations_raw.label_string.value_counts().sort_index().plot.bar()"
   ]
  },
  {
   "cell_type": "code",
   "execution_count": 6,
   "metadata": {},
   "outputs": [
    {
     "data": {
      "text/plain": [
       "['Other',\n",
       " 'Systematic review',\n",
       " 'Randomized control trial',\n",
       " 'Non-randomized trial',\n",
       " 'Prospective observational',\n",
       " 'Time-to-event analysis',\n",
       " 'Retrospective observational',\n",
       " 'Cross-sectional',\n",
       " 'Case series',\n",
       " 'Modeling']"
      ]
     },
     "execution_count": 6,
     "metadata": {},
     "output_type": "execute_result"
    }
   ],
   "source": [
    "list(annotations_raw.label_string.unique())"
   ]
  },
  {
   "cell_type": "markdown",
   "metadata": {},
   "source": [
    "classification with catboost on annotations title + abstract, using text features"
   ]
  },
  {
   "cell_type": "code",
   "execution_count": 7,
   "metadata": {},
   "outputs": [],
   "source": [
    "design_labelled_metadata = annotations_raw[['abstract', 'title', 'label']].sample(frac=1.0)\n",
    "test_set_len = len(design_labelled_metadata) //5"
   ]
  },
  {
   "cell_type": "code",
   "execution_count": 8,
   "metadata": {},
   "outputs": [
    {
     "name": "stderr",
     "output_type": "stream",
     "text": [
      "  0%|          | 0/5 [00:00<?, ?it/s]2020-05-06 22:05:48,128::INFO::catboost_classifier.py::83  accuracy: 0.8114285714285714\n",
      "2020-05-06 22:05:48,129::INFO::catboost_classifier.py::84  f1: [0.72897196 0.88888889 0.96296296 0.         0.66666667 0.66666667\n",
      " 0.72727273 0.88235294 0.88       0.82051282]\n",
      "2020-05-06 22:05:48,129::INFO::catboost_classifier.py::85  f1_macro: 0.7224295636764027\n",
      " 20%|██        | 1/5 [00:11<00:44, 11.09s/it]2020-05-06 22:05:59,390::INFO::catboost_classifier.py::83  accuracy: 0.8342857142857143\n",
      "2020-05-06 22:05:59,391::INFO::catboost_classifier.py::84  f1: [0.80392157 1.         0.96774194 0.66666667 0.22222222 0.8\n",
      " 0.88372093 0.85185185 0.8       ]\n",
      "2020-05-06 22:05:59,391::INFO::catboost_classifier.py::85  f1_macro: 0.777347241676069\n",
      " 40%|████      | 2/5 [00:22<00:33, 11.14s/it]2020-05-06 22:06:10,199::INFO::catboost_classifier.py::83  accuracy: 0.8228571428571428\n",
      "2020-05-06 22:06:10,200::INFO::catboost_classifier.py::84  f1: [0.76635514 1.         1.         0.84210526 0.         0.75\n",
      " 0.95652174 0.81481481 0.68085106]\n",
      "2020-05-06 22:06:10,200::INFO::catboost_classifier.py::85  f1_macro: 0.7567386690133163\n",
      " 60%|██████    | 3/5 [00:33<00:22, 11.04s/it]2020-05-06 22:06:20,812::INFO::catboost_classifier.py::83  accuracy: 0.7371428571428571\n",
      "2020-05-06 22:06:20,813::INFO::catboost_classifier.py::84  f1: [0.74074074 0.92307692 0.83333333 0.         0.66666667 0.33333333\n",
      " 0.18181818 0.87804878 0.6        0.81578947]\n",
      "2020-05-06 22:06:20,813::INFO::catboost_classifier.py::85  f1_macro: 0.5972807433141194\n",
      " 80%|████████  | 4/5 [00:43<00:10, 10.91s/it]2020-05-06 22:06:31,935::INFO::catboost_classifier.py::83  accuracy: 0.8342857142857143\n",
      "2020-05-06 22:06:31,936::INFO::catboost_classifier.py::84  f1: [0.8440367  1.         0.90909091 0.         0.66666667 1.\n",
      " 0.6        0.95238095 0.69090909 0.84210526]\n",
      "2020-05-06 22:06:31,936::INFO::catboost_classifier.py::85  f1_macro: 0.750518957945322\n",
      "100%|██████████| 5/5 [00:54<00:00, 10.98s/it]"
     ]
    },
    {
     "name": "stdout",
     "output_type": "stream",
     "text": [
      "   i                                                 f1       acc  f1_macro  \\\n",
      "0  0  {0: 0.7289719626168223, 1: 0.888888888888889, ...  0.811429  0.722430   \n",
      "1  1  {0: 0.803921568627451, 1: 1.0, 2: 0.9677419354...  0.834286  0.777347   \n",
      "2  2  {0: 0.7663551401869159, 1: 1.0, 2: 1.0, 4: 0.8...  0.822857  0.756739   \n",
      "3  3  {0: 0.7407407407407407, 1: 0.9230769230769231,...  0.737143  0.597281   \n",
      "4  4  {0: 0.8440366972477064, 1: 1.0, 2: 0.909090909...  0.834286  0.750519   \n",
      "\n",
      "                                    confusion_matrix  \n",
      "0  [[39.0, 1.0, 0.0, 0.0, 0.0, 0.0, 0.0, 1.0, 0.0...  \n",
      "1  [[41.0, 0.0, 0.0, 0.0, 0.0, 0.0, 0.0, 2.0, 0.0...  \n",
      "2  [[41.0, 0.0, 0.0, 0.0, 0.0, 0.0, 0.0, 0.0, 0.0...  \n",
      "3  [[40.0, 0.0, 1.0, 0.0, 0.0, 0.0, 0.0, 0.0, 4.0...  \n",
      "4  [[46.0, 0.0, 0.0, 0.0, 0.0, 0.0, 0.0, 0.0, 2.0...  \n"
     ]
    },
    {
     "name": "stderr",
     "output_type": "stream",
     "text": [
      "\n"
     ]
    }
   ],
   "source": [
    "\n",
    "results = []\n",
    "params = {}\n",
    "for i in tqdm(range(5)):\n",
    "    test = design_labelled_metadata.iloc[i * test_set_len : (i+1)* test_set_len]\n",
    "    test_classes =np.sort( test.label.unique())\n",
    "    train = design_labelled_metadata[~design_labelled_metadata.index.isin(test.index)]\n",
    "    model, acc, f1, f1_macro,confusion_matrix, params = train_validate_catboost_model(\n",
    "        train, test,\n",
    "        ['abstract', 'title'],\n",
    "        'label',\n",
    "        text_features=['abstract', 'title'], params={}, verbose=False)\n",
    "    results.append({\n",
    "        \"i\": i,\n",
    "        \"f1\": {k: v for k, v in zip(test_classes, f1)},\n",
    "        \"acc\": acc,\n",
    "        'f1_macro': f1_macro,\n",
    "        'confusion_matrix': confusion_matrix\n",
    "    })\n",
    "\n",
    "results = pd.DataFrame(results)\n",
    "params_str = \",\".join([f\"{k}={v}\" for k, v in params.items()])\n",
    "print(pd.DataFrame(results))"
   ]
  },
  {
   "cell_type": "code",
   "execution_count": 21,
   "metadata": {},
   "outputs": [
    {
     "name": "stderr",
     "output_type": "stream",
     "text": [
      "/home/wwymak/coronawhy/text_classification/classifier/plotting.py:59: RuntimeWarning: invalid value encountered in true_divide\n",
      "  cm = cm.astype('float') / cm.sum(axis=1)[:, np.newaxis]\n"
     ]
    },
    {
     "data": {
      "image/png": "[encoded data removed]",
      "text/plain": [
       "<Figure size 864x576 with 2 Axes>"
      ]
     },
     "metadata": {
      "needs_background": "light"
     },
     "output_type": "display_data"
    }
   ],
   "source": [
    "from plotting import plot_confusion_matrix\n",
    "label_to_name_mapping = annotations_raw[['label', 'label_string']].drop_duplicates().set_index('label')\n",
    "plot_confusion_matrix(results.iloc[1].confusion_matrix, target_names =[label_to_name_mapping.loc[x].label_string for x in sorted(annotations_raw.label.unique())] ,\n",
    "                      title='catboost classifier on kg labels', figsize=(12,8))\n"
   ]
  },
  {
   "cell_type": "code",
   "execution_count": 19,
   "metadata": {},
   "outputs": [
    {
     "data": {
      "text/plain": [
       "'Systematic review'"
      ]
     },
     "execution_count": 19,
     "metadata": {},
     "output_type": "execute_result"
    }
   ],
   "source": [
    "# [x for label_to_name_mapping.loc[x] in sorted(annotations_raw.label.unique())]s\n",
    "str(label_to_name_mapping.loc[1].label_string)"
   ]
  },
  {
   "cell_type": "markdown",
   "metadata": {},
   "source": [
    "AS per https://github.com/catboost/tutorials/blob/2c16945f850503bfaa631176e87588bc5ce0ca1c/text_features/text_features_in_catboost.ipynb there are a lot of extra text processing params we can possibly tweak"
   ]
  },
  {
   "cell_type": "code",
   "execution_count": 28,
   "metadata": {},
   "outputs": [
    {
     "name": "stderr",
     "output_type": "stream",
     "text": [
      "  0%|          | 0/5 [00:00<?, ?it/s]2020-05-02 21:44:51,110::INFO::catboost_classifier.py::81  accuracy: 0.7942857142857143\n",
      "2020-05-02 21:44:51,110::INFO::catboost_classifier.py::82  f1: [0.73873874 0.92857143 1.         1.         0.5        0.4\n",
      " 0.7        0.95       0.72413793 0.80645161]\n",
      "2020-05-02 21:44:51,110::INFO::catboost_classifier.py::83  f1_macro: 0.7747899711247876\n",
      " 20%|██        | 1/5 [00:10<00:40, 10.16s/it]2020-05-02 21:45:01,190::INFO::catboost_classifier.py::81  accuracy: 0.7714285714285715\n",
      "2020-05-02 21:45:01,191::INFO::catboost_classifier.py::82  f1: [0.72527473 1.         1.         0.         0.6        0.6\n",
      " 0.83333333 0.89361702 0.68852459 0.73684211]\n",
      "2020-05-02 21:45:01,191::INFO::catboost_classifier.py::83  f1_macro: 0.7077591775311747\n",
      " 40%|████      | 2/5 [00:20<00:30, 10.14s/it]2020-05-02 21:45:11,357::INFO::catboost_classifier.py::81  accuracy: 0.7828571428571428\n",
      "2020-05-02 21:45:11,358::INFO::catboost_classifier.py::82  f1: [0.74782609 0.85714286 0.92857143 0.6        0.         0.5\n",
      " 1.         0.70833333 0.78378378]\n",
      "2020-05-02 21:45:11,358::INFO::catboost_classifier.py::83  f1_macro: 0.680628609976436\n",
      " 60%|██████    | 3/5 [00:30<00:20, 10.15s/it]2020-05-02 21:45:21,647::INFO::catboost_classifier.py::81  accuracy: 0.8114285714285714\n",
      "2020-05-02 21:45:21,648::INFO::catboost_classifier.py::82  f1: [0.79279279 0.92857143 1.         0.90909091 0.         0.54545455\n",
      " 0.94736842 0.73913043 0.76056338]\n",
      "2020-05-02 21:45:21,649::INFO::catboost_classifier.py::83  f1_macro: 0.7358857680029564\n",
      " 80%|████████  | 4/5 [00:40<00:10, 10.19s/it]2020-05-02 21:45:31,722::INFO::catboost_classifier.py::81  accuracy: 0.8114285714285714\n",
      "2020-05-02 21:45:31,723::INFO::catboost_classifier.py::82  f1: [0.81415929 1.         0.94117647 0.         0.8        0.5\n",
      " 0.53333333 0.9        0.74576271 0.80701754]\n",
      "2020-05-02 21:45:31,723::INFO::catboost_classifier.py::83  f1_macro: 0.7041449351681022\n",
      "100%|██████████| 5/5 [00:50<00:00, 10.16s/it]\n"
     ]
    },
    {
     "data": {
      "text/html": [
       "<div>\n",
       "<style scoped>\n",
       "    .dataframe tbody tr th:only-of-type {\n",
       "        vertical-align: middle;\n",
       "    }\n",
       "\n",
       "    .dataframe tbody tr th {\n",
       "        vertical-align: top;\n",
       "    }\n",
       "\n",
       "    .dataframe thead th {\n",
       "        text-align: right;\n",
       "    }\n",
       "</style>\n",
       "<table border=\"1\" class=\"dataframe\">\n",
       "  <thead>\n",
       "    <tr style=\"text-align: right;\">\n",
       "      <th></th>\n",
       "      <th>i</th>\n",
       "      <th>f1</th>\n",
       "      <th>acc</th>\n",
       "      <th>f1_macro</th>\n",
       "      <th>best_iteration</th>\n",
       "    </tr>\n",
       "  </thead>\n",
       "  <tbody>\n",
       "    <tr>\n",
       "      <th>0</th>\n",
       "      <td>0</td>\n",
       "      <td>{0: 0.7387387387387387, 1: 0.9285714285714286,...</td>\n",
       "      <td>0.794286</td>\n",
       "      <td>0.774790</td>\n",
       "      <td>935</td>\n",
       "    </tr>\n",
       "    <tr>\n",
       "      <th>1</th>\n",
       "      <td>1</td>\n",
       "      <td>{0: 0.7252747252747253, 1: 1.0, 2: 1.0, 3: 0.0...</td>\n",
       "      <td>0.771429</td>\n",
       "      <td>0.707759</td>\n",
       "      <td>831</td>\n",
       "    </tr>\n",
       "    <tr>\n",
       "      <th>2</th>\n",
       "      <td>2</td>\n",
       "      <td>{0: 0.7478260869565216, 1: 0.8571428571428572,...</td>\n",
       "      <td>0.782857</td>\n",
       "      <td>0.680629</td>\n",
       "      <td>251</td>\n",
       "    </tr>\n",
       "    <tr>\n",
       "      <th>3</th>\n",
       "      <td>3</td>\n",
       "      <td>{0: 0.7927927927927928, 1: 0.9285714285714286,...</td>\n",
       "      <td>0.811429</td>\n",
       "      <td>0.735886</td>\n",
       "      <td>340</td>\n",
       "    </tr>\n",
       "    <tr>\n",
       "      <th>4</th>\n",
       "      <td>4</td>\n",
       "      <td>{0: 0.8141592920353983, 1: 1.0, 2: 0.941176470...</td>\n",
       "      <td>0.811429</td>\n",
       "      <td>0.704145</td>\n",
       "      <td>892</td>\n",
       "    </tr>\n",
       "  </tbody>\n",
       "</table>\n",
       "</div>"
      ],
      "text/plain": [
       "   i                                                 f1       acc  f1_macro  \\\n",
       "0  0  {0: 0.7387387387387387, 1: 0.9285714285714286,...  0.794286  0.774790   \n",
       "1  1  {0: 0.7252747252747253, 1: 1.0, 2: 1.0, 3: 0.0...  0.771429  0.707759   \n",
       "2  2  {0: 0.7478260869565216, 1: 0.8571428571428572,...  0.782857  0.680629   \n",
       "3  3  {0: 0.7927927927927928, 1: 0.9285714285714286,...  0.811429  0.735886   \n",
       "4  4  {0: 0.8141592920353983, 1: 1.0, 2: 0.941176470...  0.811429  0.704145   \n",
       "\n",
       "   best_iteration  \n",
       "0             935  \n",
       "1             831  \n",
       "2             251  \n",
       "3             340  \n",
       "4             892  "
      ]
     },
     "execution_count": 28,
     "metadata": {},
     "output_type": "execute_result"
    }
   ],
   "source": [
    "extra_text_params={\n",
    "        'dictionaries': [\n",
    "            'Word:min_token_occurrence=2',\n",
    "            'BiGram:gram_order=2',\n",
    "            'UniGram:gram_order=1'\n",
    "        ],\n",
    "        'text_processing': [\n",
    "            'BM25+Word|NaiveBayes+Word,BiGram|BoW:top_tokens_count=1000+Word,BiGram'\n",
    "        ]\n",
    "    }\n",
    "boosting_params ={\n",
    "#     'iterations': 2000,\n",
    "#         'learning_rate': 0.005,\n",
    "}\n",
    "results_catboost2 = []\n",
    "for i in tqdm(range(5)):\n",
    "    test = design_labelled_metadata.iloc[i * test_set_len : (i+1)* test_set_len]\n",
    "    test_classes =np.sort( test.label.unique())\n",
    "    train = design_labelled_metadata[~design_labelled_metadata.index.isin(test.index)]\n",
    "    model, acc, f1, f1_macro, params = train_validate_catboost_model(\n",
    "        train, test,\n",
    "        ['abstract', 'title'],\n",
    "        'label',\n",
    "        text_features=['abstract', 'title'], params={**extra_text_params, **boosting_params}, verbose=False)\n",
    "    results_catboost2.append({\n",
    "        \"i\": i,\n",
    "        \"f1\": {k: v for k, v in zip(test_classes, f1)},\n",
    "        \"acc\": acc,\n",
    "        'f1_macro': f1_macro,\n",
    "        \"best_iteration\": model.get_best_iteration()\n",
    "    })\n",
    "\n",
    "results_catboost2 = pd.DataFrame(results_catboost2)\n",
    "pd.DataFrame(results_catboost2)"
   ]
  },
  {
   "cell_type": "code",
   "execution_count": 15,
   "metadata": {},
   "outputs": [
    {
     "data": {
      "text/plain": [
       "0    0.763758\n",
       "1    0.942857\n",
       "2    0.973950\n",
       "3    0.333333\n",
       "4    0.681818\n",
       "5    0.300000\n",
       "6    0.622424\n",
       "7    0.938197\n",
       "8    0.721178\n",
       "9    0.778932\n",
       "dtype: float64"
      ]
     },
     "execution_count": 15,
     "metadata": {},
     "output_type": "execute_result"
    }
   ],
   "source": [
    "pd.DataFrame(results_catboost2.f1.to_list()).mean()"
   ]
  },
  {
   "cell_type": "markdown",
   "metadata": {},
   "source": [
    "note that not class 3 (\"Non-randomized trial\") has very few articles so we might consider removing them from training set"
   ]
  },
  {
   "cell_type": "markdown",
   "metadata": {},
   "source": [
    "classification wiht annotations + umls-- actually, can't use just the selected sections..."
   ]
  },
  {
   "cell_type": "code",
   "execution_count": 9,
   "metadata": {},
   "outputs": [
    {
     "name": "stderr",
     "output_type": "stream",
     "text": [
      "100%|██████████| 20/20 [03:11<00:00,  9.59s/it]\n"
     ]
    }
   ],
   "source": [
    "annotations_with_umls = enrich_annotations(annotations_raw, processed_article_folder, extra_features=['UMLS'], sections=['method', 'result', 'abstract'])"
   ]
  },
  {
   "cell_type": "code",
   "execution_count": 17,
   "metadata": {},
   "outputs": [],
   "source": [
    "# method_UMLS = annotations_with_umls.groupby('cord_uid')['method_UMLS'].fillna('').apply(','.join).reset_index()\n",
    "# abstract_UMLS =  annotations_with_umls.groupby('cord_uid')['abstract_UMLS'].fillna('').apply(','.join).reset_index()\n",
    "# result_UMLS =  annotations_with_umls.groupby('cord_uid')['result_UMLS'].fillna('').apply(','.join).reset_index()"
   ]
  },
  {
   "cell_type": "code",
   "execution_count": 10,
   "metadata": {},
   "outputs": [
    {
     "data": {
      "text/plain": [
       "(875,)"
      ]
     },
     "execution_count": 10,
     "metadata": {},
     "output_type": "execute_result"
    }
   ],
   "source": [
    "annotations_with_umls['abstract_UMLS'] = annotations_with_umls['abstract_UMLS'].apply(lambda d: d if isinstance(d, list) else [])\n",
    "annotations_with_umls['result_UMLS'] = annotations_with_umls['result_UMLS'].apply(lambda d: d if isinstance(d, list) else [])\n",
    "annotations_with_umls['method_UMLS'] = annotations_with_umls['method_UMLS'].apply(lambda d: d if isinstance(d, list) else [])\n",
    "\n",
    "\n",
    "annotations_with_umls.groupby('cord_uid')['method_UMLS'].sum().shape"
   ]
  },
  {
   "cell_type": "code",
   "execution_count": 11,
   "metadata": {},
   "outputs": [],
   "source": [
    "method_UMLS = annotations_with_umls.groupby('cord_uid')['method_UMLS'].sum().apply(','.join)\n",
    "abstract_UMLS = annotations_with_umls.groupby('cord_uid')['abstract_UMLS'].sum().apply(','.join)\n",
    "result_UMLS = annotations_with_umls.groupby('cord_uid')['result_UMLS'].sum().apply(','.join)"
   ]
  },
  {
   "cell_type": "code",
   "execution_count": 12,
   "metadata": {},
   "outputs": [
    {
     "data": {
      "text/plain": [
       "['/media/wwymak/Storage/coronawhy/nlp_datasets/annotations_w_umls.pkl']"
      ]
     },
     "execution_count": 12,
     "metadata": {},
     "output_type": "execute_result"
    }
   ],
   "source": [
    "joblib.dump({'method_UMLS': method_UMLS, 'abstract_UMLS': abstract_UMLS, 'result_UMLS': result_UMLS}, data_dir/'annotations_w_umls.pkl', compress=3)"
   ]
  },
  {
   "cell_type": "code",
   "execution_count": null,
   "metadata": {},
   "outputs": [],
   "source": [
    "umls_dict = joblib.load(data_dir/'annotations_w_umls.pkl')"
   ]
  },
  {
   "cell_type": "code",
   "execution_count": 16,
   "metadata": {
    "scrolled": true
   },
   "outputs": [
    {
     "data": {
      "text/plain": [
       "cord_uid\n",
       "4pab383g    Patients,Ethics,Eligible,Patients,Fever,Signs ...\n",
       "v8p4gjay    Publications,Research Methodology,Study Object...\n",
       "Name: method_UMLS, dtype: object"
      ]
     },
     "execution_count": 16,
     "metadata": {},
     "output_type": "execute_result"
    }
   ],
   "source": [
    "abstract_UMLS[abstract_UMLS.apply(lambda x: len(x)> 0)].head()"
   ]
  },
  {
   "cell_type": "code",
   "execution_count": 19,
   "metadata": {},
   "outputs": [
    {
     "data": {
      "text/plain": [
       "(0,)"
      ]
     },
     "execution_count": 19,
     "metadata": {},
     "output_type": "execute_result"
    }
   ],
   "source": [
    "result_UMLS[result_UMLS.apply(lambda x: len(x)> 0)].shape"
   ]
  },
  {
   "cell_type": "markdown",
   "metadata": {},
   "source": [
    "using other things -- lemmas and text from the articles in addition to title + abstract"
   ]
  },
  {
   "cell_type": "code",
   "execution_count": 14,
   "metadata": {},
   "outputs": [
    {
     "name": "stderr",
     "output_type": "stream",
     "text": [
      "\n",
      "\n",
      "\n",
      "\n",
      "  0%|          | 0/20 [00:00<?, ?it/s]\u001b[A\u001b[A\u001b[A\u001b[A\n",
      "\n",
      "\n",
      "\n",
      "  5%|▌         | 1/20 [00:12<03:58, 12.56s/it]\u001b[A\u001b[A\u001b[A\u001b[A\n",
      "\n",
      "\n",
      "\n",
      " 10%|█         | 2/20 [00:30<04:16, 14.28s/it]\u001b[A\u001b[A\u001b[A\u001b[A\n",
      "\n",
      "\n",
      "\n",
      " 15%|█▌        | 3/20 [00:40<03:40, 12.97s/it]\u001b[A\u001b[A\u001b[A\u001b[A\n",
      "\n",
      "\n",
      "\n",
      " 20%|██        | 4/20 [00:55<03:38, 13.63s/it]\u001b[A\u001b[A\u001b[A\u001b[A\n",
      "\n",
      "\n",
      "\n",
      " 25%|██▌       | 5/20 [01:09<03:25, 13.70s/it]\u001b[A\u001b[A\u001b[A\u001b[A\n",
      "\n",
      "\n",
      "\n",
      " 30%|███       | 6/20 [01:44<04:39, 19.94s/it]\u001b[A\u001b[A\u001b[A\u001b[A\n",
      "\n",
      "\n",
      "\n",
      " 35%|███▌      | 7/20 [02:06<04:29, 20.70s/it]\u001b[A\u001b[A\u001b[A\u001b[A\n",
      "\n",
      "\n",
      "\n",
      " 40%|████      | 8/20 [02:20<03:42, 18.57s/it]\u001b[A\u001b[A\u001b[A\u001b[A\n",
      "\n",
      "\n",
      "\n",
      " 45%|████▌     | 9/20 [02:36<03:15, 17.77s/it]\u001b[A\u001b[A\u001b[A\u001b[A\n",
      "\n",
      "\n",
      "\n",
      " 50%|█████     | 10/20 [02:46<02:35, 15.54s/it]\u001b[A\u001b[A\u001b[A\u001b[A\n",
      "\n",
      "\n",
      "\n",
      " 55%|█████▌    | 11/20 [02:58<02:10, 14.54s/it]\u001b[A\u001b[A\u001b[A\u001b[A\n",
      "\n",
      "\n",
      "\n",
      " 60%|██████    | 12/20 [03:15<02:02, 15.26s/it]\u001b[A\u001b[A\u001b[A\u001b[A"
     ]
    },
    {
     "ename": "ValueError",
     "evalue": "StringArray requires a sequence of strings or pandas.NA",
     "output_type": "error",
     "traceback": [
      "\u001b[0;31m---------------------------------------------------------------------------\u001b[0m",
      "\u001b[0;31mValueError\u001b[0m                                Traceback (most recent call last)",
      "\u001b[0;32m<ipython-input-14-ad66630fff33>\u001b[0m in \u001b[0;36m<module>\u001b[0;34m\u001b[0m\n\u001b[0;32m----> 1\u001b[0;31m \u001b[0mannotations_with_lemmas\u001b[0m  \u001b[0;34m=\u001b[0m \u001b[0menrich_annotations\u001b[0m\u001b[0;34m(\u001b[0m\u001b[0mannotations_raw\u001b[0m\u001b[0;34m,\u001b[0m \u001b[0mprocessed_article_folder\u001b[0m\u001b[0;34m,\u001b[0m \u001b[0mextra_features\u001b[0m\u001b[0;34m=\u001b[0m\u001b[0;34m[\u001b[0m\u001b[0;34m'lemma'\u001b[0m\u001b[0;34m]\u001b[0m\u001b[0;34m,\u001b[0m \u001b[0msections\u001b[0m\u001b[0;34m=\u001b[0m\u001b[0;34m[\u001b[0m\u001b[0;34m'method'\u001b[0m\u001b[0;34m,\u001b[0m \u001b[0;34m'result'\u001b[0m\u001b[0;34m,\u001b[0m \u001b[0;34m'abstract'\u001b[0m\u001b[0;34m,\u001b[0m \u001b[0;34m'summary'\u001b[0m\u001b[0;34m,\u001b[0m \u001b[0;34m'discussion'\u001b[0m\u001b[0;34m]\u001b[0m\u001b[0;34m)\u001b[0m\u001b[0;34m\u001b[0m\u001b[0;34m\u001b[0m\u001b[0m\n\u001b[0m",
      "\u001b[0;32m~/coronawhy/text_classification/datasets/fetch_article_features.py\u001b[0m in \u001b[0;36menrich_annotations\u001b[0;34m(annotations_dataset, processed_article_folder, extra_features, sections)\u001b[0m\n\u001b[1;32m     34\u001b[0m         \u001b[0mprocessed_article_data\u001b[0m \u001b[0;34m=\u001b[0m \u001b[0mpd\u001b[0m\u001b[0;34m.\u001b[0m\u001b[0mread_pickle\u001b[0m\u001b[0;34m(\u001b[0m\u001b[0mfilepath\u001b[0m\u001b[0;34m)\u001b[0m\u001b[0;34m\u001b[0m\u001b[0;34m\u001b[0m\u001b[0m\n\u001b[1;32m     35\u001b[0m         enriched_dataset = _enrich_annotations_one_subset(\n\u001b[0;32m---> 36\u001b[0;31m             annotations_dataset, processed_article_data, extra_features, sections)\n\u001b[0m\u001b[1;32m     37\u001b[0m \u001b[0;34m\u001b[0m\u001b[0m\n\u001b[1;32m     38\u001b[0m     \u001b[0;32mreturn\u001b[0m \u001b[0menriched_dataset\u001b[0m\u001b[0;34m\u001b[0m\u001b[0;34m\u001b[0m\u001b[0m\n",
      "\u001b[0;32m~/coronawhy/text_classification/datasets/fetch_article_features.py\u001b[0m in \u001b[0;36m_enrich_annotations_one_subset\u001b[0;34m(annotations_dataset, processed_article_data, extra_features, sections)\u001b[0m\n\u001b[1;32m     20\u001b[0m             processed_article_data[processed_article_data.section.notnull() &\n\u001b[1;32m     21\u001b[0m                                    processed_article_data.section.astype(str).str.contains(section)],\n\u001b[0;32m---> 22\u001b[0;31m             left_on=\"cord_uid\", right_on=\"cord_uid\",how=\"left\")[original_columns + extra_features]\n\u001b[0m\u001b[1;32m     23\u001b[0m         enriched_dataset = enriched_dataset.rename(columns={\n\u001b[1;32m     24\u001b[0m             \u001b[0mk\u001b[0m\u001b[0;34m:\u001b[0m \u001b[0mv\u001b[0m \u001b[0;32mfor\u001b[0m \u001b[0mk\u001b[0m\u001b[0;34m,\u001b[0m \u001b[0mv\u001b[0m \u001b[0;32min\u001b[0m \u001b[0mzip\u001b[0m\u001b[0;34m(\u001b[0m\u001b[0mextra_features\u001b[0m\u001b[0;34m,\u001b[0m \u001b[0mnew_feature_names\u001b[0m\u001b[0;34m)\u001b[0m\u001b[0;34m\u001b[0m\u001b[0;34m\u001b[0m\u001b[0m\n",
      "\u001b[0;32m~/anaconda3/envs/immo-ml/lib/python3.7/site-packages/pandas/core/frame.py\u001b[0m in \u001b[0;36mmerge\u001b[0;34m(self, right, how, on, left_on, right_on, left_index, right_index, sort, suffixes, copy, indicator, validate)\u001b[0m\n\u001b[1;32m   7295\u001b[0m             \u001b[0mcopy\u001b[0m\u001b[0;34m=\u001b[0m\u001b[0mcopy\u001b[0m\u001b[0;34m,\u001b[0m\u001b[0;34m\u001b[0m\u001b[0;34m\u001b[0m\u001b[0m\n\u001b[1;32m   7296\u001b[0m             \u001b[0mindicator\u001b[0m\u001b[0;34m=\u001b[0m\u001b[0mindicator\u001b[0m\u001b[0;34m,\u001b[0m\u001b[0;34m\u001b[0m\u001b[0;34m\u001b[0m\u001b[0m\n\u001b[0;32m-> 7297\u001b[0;31m             \u001b[0mvalidate\u001b[0m\u001b[0;34m=\u001b[0m\u001b[0mvalidate\u001b[0m\u001b[0;34m,\u001b[0m\u001b[0;34m\u001b[0m\u001b[0;34m\u001b[0m\u001b[0m\n\u001b[0m\u001b[1;32m   7298\u001b[0m         )\n\u001b[1;32m   7299\u001b[0m \u001b[0;34m\u001b[0m\u001b[0m\n",
      "\u001b[0;32m~/anaconda3/envs/immo-ml/lib/python3.7/site-packages/pandas/core/reshape/merge.py\u001b[0m in \u001b[0;36mmerge\u001b[0;34m(left, right, how, on, left_on, right_on, left_index, right_index, sort, suffixes, copy, indicator, validate)\u001b[0m\n\u001b[1;32m     86\u001b[0m         \u001b[0mvalidate\u001b[0m\u001b[0;34m=\u001b[0m\u001b[0mvalidate\u001b[0m\u001b[0;34m,\u001b[0m\u001b[0;34m\u001b[0m\u001b[0;34m\u001b[0m\u001b[0m\n\u001b[1;32m     87\u001b[0m     )\n\u001b[0;32m---> 88\u001b[0;31m     \u001b[0;32mreturn\u001b[0m \u001b[0mop\u001b[0m\u001b[0;34m.\u001b[0m\u001b[0mget_result\u001b[0m\u001b[0;34m(\u001b[0m\u001b[0;34m)\u001b[0m\u001b[0;34m\u001b[0m\u001b[0;34m\u001b[0m\u001b[0m\n\u001b[0m\u001b[1;32m     89\u001b[0m \u001b[0;34m\u001b[0m\u001b[0m\n\u001b[1;32m     90\u001b[0m \u001b[0;34m\u001b[0m\u001b[0m\n",
      "\u001b[0;32m~/anaconda3/envs/immo-ml/lib/python3.7/site-packages/pandas/core/reshape/merge.py\u001b[0m in \u001b[0;36mget_result\u001b[0;34m(self)\u001b[0m\n\u001b[1;32m    657\u001b[0m             \u001b[0maxes\u001b[0m\u001b[0;34m=\u001b[0m\u001b[0;34m[\u001b[0m\u001b[0mllabels\u001b[0m\u001b[0;34m.\u001b[0m\u001b[0mappend\u001b[0m\u001b[0;34m(\u001b[0m\u001b[0mrlabels\u001b[0m\u001b[0;34m)\u001b[0m\u001b[0;34m,\u001b[0m \u001b[0mjoin_index\u001b[0m\u001b[0;34m]\u001b[0m\u001b[0;34m,\u001b[0m\u001b[0;34m\u001b[0m\u001b[0;34m\u001b[0m\u001b[0m\n\u001b[1;32m    658\u001b[0m             \u001b[0mconcat_axis\u001b[0m\u001b[0;34m=\u001b[0m\u001b[0;36m0\u001b[0m\u001b[0;34m,\u001b[0m\u001b[0;34m\u001b[0m\u001b[0;34m\u001b[0m\u001b[0m\n\u001b[0;32m--> 659\u001b[0;31m             \u001b[0mcopy\u001b[0m\u001b[0;34m=\u001b[0m\u001b[0mself\u001b[0m\u001b[0;34m.\u001b[0m\u001b[0mcopy\u001b[0m\u001b[0;34m,\u001b[0m\u001b[0;34m\u001b[0m\u001b[0;34m\u001b[0m\u001b[0m\n\u001b[0m\u001b[1;32m    660\u001b[0m         )\n\u001b[1;32m    661\u001b[0m \u001b[0;34m\u001b[0m\u001b[0m\n",
      "\u001b[0;32m~/anaconda3/envs/immo-ml/lib/python3.7/site-packages/pandas/core/internals/managers.py\u001b[0m in \u001b[0;36mconcatenate_block_managers\u001b[0;34m(mgrs_indexers, axes, concat_axis, copy)\u001b[0m\n\u001b[1;32m   2020\u001b[0m         \u001b[0;32melse\u001b[0m\u001b[0;34m:\u001b[0m\u001b[0;34m\u001b[0m\u001b[0;34m\u001b[0m\u001b[0m\n\u001b[1;32m   2021\u001b[0m             b = make_block(\n\u001b[0;32m-> 2022\u001b[0;31m                 \u001b[0mconcatenate_join_units\u001b[0m\u001b[0;34m(\u001b[0m\u001b[0mjoin_units\u001b[0m\u001b[0;34m,\u001b[0m \u001b[0mconcat_axis\u001b[0m\u001b[0;34m,\u001b[0m \u001b[0mcopy\u001b[0m\u001b[0;34m=\u001b[0m\u001b[0mcopy\u001b[0m\u001b[0;34m)\u001b[0m\u001b[0;34m,\u001b[0m\u001b[0;34m\u001b[0m\u001b[0;34m\u001b[0m\u001b[0m\n\u001b[0m\u001b[1;32m   2023\u001b[0m                 \u001b[0mplacement\u001b[0m\u001b[0;34m=\u001b[0m\u001b[0mplacement\u001b[0m\u001b[0;34m,\u001b[0m\u001b[0;34m\u001b[0m\u001b[0;34m\u001b[0m\u001b[0m\n\u001b[1;32m   2024\u001b[0m             )\n",
      "\u001b[0;32m~/anaconda3/envs/immo-ml/lib/python3.7/site-packages/pandas/core/internals/concat.py\u001b[0m in \u001b[0;36mconcatenate_join_units\u001b[0;34m(join_units, concat_axis, copy)\u001b[0m\n\u001b[1;32m    246\u001b[0m     to_concat = [\n\u001b[1;32m    247\u001b[0m         \u001b[0mju\u001b[0m\u001b[0;34m.\u001b[0m\u001b[0mget_reindexed_values\u001b[0m\u001b[0;34m(\u001b[0m\u001b[0mempty_dtype\u001b[0m\u001b[0;34m=\u001b[0m\u001b[0mempty_dtype\u001b[0m\u001b[0;34m,\u001b[0m \u001b[0mupcasted_na\u001b[0m\u001b[0;34m=\u001b[0m\u001b[0mupcasted_na\u001b[0m\u001b[0;34m)\u001b[0m\u001b[0;34m\u001b[0m\u001b[0;34m\u001b[0m\u001b[0m\n\u001b[0;32m--> 248\u001b[0;31m         \u001b[0;32mfor\u001b[0m \u001b[0mju\u001b[0m \u001b[0;32min\u001b[0m \u001b[0mjoin_units\u001b[0m\u001b[0;34m\u001b[0m\u001b[0;34m\u001b[0m\u001b[0m\n\u001b[0m\u001b[1;32m    249\u001b[0m     ]\n\u001b[1;32m    250\u001b[0m \u001b[0;34m\u001b[0m\u001b[0m\n",
      "\u001b[0;32m~/anaconda3/envs/immo-ml/lib/python3.7/site-packages/pandas/core/internals/concat.py\u001b[0m in \u001b[0;36m<listcomp>\u001b[0;34m(.0)\u001b[0m\n\u001b[1;32m    246\u001b[0m     to_concat = [\n\u001b[1;32m    247\u001b[0m         \u001b[0mju\u001b[0m\u001b[0;34m.\u001b[0m\u001b[0mget_reindexed_values\u001b[0m\u001b[0;34m(\u001b[0m\u001b[0mempty_dtype\u001b[0m\u001b[0;34m=\u001b[0m\u001b[0mempty_dtype\u001b[0m\u001b[0;34m,\u001b[0m \u001b[0mupcasted_na\u001b[0m\u001b[0;34m=\u001b[0m\u001b[0mupcasted_na\u001b[0m\u001b[0;34m)\u001b[0m\u001b[0;34m\u001b[0m\u001b[0;34m\u001b[0m\u001b[0m\n\u001b[0;32m--> 248\u001b[0;31m         \u001b[0;32mfor\u001b[0m \u001b[0mju\u001b[0m \u001b[0;32min\u001b[0m \u001b[0mjoin_units\u001b[0m\u001b[0;34m\u001b[0m\u001b[0;34m\u001b[0m\u001b[0m\n\u001b[0m\u001b[1;32m    249\u001b[0m     ]\n\u001b[1;32m    250\u001b[0m \u001b[0;34m\u001b[0m\u001b[0m\n",
      "\u001b[0;32m~/anaconda3/envs/immo-ml/lib/python3.7/site-packages/pandas/core/internals/concat.py\u001b[0m in \u001b[0;36mget_reindexed_values\u001b[0;34m(self, empty_dtype, upcasted_na)\u001b[0m\n\u001b[1;32m    229\u001b[0m         \u001b[0;32melse\u001b[0m\u001b[0;34m:\u001b[0m\u001b[0;34m\u001b[0m\u001b[0;34m\u001b[0m\u001b[0m\n\u001b[1;32m    230\u001b[0m             \u001b[0;32mfor\u001b[0m \u001b[0max\u001b[0m\u001b[0;34m,\u001b[0m \u001b[0mindexer\u001b[0m \u001b[0;32min\u001b[0m \u001b[0mself\u001b[0m\u001b[0;34m.\u001b[0m\u001b[0mindexers\u001b[0m\u001b[0;34m.\u001b[0m\u001b[0mitems\u001b[0m\u001b[0;34m(\u001b[0m\u001b[0;34m)\u001b[0m\u001b[0;34m:\u001b[0m\u001b[0;34m\u001b[0m\u001b[0;34m\u001b[0m\u001b[0m\n\u001b[0;32m--> 231\u001b[0;31m                 \u001b[0mvalues\u001b[0m \u001b[0;34m=\u001b[0m \u001b[0malgos\u001b[0m\u001b[0;34m.\u001b[0m\u001b[0mtake_nd\u001b[0m\u001b[0;34m(\u001b[0m\u001b[0mvalues\u001b[0m\u001b[0;34m,\u001b[0m \u001b[0mindexer\u001b[0m\u001b[0;34m,\u001b[0m \u001b[0maxis\u001b[0m\u001b[0;34m=\u001b[0m\u001b[0max\u001b[0m\u001b[0;34m,\u001b[0m \u001b[0mfill_value\u001b[0m\u001b[0;34m=\u001b[0m\u001b[0mfill_value\u001b[0m\u001b[0;34m)\u001b[0m\u001b[0;34m\u001b[0m\u001b[0;34m\u001b[0m\u001b[0m\n\u001b[0m\u001b[1;32m    232\u001b[0m \u001b[0;34m\u001b[0m\u001b[0m\n\u001b[1;32m    233\u001b[0m         \u001b[0;32mreturn\u001b[0m \u001b[0mvalues\u001b[0m\u001b[0;34m\u001b[0m\u001b[0;34m\u001b[0m\u001b[0m\n",
      "\u001b[0;32m~/anaconda3/envs/immo-ml/lib/python3.7/site-packages/pandas/core/algorithms.py\u001b[0m in \u001b[0;36mtake_nd\u001b[0;34m(arr, indexer, axis, out, fill_value, allow_fill)\u001b[0m\n\u001b[1;32m   1600\u001b[0m \u001b[0;34m\u001b[0m\u001b[0m\n\u001b[1;32m   1601\u001b[0m     \u001b[0;32mif\u001b[0m \u001b[0mis_extension_array_dtype\u001b[0m\u001b[0;34m(\u001b[0m\u001b[0marr\u001b[0m\u001b[0;34m)\u001b[0m\u001b[0;34m:\u001b[0m\u001b[0;34m\u001b[0m\u001b[0;34m\u001b[0m\u001b[0m\n\u001b[0;32m-> 1602\u001b[0;31m         \u001b[0;32mreturn\u001b[0m \u001b[0marr\u001b[0m\u001b[0;34m.\u001b[0m\u001b[0mtake\u001b[0m\u001b[0;34m(\u001b[0m\u001b[0mindexer\u001b[0m\u001b[0;34m,\u001b[0m \u001b[0mfill_value\u001b[0m\u001b[0;34m=\u001b[0m\u001b[0mfill_value\u001b[0m\u001b[0;34m,\u001b[0m \u001b[0mallow_fill\u001b[0m\u001b[0;34m=\u001b[0m\u001b[0mallow_fill\u001b[0m\u001b[0;34m)\u001b[0m\u001b[0;34m\u001b[0m\u001b[0;34m\u001b[0m\u001b[0m\n\u001b[0m\u001b[1;32m   1603\u001b[0m \u001b[0;34m\u001b[0m\u001b[0m\n\u001b[1;32m   1604\u001b[0m     \u001b[0marr\u001b[0m \u001b[0;34m=\u001b[0m \u001b[0mextract_array\u001b[0m\u001b[0;34m(\u001b[0m\u001b[0marr\u001b[0m\u001b[0;34m)\u001b[0m\u001b[0;34m\u001b[0m\u001b[0;34m\u001b[0m\u001b[0m\n",
      "\u001b[0;32m~/anaconda3/envs/immo-ml/lib/python3.7/site-packages/pandas/core/arrays/numpy_.py\u001b[0m in \u001b[0;36mtake\u001b[0;34m(self, indices, allow_fill, fill_value)\u001b[0m\n\u001b[1;32m    296\u001b[0m             \u001b[0mself\u001b[0m\u001b[0;34m.\u001b[0m\u001b[0m_ndarray\u001b[0m\u001b[0;34m,\u001b[0m \u001b[0mindices\u001b[0m\u001b[0;34m,\u001b[0m \u001b[0mallow_fill\u001b[0m\u001b[0;34m=\u001b[0m\u001b[0mallow_fill\u001b[0m\u001b[0;34m,\u001b[0m \u001b[0mfill_value\u001b[0m\u001b[0;34m=\u001b[0m\u001b[0mfill_value\u001b[0m\u001b[0;34m\u001b[0m\u001b[0;34m\u001b[0m\u001b[0m\n\u001b[1;32m    297\u001b[0m         )\n\u001b[0;32m--> 298\u001b[0;31m         \u001b[0;32mreturn\u001b[0m \u001b[0mtype\u001b[0m\u001b[0;34m(\u001b[0m\u001b[0mself\u001b[0m\u001b[0;34m)\u001b[0m\u001b[0;34m(\u001b[0m\u001b[0mresult\u001b[0m\u001b[0;34m)\u001b[0m\u001b[0;34m\u001b[0m\u001b[0;34m\u001b[0m\u001b[0m\n\u001b[0m\u001b[1;32m    299\u001b[0m \u001b[0;34m\u001b[0m\u001b[0m\n\u001b[1;32m    300\u001b[0m     \u001b[0;32mdef\u001b[0m \u001b[0mcopy\u001b[0m\u001b[0;34m(\u001b[0m\u001b[0mself\u001b[0m\u001b[0;34m)\u001b[0m\u001b[0;34m:\u001b[0m\u001b[0;34m\u001b[0m\u001b[0;34m\u001b[0m\u001b[0m\n",
      "\u001b[0;32m~/anaconda3/envs/immo-ml/lib/python3.7/site-packages/pandas/core/arrays/string_.py\u001b[0m in \u001b[0;36m__init__\u001b[0;34m(self, values, copy)\u001b[0m\n\u001b[1;32m    164\u001b[0m         \u001b[0mself\u001b[0m\u001b[0;34m.\u001b[0m\u001b[0m_dtype\u001b[0m \u001b[0;34m=\u001b[0m \u001b[0mStringDtype\u001b[0m\u001b[0;34m(\u001b[0m\u001b[0;34m)\u001b[0m\u001b[0;34m\u001b[0m\u001b[0;34m\u001b[0m\u001b[0m\n\u001b[1;32m    165\u001b[0m         \u001b[0;32mif\u001b[0m \u001b[0;32mnot\u001b[0m \u001b[0mskip_validation\u001b[0m\u001b[0;34m:\u001b[0m\u001b[0;34m\u001b[0m\u001b[0;34m\u001b[0m\u001b[0m\n\u001b[0;32m--> 166\u001b[0;31m             \u001b[0mself\u001b[0m\u001b[0;34m.\u001b[0m\u001b[0m_validate\u001b[0m\u001b[0;34m(\u001b[0m\u001b[0;34m)\u001b[0m\u001b[0;34m\u001b[0m\u001b[0;34m\u001b[0m\u001b[0m\n\u001b[0m\u001b[1;32m    167\u001b[0m \u001b[0;34m\u001b[0m\u001b[0m\n\u001b[1;32m    168\u001b[0m     \u001b[0;32mdef\u001b[0m \u001b[0m_validate\u001b[0m\u001b[0;34m(\u001b[0m\u001b[0mself\u001b[0m\u001b[0;34m)\u001b[0m\u001b[0;34m:\u001b[0m\u001b[0;34m\u001b[0m\u001b[0;34m\u001b[0m\u001b[0m\n",
      "\u001b[0;32m~/anaconda3/envs/immo-ml/lib/python3.7/site-packages/pandas/core/arrays/string_.py\u001b[0m in \u001b[0;36m_validate\u001b[0;34m(self)\u001b[0m\n\u001b[1;32m    169\u001b[0m         \u001b[0;34m\"\"\"Validate that we only store NA or strings.\"\"\"\u001b[0m\u001b[0;34m\u001b[0m\u001b[0;34m\u001b[0m\u001b[0m\n\u001b[1;32m    170\u001b[0m         \u001b[0;32mif\u001b[0m \u001b[0mlen\u001b[0m\u001b[0;34m(\u001b[0m\u001b[0mself\u001b[0m\u001b[0;34m.\u001b[0m\u001b[0m_ndarray\u001b[0m\u001b[0;34m)\u001b[0m \u001b[0;32mand\u001b[0m \u001b[0;32mnot\u001b[0m \u001b[0mlib\u001b[0m\u001b[0;34m.\u001b[0m\u001b[0mis_string_array\u001b[0m\u001b[0;34m(\u001b[0m\u001b[0mself\u001b[0m\u001b[0;34m.\u001b[0m\u001b[0m_ndarray\u001b[0m\u001b[0;34m,\u001b[0m \u001b[0mskipna\u001b[0m\u001b[0;34m=\u001b[0m\u001b[0;32mTrue\u001b[0m\u001b[0;34m)\u001b[0m\u001b[0;34m:\u001b[0m\u001b[0;34m\u001b[0m\u001b[0;34m\u001b[0m\u001b[0m\n\u001b[0;32m--> 171\u001b[0;31m             \u001b[0;32mraise\u001b[0m \u001b[0mValueError\u001b[0m\u001b[0;34m(\u001b[0m\u001b[0;34m\"StringArray requires a sequence of strings or pandas.NA\"\u001b[0m\u001b[0;34m)\u001b[0m\u001b[0;34m\u001b[0m\u001b[0;34m\u001b[0m\u001b[0m\n\u001b[0m\u001b[1;32m    172\u001b[0m         \u001b[0;32mif\u001b[0m \u001b[0mself\u001b[0m\u001b[0;34m.\u001b[0m\u001b[0m_ndarray\u001b[0m\u001b[0;34m.\u001b[0m\u001b[0mdtype\u001b[0m \u001b[0;34m!=\u001b[0m \u001b[0;34m\"object\"\u001b[0m\u001b[0;34m:\u001b[0m\u001b[0;34m\u001b[0m\u001b[0;34m\u001b[0m\u001b[0m\n\u001b[1;32m    173\u001b[0m             raise ValueError(\n",
      "\u001b[0;31mValueError\u001b[0m: StringArray requires a sequence of strings or pandas.NA"
     ]
    }
   ],
   "source": [
    "annotations_with_lemmas  = enrich_annotations(annotations_raw, processed_article_folder, extra_features=['lemma'], sections=['method', 'result', 'abstract', 'summary', 'discussion'])"
   ]
  },
  {
   "cell_type": "markdown",
   "metadata": {},
   "source": [
    "using the specter embeddings + catboost"
   ]
  },
  {
   "cell_type": "code",
   "execution_count": 31,
   "metadata": {},
   "outputs": [
    {
     "data": {
      "text/plain": [
       "(746, 774)"
      ]
     },
     "execution_count": 31,
     "metadata": {},
     "output_type": "execute_result"
    }
   ],
   "source": [
    "annotations_raw.shape\n",
    "annotations_with_specter_df = annotations_with_specter_embeddings(annotations_raw,data_dir/ 'cord_19_specter_embeddings_4_17.csv.zip' )\n",
    "annotations_with_specter_df.shape"
   ]
  },
  {
   "cell_type": "code",
   "execution_count": 32,
   "metadata": {},
   "outputs": [
    {
     "name": "stderr",
     "output_type": "stream",
     "text": [
      "2020-04-27 22:25:00,632::INFO::catboost_classifier.py::43  accuracy: 0.6711409395973155\n",
      "2020-04-27 22:25:00,633::INFO::catboost_classifier.py::44  f1: [0.51612903 0.81481481 0.83333333 0.         0.33333333 0.\n",
      " 0.55555556 0.80851064 0.83333333 0.71428571 0.67605634]\n",
      "2020-04-27 22:25:00,633::INFO::catboost_classifier.py::45  f1_macro: 0.5532138266581992\n",
      "2020-04-27 22:25:20,988::INFO::catboost_classifier.py::43  accuracy: 0.6174496644295302\n",
      "2020-04-27 22:25:20,988::INFO::catboost_classifier.py::44  f1: [0.47368421 0.83333333 0.875      0.58823529 0.         0.42857143\n",
      " 0.77777778 0.5        0.46153846 0.61702128]\n",
      "2020-04-27 22:25:20,988::INFO::catboost_classifier.py::45  f1_macro: 0.5555161782460709\n",
      "2020-04-27 22:25:41,518::INFO::catboost_classifier.py::43  accuracy: 0.6174496644295302\n",
      "2020-04-27 22:25:41,518::INFO::catboost_classifier.py::44  f1: [0.57894737 0.8        0.82758621 0.         0.26666667 0.14285714\n",
      " 0.38095238 0.73913043 0.8        0.59459459 0.64516129]\n",
      "2020-04-27 22:25:41,519::INFO::catboost_classifier.py::45  f1_macro: 0.5250814623175981\n",
      "2020-04-27 22:26:02,293::INFO::catboost_classifier.py::43  accuracy: 0.6510067114093959\n",
      "2020-04-27 22:26:02,294::INFO::catboost_classifier.py::44  f1: [0.38461538 0.73684211 0.88       0.35294118 0.18181818 0.81481481\n",
      " 0.86363636 0.44444444 0.60465116 0.64935065]\n",
      "2020-04-27 22:26:02,294::INFO::catboost_classifier.py::45  f1_macro: 0.5913114283204282\n",
      "2020-04-27 22:26:22,927::INFO::catboost_classifier.py::43  accuracy: 0.6375838926174496\n",
      "2020-04-27 22:26:22,928::INFO::catboost_classifier.py::44  f1: [0.4        0.86486486 0.83333333 0.30769231 0.         0.56\n",
      " 0.7        0.5        0.41025641 0.79452055]\n",
      "2020-04-27 22:26:22,928::INFO::catboost_classifier.py::45  f1_macro: 0.5370667464092121\n"
     ]
    },
    {
     "name": "stdout",
     "output_type": "stream",
     "text": [
      "   i                                                 f1       acc  f1_macro\n",
      "0  0  [0.5161290322580646, 0.8148148148148148, 0.833...  0.671141  0.553214\n",
      "1  1  [0.47368421052631576, 0.8333333333333333, 0.87...  0.617450  0.555516\n",
      "2  2  [0.5789473684210527, 0.8, 0.8275862068965517, ...  0.617450  0.525081\n",
      "3  3  [0.38461538461538464, 0.7368421052631577, 0.87...  0.651007  0.591311\n",
      "4  4  [0.4, 0.8648648648648649, 0.8333333333333334, ...  0.637584  0.537067\n"
     ]
    }
   ],
   "source": [
    "annotations_with_specter_df = annotations_with_specter_df[['abstract', 'title', 'label'] + [f\"{i}\" for i in range(768)]].sample(frac=1.0)\n",
    "test_set_len = len(annotations_with_specter_df) //5\n",
    "results = []\n",
    "params = {}\n",
    "for i in range(5):\n",
    "    test = annotations_with_specter_df.iloc[i * test_set_len : (i+1)* test_set_len]\n",
    "    train = annotations_with_specter_df[~annotations_with_specter_df.index.isin(test.index)]\n",
    "    model, acc, f1, f1_macro, params = train_validate_catboost_model(\n",
    "        train, test,\n",
    "        [f\"{i}\" for i in range(768)],\n",
    "        'label', text_features=None, params={}, verbose=False)\n",
    "    results.append({\n",
    "        \"i\": i,\n",
    "        \"f1\": f1,\n",
    "        \"acc\": acc,\n",
    "        'f1_macro': f1_macro,\n",
    "    })\n",
    "\n",
    "results = pd.DataFrame(results)\n",
    "params_str = \",\".join([f\"{k}={v}\" for k, v in params.items()])\n",
    "print(pd.DataFrame(results))"
   ]
  },
  {
   "cell_type": "code",
   "execution_count": 30,
   "metadata": {},
   "outputs": [
    {
     "data": {
      "text/html": [
       "<div>\n",
       "<style scoped>\n",
       "    .dataframe tbody tr th:only-of-type {\n",
       "        vertical-align: middle;\n",
       "    }\n",
       "\n",
       "    .dataframe tbody tr th {\n",
       "        vertical-align: top;\n",
       "    }\n",
       "\n",
       "    .dataframe thead th {\n",
       "        text-align: right;\n",
       "    }\n",
       "</style>\n",
       "<table border=\"1\" class=\"dataframe\">\n",
       "  <thead>\n",
       "    <tr style=\"text-align: right;\">\n",
       "      <th></th>\n",
       "      <th>i</th>\n",
       "      <th>f1</th>\n",
       "      <th>acc</th>\n",
       "      <th>f1_macro</th>\n",
       "    </tr>\n",
       "  </thead>\n",
       "  <tbody>\n",
       "    <tr>\n",
       "      <th>0</th>\n",
       "      <td>0</td>\n",
       "      <td>[0.3571428571428571, 0.9375, 0.909090909090909...</td>\n",
       "      <td>0.651007</td>\n",
       "      <td>0.593818</td>\n",
       "    </tr>\n",
       "    <tr>\n",
       "      <th>1</th>\n",
       "      <td>1</td>\n",
       "      <td>[0.4571428571428571, 0.7999999999999999, 0.823...</td>\n",
       "      <td>0.604027</td>\n",
       "      <td>0.506118</td>\n",
       "    </tr>\n",
       "    <tr>\n",
       "      <th>2</th>\n",
       "      <td>2</td>\n",
       "      <td>[0.4666666666666667, 0.6666666666666667, 0.869...</td>\n",
       "      <td>0.657718</td>\n",
       "      <td>0.566968</td>\n",
       "    </tr>\n",
       "    <tr>\n",
       "      <th>3</th>\n",
       "      <td>3</td>\n",
       "      <td>[0.3636363636363636, 0.8666666666666667, 0.75,...</td>\n",
       "      <td>0.671141</td>\n",
       "      <td>0.570249</td>\n",
       "    </tr>\n",
       "    <tr>\n",
       "      <th>4</th>\n",
       "      <td>4</td>\n",
       "      <td>[0.48275862068965514, 0.888888888888889, 0.882...</td>\n",
       "      <td>0.610738</td>\n",
       "      <td>0.567772</td>\n",
       "    </tr>\n",
       "  </tbody>\n",
       "</table>\n",
       "</div>"
      ],
      "text/plain": [
       "   i                                                 f1       acc  f1_macro\n",
       "0  0  [0.3571428571428571, 0.9375, 0.909090909090909...  0.651007  0.593818\n",
       "1  1  [0.4571428571428571, 0.7999999999999999, 0.823...  0.604027  0.506118\n",
       "2  2  [0.4666666666666667, 0.6666666666666667, 0.869...  0.657718  0.566968\n",
       "3  3  [0.3636363636363636, 0.8666666666666667, 0.75,...  0.671141  0.570249\n",
       "4  4  [0.48275862068965514, 0.888888888888889, 0.882...  0.610738  0.567772"
      ]
     },
     "execution_count": 30,
     "metadata": {},
     "output_type": "execute_result"
    }
   ],
   "source": [
    "pd.DataFrame(results)"
   ]
  },
  {
   "cell_type": "code",
   "execution_count": 30,
   "metadata": {},
   "outputs": [],
   "source": [
    "# train final model\n",
    "\n",
    "final_model = train_validate_catboost_model(\n",
    "        design_labelled_metadata, None,\n",
    "        ['abstract', 'title'],\n",
    "        'label',\n",
    "        text_features=['abstract', 'title'], params={'iterations': 400}, verbose=False)"
   ]
  },
  {
   "cell_type": "code",
   "execution_count": 31,
   "metadata": {},
   "outputs": [],
   "source": [
    "final_model.save_model(str(data_dir/'catboost_david_annotation_2_may'))"
   ]
  },
  {
   "cell_type": "code",
   "execution_count": null,
   "metadata": {},
   "outputs": [],
   "source": []
  }
 ],
 "metadata": {
  "kernelspec": {
   "display_name": "Python [conda env:immo-ml]",
   "language": "python",
   "name": "conda-env-immo-ml-py"
  },
  "language_info": {
   "codemirror_mode": {
    "name": "ipython",
    "version": 3
   },
   "file_extension": ".py",
   "mimetype": "text/x-python",
   "name": "python",
   "nbconvert_exporter": "python",
   "pygments_lexer": "ipython3",
   "version": "3.7.6"
  }
 },
 "nbformat": 4,
 "nbformat_minor": 2
}
