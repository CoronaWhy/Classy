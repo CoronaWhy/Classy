{
 "cells": [
  {
   "cell_type": "code",
   "execution_count": 1,
   "metadata": {},
   "outputs": [],
   "source": [
    "from common.logging import create_logger\n",
    "from pathlib import Path\n",
    "import pandas as pd\n",
    "from datasets import single_label_multiclass_annotated_study_design, enrich_annotations, annotations_with_specter_embeddings\n",
    "\n",
    "from datetime import datetime\n",
    "import matplotlib.pyplot as plt\n",
    "%matplotlib inline\n",
    "%load_ext autoreload\n",
    "%autoreload 2"
   ]
  },
  {
   "cell_type": "code",
   "execution_count": 3,
   "metadata": {},
   "outputs": [],
   "source": [
    "\n",
    "data_dir = Path('/media/wwymak/Storage/coronawhy/nlp_datasets')\n",
    "annotations_filepath = (data_dir / 'cord19_study_design_labelled' / 'design.csv')\n",
    "metadata_filepath   = data_dir/'metadata.csv.zip'\n",
    "processed_article_folder = data_dir / 'v8'/ 'processed_text'\n",
    "annotations_raw = single_label_multiclass_annotated_study_design(annotations_filepath, metadata_filepath)\n",
    "annotations_with_specter_df = annotations_with_specter_embeddings(annotations_raw,data_dir/ 'cord_19_specter_embeddings_4_17.csv.zip' )"
   ]
  },
  {
   "cell_type": "code",
   "execution_count": null,
   "metadata": {},
   "outputs": [],
   "source": []
  }
 ],
 "metadata": {
  "kernelspec": {
   "display_name": "Python [conda env:immo-ml]",
   "language": "python",
   "name": "conda-env-immo-ml-py"
  },
  "language_info": {
   "codemirror_mode": {
    "name": "ipython",
    "version": 3
   },
   "file_extension": ".py",
   "mimetype": "text/x-python",
   "name": "python",
   "nbconvert_exporter": "python",
   "pygments_lexer": "ipython3",
   "version": "3.7.6"
  }
 },
 "nbformat": 4,
 "nbformat_minor": 2
}
